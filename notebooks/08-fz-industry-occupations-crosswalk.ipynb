{
 "cells": [
  {
   "cell_type": "markdown",
   "source": [
    "# Industry-occupation crosswalk\n",
    "Felix Zaussinger | 10.06.2021\n",
    "\n",
    "## Core Analysis Goal(s)\n",
    "1. Create a crosswalk that links US industry-occupation matrix with Exiobase\n",
    "industry-level forecasts to obtain granular occupational changes\n",
    "\n",
    "## Key Insight(s)\n",
    "1."
   ],
   "metadata": {
    "collapsed": false,
    "pycharm": {
     "name": "#%% md\n"
    }
   }
  },
  {
   "cell_type": "code",
   "execution_count": 2,
   "metadata": {
    "collapsed": true
   },
   "outputs": [],
   "source": [
    "import os\n",
    "import sys\n",
    "import logging\n",
    "from pathlib import Path\n",
    "\n",
    "import numpy as np\n",
    "import scipy as sp\n",
    "import statsmodels.api as sm\n",
    "from statsmodels.formula.api import ols\n",
    "\n",
    "%load_ext autoreload\n",
    "%autoreload 2\n",
    "\n",
    "import matplotlib as mpl\n",
    "import matplotlib.pyplot as plt\n",
    "%matplotlib inline\n",
    "%config InlineBackend.figure_format = 'retina'\n",
    "\n",
    "import seaborn as sns\n",
    "sns.set_context(\"poster\")\n",
    "sns.set(rc={'figure.figsize': (16, 9.)})\n",
    "sns.set_style(\"ticks\")\n",
    "\n",
    "import pandas as pd\n",
    "pd.set_option(\"display.max_rows\", 120)\n",
    "pd.set_option(\"display.max_columns\", 120)\n",
    "\n",
    "logging.basicConfig(level=logging.INFO, stream=sys.stdout)"
   ]
  },
  {
   "cell_type": "markdown",
   "source": [
    "Define directory structure"
   ],
   "metadata": {
    "collapsed": false,
    "pycharm": {
     "name": "#%% md\n"
    }
   }
  },
  {
   "cell_type": "code",
   "execution_count": 3,
   "outputs": [],
   "source": [
    "# project directory\n",
    "abspath = os.path.abspath('')\n",
    "project_dir = str(Path(abspath).parents[0])\n",
    "\n",
    "# sub-directories\n",
    "data_raw = os.path.join(project_dir, \"data\", \"raw\")\n",
    "data_interim = os.path.join(project_dir, \"data\", \"interim\")\n",
    "data_processed = os.path.join(project_dir, \"data\", \"processed\")\n",
    "figure_dir = os.path.join(project_dir, \"reports\", \"figures\")"
   ],
   "metadata": {
    "collapsed": false,
    "pycharm": {
     "name": "#%%\n"
    }
   }
  },
  {
   "cell_type": "markdown",
   "source": [
    "### Step 1: Industry-specific occupational employment (US)"
   ],
   "metadata": {
    "collapsed": false,
    "pycharm": {
     "name": "#%% md\n"
    }
   }
  },
  {
   "cell_type": "code",
   "execution_count": 5,
   "outputs": [],
   "source": [
    "fpath_oews = os.path.join(\n",
    "    data_raw,\n",
    "    \"labour_market_data\",\n",
    "    \"us_oews_survey_industry_occupations_matrix_2020.xlsx\"\n",
    ")\n",
    "\n",
    "ind_occ_matrix = pd.read_excel(fpath_oews, sheet_name=\"All May 2020 data\")"
   ],
   "metadata": {
    "collapsed": false,
    "pycharm": {
     "name": "#%%\n"
    }
   }
  },
  {
   "cell_type": "code",
   "execution_count": 12,
   "outputs": [
    {
     "data": {
      "text/plain": "        AREA AREA_TITLE  AREA_TYPE PRIM_STATE   NAICS  \\\n0         99       U.S.          1         US  000000   \n1         99       U.S.          1         US  000000   \n2         99       U.S.          1         US  000000   \n3         99       U.S.          1         US  000000   \n4         99       U.S.          1         US  000000   \n...      ...        ...        ...        ...     ...   \n169256    99       U.S.          1         US  5320A1   \n169257    99       U.S.          1         US  5320A1   \n169258    99       U.S.          1         US  5320A1   \n169259    99       U.S.          1         US  5320A1   \n169260    99       U.S.          1         US  5320A1   \n\n                                              NAICS_TITLE         I_GROUP  \\\n0                                          Cross-industry  cross-industry   \n1                                          Cross-industry  cross-industry   \n2                                          Cross-industry  cross-industry   \n3                                          Cross-industry  cross-industry   \n4                                          Cross-industry  cross-industry   \n...                                                   ...             ...   \n169256  Rental and Leasing Services (5322, 5323, and 5...         4-digit   \n169257  Rental and Leasing Services (5322, 5323, and 5...         4-digit   \n169258  Rental and Leasing Services (5322, 5323, and 5...         4-digit   \n169259  Rental and Leasing Services (5322, 5323, and 5...         4-digit   \n169260  Rental and Leasing Services (5322, 5323, and 5...         4-digit   \n\n        OWN_CODE OCC_CODE                                OCC_TITLE   O_GROUP  \\\n0           1235  00-0000                          All Occupations     total   \n1           1235  11-0000                   Management Occupations     major   \n2           1235  11-1000                           Top Executives     minor   \n3           1235  11-1010                         Chief Executives     broad   \n4           1235  11-1011                         Chief Executives  detailed   \n...          ...      ...                                      ...       ...   \n169256         5  53-7065               Stockers and Order Fillers  detailed   \n169257         5  53-7070                Pumping Station Operators     broad   \n169258         5  53-7072  Pump Operators, Except Wellhead Pumpers  detailed   \n169259         5  53-7190    Miscellaneous Material Moving Workers     broad   \n169260         5  53-7199       Material Moving Workers, All Other  detailed   \n\n          TOT_EMP EMP_PRSE JOBS_1000 LOC_QUOTIENT PCT_TOTAL H_MEAN  A_MEAN  \\\n0       139099570      0.1       NaN          NaN       NaN  27.07   56310   \n1         7947300      0.2       NaN          NaN       NaN  60.81  126480   \n2         2601070      0.4       NaN          NaN       NaN  62.46  129920   \n3          202360        1       NaN          NaN       NaN  95.12  197840   \n4          202360        1       NaN          NaN       NaN  95.12  197840   \n...           ...      ...       ...          ...       ...    ...     ...   \n169256       3360      8.8       NaN          NaN      1.08  15.69   32630   \n169257       1200     14.8       NaN          NaN      0.38  22.46   46720   \n169258       1190     14.8       NaN          NaN      0.38  22.46   46710   \n169259         50     34.6       NaN          NaN      0.02  18.67   38840   \n169260         50     34.6       NaN          NaN      0.02  18.67   38840   \n\n       MEAN_PRSE H_PCT10 H_PCT25 H_MEDIAN H_PCT75 H_PCT90 A_PCT10 A_PCT25  \\\n0            0.1   10.97   13.95    20.17   32.41   50.99   22810   29020   \n1            0.2   24.84    35.7    52.77   76.71       #   51670   74250   \n2            0.2   21.41   32.57    51.05   80.73       #   44530   67740   \n3            0.5   30.18   55.06     89.4       #       #   62780  114530   \n4            0.5   30.18   55.06     89.4       #       #   62780  114530   \n...          ...     ...     ...      ...     ...     ...     ...     ...   \n169256       2.2   10.28   12.15    14.71   18.79   23.24   21380   25280   \n169257       8.4   14.08   15.96    20.27   25.65   36.21   29290   33200   \n169258       8.4   14.08   15.96    20.26   25.64   36.22   29280   33200   \n169259       7.3   12.94   14.43     17.7    22.7   26.18   26920   30020   \n169260       7.3   12.94   14.43     17.7    22.7   26.18   26920   30020   \n\n       A_MEDIAN A_PCT75 A_PCT90 ANNUAL HOURLY  \n0         41950   67410  106050    NaN    NaN  \n1        109760  159550       #    NaN    NaN  \n2        106180  167930       #    NaN    NaN  \n3        185950       #       #    NaN    NaN  \n4        185950       #       #    NaN    NaN  \n...         ...     ...     ...    ...    ...  \n169256    30590   39070   48330    NaN    NaN  \n169257    42150   53350   75330    NaN    NaN  \n169258    42130   53330   75340    NaN    NaN  \n169259    36820   47210   54450    NaN    NaN  \n169260    36820   47210   54450    NaN    NaN  \n\n[169261 rows x 31 columns]",
      "text/html": "<div>\n<style scoped>\n    .dataframe tbody tr th:only-of-type {\n        vertical-align: middle;\n    }\n\n    .dataframe tbody tr th {\n        vertical-align: top;\n    }\n\n    .dataframe thead th {\n        text-align: right;\n    }\n</style>\n<table border=\"1\" class=\"dataframe\">\n  <thead>\n    <tr style=\"text-align: right;\">\n      <th></th>\n      <th>AREA</th>\n      <th>AREA_TITLE</th>\n      <th>AREA_TYPE</th>\n      <th>PRIM_STATE</th>\n      <th>NAICS</th>\n      <th>NAICS_TITLE</th>\n      <th>I_GROUP</th>\n      <th>OWN_CODE</th>\n      <th>OCC_CODE</th>\n      <th>OCC_TITLE</th>\n      <th>O_GROUP</th>\n      <th>TOT_EMP</th>\n      <th>EMP_PRSE</th>\n      <th>JOBS_1000</th>\n      <th>LOC_QUOTIENT</th>\n      <th>PCT_TOTAL</th>\n      <th>H_MEAN</th>\n      <th>A_MEAN</th>\n      <th>MEAN_PRSE</th>\n      <th>H_PCT10</th>\n      <th>H_PCT25</th>\n      <th>H_MEDIAN</th>\n      <th>H_PCT75</th>\n      <th>H_PCT90</th>\n      <th>A_PCT10</th>\n      <th>A_PCT25</th>\n      <th>A_MEDIAN</th>\n      <th>A_PCT75</th>\n      <th>A_PCT90</th>\n      <th>ANNUAL</th>\n      <th>HOURLY</th>\n    </tr>\n  </thead>\n  <tbody>\n    <tr>\n      <th>0</th>\n      <td>99</td>\n      <td>U.S.</td>\n      <td>1</td>\n      <td>US</td>\n      <td>000000</td>\n      <td>Cross-industry</td>\n      <td>cross-industry</td>\n      <td>1235</td>\n      <td>00-0000</td>\n      <td>All Occupations</td>\n      <td>total</td>\n      <td>139099570</td>\n      <td>0.1</td>\n      <td>NaN</td>\n      <td>NaN</td>\n      <td>NaN</td>\n      <td>27.07</td>\n      <td>56310</td>\n      <td>0.1</td>\n      <td>10.97</td>\n      <td>13.95</td>\n      <td>20.17</td>\n      <td>32.41</td>\n      <td>50.99</td>\n      <td>22810</td>\n      <td>29020</td>\n      <td>41950</td>\n      <td>67410</td>\n      <td>106050</td>\n      <td>NaN</td>\n      <td>NaN</td>\n    </tr>\n    <tr>\n      <th>1</th>\n      <td>99</td>\n      <td>U.S.</td>\n      <td>1</td>\n      <td>US</td>\n      <td>000000</td>\n      <td>Cross-industry</td>\n      <td>cross-industry</td>\n      <td>1235</td>\n      <td>11-0000</td>\n      <td>Management Occupations</td>\n      <td>major</td>\n      <td>7947300</td>\n      <td>0.2</td>\n      <td>NaN</td>\n      <td>NaN</td>\n      <td>NaN</td>\n      <td>60.81</td>\n      <td>126480</td>\n      <td>0.2</td>\n      <td>24.84</td>\n      <td>35.7</td>\n      <td>52.77</td>\n      <td>76.71</td>\n      <td>#</td>\n      <td>51670</td>\n      <td>74250</td>\n      <td>109760</td>\n      <td>159550</td>\n      <td>#</td>\n      <td>NaN</td>\n      <td>NaN</td>\n    </tr>\n    <tr>\n      <th>2</th>\n      <td>99</td>\n      <td>U.S.</td>\n      <td>1</td>\n      <td>US</td>\n      <td>000000</td>\n      <td>Cross-industry</td>\n      <td>cross-industry</td>\n      <td>1235</td>\n      <td>11-1000</td>\n      <td>Top Executives</td>\n      <td>minor</td>\n      <td>2601070</td>\n      <td>0.4</td>\n      <td>NaN</td>\n      <td>NaN</td>\n      <td>NaN</td>\n      <td>62.46</td>\n      <td>129920</td>\n      <td>0.2</td>\n      <td>21.41</td>\n      <td>32.57</td>\n      <td>51.05</td>\n      <td>80.73</td>\n      <td>#</td>\n      <td>44530</td>\n      <td>67740</td>\n      <td>106180</td>\n      <td>167930</td>\n      <td>#</td>\n      <td>NaN</td>\n      <td>NaN</td>\n    </tr>\n    <tr>\n      <th>3</th>\n      <td>99</td>\n      <td>U.S.</td>\n      <td>1</td>\n      <td>US</td>\n      <td>000000</td>\n      <td>Cross-industry</td>\n      <td>cross-industry</td>\n      <td>1235</td>\n      <td>11-1010</td>\n      <td>Chief Executives</td>\n      <td>broad</td>\n      <td>202360</td>\n      <td>1</td>\n      <td>NaN</td>\n      <td>NaN</td>\n      <td>NaN</td>\n      <td>95.12</td>\n      <td>197840</td>\n      <td>0.5</td>\n      <td>30.18</td>\n      <td>55.06</td>\n      <td>89.4</td>\n      <td>#</td>\n      <td>#</td>\n      <td>62780</td>\n      <td>114530</td>\n      <td>185950</td>\n      <td>#</td>\n      <td>#</td>\n      <td>NaN</td>\n      <td>NaN</td>\n    </tr>\n    <tr>\n      <th>4</th>\n      <td>99</td>\n      <td>U.S.</td>\n      <td>1</td>\n      <td>US</td>\n      <td>000000</td>\n      <td>Cross-industry</td>\n      <td>cross-industry</td>\n      <td>1235</td>\n      <td>11-1011</td>\n      <td>Chief Executives</td>\n      <td>detailed</td>\n      <td>202360</td>\n      <td>1</td>\n      <td>NaN</td>\n      <td>NaN</td>\n      <td>NaN</td>\n      <td>95.12</td>\n      <td>197840</td>\n      <td>0.5</td>\n      <td>30.18</td>\n      <td>55.06</td>\n      <td>89.4</td>\n      <td>#</td>\n      <td>#</td>\n      <td>62780</td>\n      <td>114530</td>\n      <td>185950</td>\n      <td>#</td>\n      <td>#</td>\n      <td>NaN</td>\n      <td>NaN</td>\n    </tr>\n    <tr>\n      <th>...</th>\n      <td>...</td>\n      <td>...</td>\n      <td>...</td>\n      <td>...</td>\n      <td>...</td>\n      <td>...</td>\n      <td>...</td>\n      <td>...</td>\n      <td>...</td>\n      <td>...</td>\n      <td>...</td>\n      <td>...</td>\n      <td>...</td>\n      <td>...</td>\n      <td>...</td>\n      <td>...</td>\n      <td>...</td>\n      <td>...</td>\n      <td>...</td>\n      <td>...</td>\n      <td>...</td>\n      <td>...</td>\n      <td>...</td>\n      <td>...</td>\n      <td>...</td>\n      <td>...</td>\n      <td>...</td>\n      <td>...</td>\n      <td>...</td>\n      <td>...</td>\n      <td>...</td>\n    </tr>\n    <tr>\n      <th>169256</th>\n      <td>99</td>\n      <td>U.S.</td>\n      <td>1</td>\n      <td>US</td>\n      <td>5320A1</td>\n      <td>Rental and Leasing Services (5322, 5323, and 5...</td>\n      <td>4-digit</td>\n      <td>5</td>\n      <td>53-7065</td>\n      <td>Stockers and Order Fillers</td>\n      <td>detailed</td>\n      <td>3360</td>\n      <td>8.8</td>\n      <td>NaN</td>\n      <td>NaN</td>\n      <td>1.08</td>\n      <td>15.69</td>\n      <td>32630</td>\n      <td>2.2</td>\n      <td>10.28</td>\n      <td>12.15</td>\n      <td>14.71</td>\n      <td>18.79</td>\n      <td>23.24</td>\n      <td>21380</td>\n      <td>25280</td>\n      <td>30590</td>\n      <td>39070</td>\n      <td>48330</td>\n      <td>NaN</td>\n      <td>NaN</td>\n    </tr>\n    <tr>\n      <th>169257</th>\n      <td>99</td>\n      <td>U.S.</td>\n      <td>1</td>\n      <td>US</td>\n      <td>5320A1</td>\n      <td>Rental and Leasing Services (5322, 5323, and 5...</td>\n      <td>4-digit</td>\n      <td>5</td>\n      <td>53-7070</td>\n      <td>Pumping Station Operators</td>\n      <td>broad</td>\n      <td>1200</td>\n      <td>14.8</td>\n      <td>NaN</td>\n      <td>NaN</td>\n      <td>0.38</td>\n      <td>22.46</td>\n      <td>46720</td>\n      <td>8.4</td>\n      <td>14.08</td>\n      <td>15.96</td>\n      <td>20.27</td>\n      <td>25.65</td>\n      <td>36.21</td>\n      <td>29290</td>\n      <td>33200</td>\n      <td>42150</td>\n      <td>53350</td>\n      <td>75330</td>\n      <td>NaN</td>\n      <td>NaN</td>\n    </tr>\n    <tr>\n      <th>169258</th>\n      <td>99</td>\n      <td>U.S.</td>\n      <td>1</td>\n      <td>US</td>\n      <td>5320A1</td>\n      <td>Rental and Leasing Services (5322, 5323, and 5...</td>\n      <td>4-digit</td>\n      <td>5</td>\n      <td>53-7072</td>\n      <td>Pump Operators, Except Wellhead Pumpers</td>\n      <td>detailed</td>\n      <td>1190</td>\n      <td>14.8</td>\n      <td>NaN</td>\n      <td>NaN</td>\n      <td>0.38</td>\n      <td>22.46</td>\n      <td>46710</td>\n      <td>8.4</td>\n      <td>14.08</td>\n      <td>15.96</td>\n      <td>20.26</td>\n      <td>25.64</td>\n      <td>36.22</td>\n      <td>29280</td>\n      <td>33200</td>\n      <td>42130</td>\n      <td>53330</td>\n      <td>75340</td>\n      <td>NaN</td>\n      <td>NaN</td>\n    </tr>\n    <tr>\n      <th>169259</th>\n      <td>99</td>\n      <td>U.S.</td>\n      <td>1</td>\n      <td>US</td>\n      <td>5320A1</td>\n      <td>Rental and Leasing Services (5322, 5323, and 5...</td>\n      <td>4-digit</td>\n      <td>5</td>\n      <td>53-7190</td>\n      <td>Miscellaneous Material Moving Workers</td>\n      <td>broad</td>\n      <td>50</td>\n      <td>34.6</td>\n      <td>NaN</td>\n      <td>NaN</td>\n      <td>0.02</td>\n      <td>18.67</td>\n      <td>38840</td>\n      <td>7.3</td>\n      <td>12.94</td>\n      <td>14.43</td>\n      <td>17.7</td>\n      <td>22.7</td>\n      <td>26.18</td>\n      <td>26920</td>\n      <td>30020</td>\n      <td>36820</td>\n      <td>47210</td>\n      <td>54450</td>\n      <td>NaN</td>\n      <td>NaN</td>\n    </tr>\n    <tr>\n      <th>169260</th>\n      <td>99</td>\n      <td>U.S.</td>\n      <td>1</td>\n      <td>US</td>\n      <td>5320A1</td>\n      <td>Rental and Leasing Services (5322, 5323, and 5...</td>\n      <td>4-digit</td>\n      <td>5</td>\n      <td>53-7199</td>\n      <td>Material Moving Workers, All Other</td>\n      <td>detailed</td>\n      <td>50</td>\n      <td>34.6</td>\n      <td>NaN</td>\n      <td>NaN</td>\n      <td>0.02</td>\n      <td>18.67</td>\n      <td>38840</td>\n      <td>7.3</td>\n      <td>12.94</td>\n      <td>14.43</td>\n      <td>17.7</td>\n      <td>22.7</td>\n      <td>26.18</td>\n      <td>26920</td>\n      <td>30020</td>\n      <td>36820</td>\n      <td>47210</td>\n      <td>54450</td>\n      <td>NaN</td>\n      <td>NaN</td>\n    </tr>\n  </tbody>\n</table>\n<p>169261 rows × 31 columns</p>\n</div>"
     },
     "execution_count": 12,
     "metadata": {},
     "output_type": "execute_result"
    }
   ],
   "source": [
    "ind_occ_matrix = ind_occ_matrix.query(\"AREA_TITLE == 'U.S.'\")"
   ],
   "metadata": {
    "collapsed": false,
    "pycharm": {
     "name": "#%%\n"
    }
   }
  },
  {
   "cell_type": "code",
   "execution_count": 16,
   "outputs": [
    {
     "data": {
      "text/plain": "NAICS\n000000    1329\n000001    1310\n11         304\n113000     108\n113300     108\n          ... \n999101     684\n999200     867\n999201    1024\n999300    1053\n999301    1090\nName: OCC_CODE, Length: 420, dtype: int64"
     },
     "execution_count": 16,
     "metadata": {},
     "output_type": "execute_result"
    }
   ],
   "source": [
    "ind_occ_matrix.groupby(\"NAICS\")[\"OCC_CODE\"].count()"
   ],
   "metadata": {
    "collapsed": false,
    "pycharm": {
     "name": "#%%\n"
    }
   }
  },
  {
   "cell_type": "code",
   "execution_count": 22,
   "outputs": [
    {
     "data": {
      "text/plain": "array(['000000', '000001', '11', '21', '22', '23', '42', '51', '52', '53',\n       '54', '55', '56', '61', '62', '71', '72', '81', '999200', '999300',\n       '113000', '113300', '115000', '115100', '115200', '211000',\n       '211100', '212000', '212100', '212200', '212300', '213000',\n       '213100', '221000', '221100', '221111', '221112', '221113',\n       '221114', '221115', '221116', '221117', '221118', '221200',\n       '221300', '236000', '236100', '236200', '237000', '237100',\n       '237130', '237200', '237300', '237900', '238000', '238100',\n       '238110', '238140', '238160', '238200', '238210', '238220',\n       '238290', '238300', '238310', '238320', '238900', '311000',\n       '311100', '311200', '311300', '311400', '311500', '311600',\n       '311700', '311800', '311900', '312000', '312100', '312200',\n       '313000', '313100', '313200', '313300', '314000', '314100',\n       '314900', '315000', '315100', '315200', '315900', '316000',\n       '316100', '316200', '316900', '321000', '321100', '321200',\n       '321900', '322000', '322100', '322200', '323000', '323100',\n       '324000', '324100', '325000', '325400', '326000', '326100',\n       '326200', '327000', '331000', '331100', '331200', '331300',\n       '331400', '331500', '332000', '332700', '332710', '332720',\n       '332800', '333000', '333300', '333500', '333600', '334000',\n       '334100', '334200', '334300', '334400', '334500', '334600',\n       '335000', '335100', '335200', '335300', '335900', '336000',\n       '336100', '336200', '336300', '336400', '336500', '336600',\n       '336900', '337000', '337900', '339000', '339100', '339900',\n       '339910', '423000', '423100', '423400', '423800', '423820',\n       '424000', '424300', '424500', '425000', '425100', '441000',\n       '441100', '441200', '441300', '442000', '442100', '442200',\n       '443000', '443100', '444000', '444100', '444200', '445000',\n       '445300', '446000', '446100', '446110', '447000', '447100',\n       '448000', '448100', '448200', '448300', '451000', '451100',\n       '451110', '451200', '452000', '453000', '453100', '453900',\n       '454000', '454100', '454200', '454300', '481000', '481100',\n       '481200', '482000', '482100', '483000', '483100', '483200',\n       '484000', '485000', '485100', '485200', '485300', '485400',\n       '485500', '485900', '486000', '486100', '486200', '486900',\n       '487000', '487100', '487200', '487900', '488000', '488100',\n       '488200', '488300', '488400', '488500', '488900', '491000',\n       '491100', '492000', '492100', '492200', '493000', '493100',\n       '511000', '511100', '511110', '511200', '512000', '512100',\n       '512130', '512200', '515000', '515100', '515110', '515120',\n       '515200', '517000', '518000', '518200', '519000', '519100',\n       '521000', '521100', '522000', '522200', '522290', '523000',\n       '524000', '524100', '524114', '524120', '524200', '524210',\n       '524290', '525000', '525100', '525900', '531000', '532000',\n       '532100', '533000', '533100', '541000', '541100', '541200',\n       '541300', '541330', '541380', '541400', '541500', '541600',\n       '541700', '541710', '541720', '541800', '541900', '541920',\n       '541940', '551000', '551100', '561000', '561100', '561200',\n       '561300', '561320', '561400', '561500', '561600', '561610',\n       '561620', '561700', '561710', '561730', '561900', '562000',\n       '562100', '562200', '562900', '611000', '611100', '611200',\n       '611300', '611400', '611500', '611600', '611700', '621000',\n       '621100', '621200', '621300', '621310', '621320', '621330',\n       '621340', '621390', '621400', '621420', '621500', '621600',\n       '621900', '621910', '621990', '622000', '622100', '622200',\n       '622300', '623000', '623100', '623200', '623210', '623220',\n       '623300', '623900', '624000', '624100', '624120', '624200',\n       '624300', '624400', '711000', '711100', '711110', '711200',\n       '711300', '711400', '711500', '712000', '712100', '713000',\n       '713100', '713200', '713900', '713940', '721000', '721100',\n       '721120', '721200', '721300', '722000', '722300', '722400',\n       '722500', '722511', '811000', '811100', '811110', '811120',\n       '811190', '811200', '811300', '811400', '812000', '812100',\n       '812200', '812300', '812900', '813000', '813100', '813200',\n       '813300', '813400', '813900', '813930', '99', '999001', '999100',\n       '999101', '999000', '999201', '999301', '31-33', '3250A1',\n       '3250A2', '3320A1', '3320A2', '3330A1', '3370A1', '4230A1',\n       '4240A1', '4240A2', '4240A3', '44-45', '4450A1', '4530A1', '48-49',\n       '5220A1', '5320A1'], dtype=object)"
     },
     "execution_count": 22,
     "metadata": {},
     "output_type": "execute_result"
    }
   ],
   "source": [
    "ind_occ_matrix.NAICS.unique()"
   ],
   "metadata": {
    "collapsed": false,
    "pycharm": {
     "name": "#%%\n"
    }
   }
  },
  {
   "cell_type": "code",
   "execution_count": 21,
   "outputs": [
    {
     "data": {
      "text/plain": "       AREA AREA_TITLE  AREA_TYPE PRIM_STATE   NAICS  \\\n20505    99       U.S.          1         US  221113   \n20506    99       U.S.          1         US  221113   \n20507    99       U.S.          1         US  221113   \n20508    99       U.S.          1         US  221113   \n20509    99       U.S.          1         US  221113   \n...     ...        ...        ...        ...     ...   \n20719    99       U.S.          1         US  221113   \n20720    99       U.S.          1         US  221113   \n20721    99       U.S.          1         US  221113   \n20722    99       U.S.          1         US  221113   \n20723    99       U.S.          1         US  221113   \n\n                             NAICS_TITLE  I_GROUP  OWN_CODE OCC_CODE  \\\n20505  Nuclear Electric Power Generation  6-digit         5  00-0000   \n20506  Nuclear Electric Power Generation  6-digit         5  11-0000   \n20507  Nuclear Electric Power Generation  6-digit         5  11-1000   \n20508  Nuclear Electric Power Generation  6-digit         5  11-1020   \n20509  Nuclear Electric Power Generation  6-digit         5  11-1021   \n...                                  ...      ...       ...      ...   \n20719  Nuclear Electric Power Generation  6-digit         5  53-0000   \n20720  Nuclear Electric Power Generation  6-digit         5  53-7000   \n20721  Nuclear Electric Power Generation  6-digit         5  53-7060   \n20722  Nuclear Electric Power Generation  6-digit         5  53-7062   \n20723  Nuclear Electric Power Generation  6-digit         5  53-7065   \n\n                                               OCC_TITLE   O_GROUP TOT_EMP  \\\n20505                                    All Occupations     total   40080   \n20506                             Management Occupations     major    3560   \n20507                                     Top Executives     minor     300   \n20508                    General and Operations Managers     broad     290   \n20509                    General and Operations Managers  detailed     290   \n...                                                  ...       ...     ...   \n20719     Transportation and Material Moving Occupations     major     350   \n20720                            Material Moving Workers     minor     320   \n20721                       Laborers and Material Movers     broad     250   \n20722  Laborers and Freight, Stock, and Material Move...  detailed     120   \n20723                         Stockers and Order Fillers  detailed     130   \n\n      EMP_PRSE JOBS_1000 LOC_QUOTIENT PCT_TOTAL H_MEAN  A_MEAN MEAN_PRSE  \\\n20505      5.8       NaN          NaN       100  48.63  101150       1.8   \n20506      7.3       NaN          NaN      8.89  74.05  154030       2.7   \n20507      9.7       NaN          NaN      0.76  91.25  189800       4.6   \n20508     10.1       NaN          NaN      0.71     90  187210       4.8   \n20509     10.1       NaN          NaN      0.71     90  187210       4.8   \n...        ...       ...          ...       ...    ...     ...       ...   \n20719      4.4       NaN          NaN      0.86  35.13   73060         3   \n20720      4.7       NaN          NaN      0.79  33.99   70690         3   \n20721      5.2       NaN          NaN      0.61  33.66   70010       3.7   \n20722      6.4       NaN          NaN      0.29  35.36   73550       5.1   \n20723      7.9       NaN          NaN      0.33  32.16   66900       5.6   \n\n      H_PCT10 H_PCT25 H_MEDIAN H_PCT75 H_PCT90 A_PCT10 A_PCT25 A_MEDIAN  \\\n20505   23.61    34.5    47.52   60.33   74.69   49100   71750    98840   \n20506   43.82   56.66    71.07   87.32       #   91140  117860   147830   \n20507   37.73   64.84    83.86       #       #   78470  134860   174420   \n20508   38.42   64.77    82.42       #       #   79920  134720   171430   \n20509   38.42   64.77    82.42       #       #   79920  134720   171430   \n...       ...     ...      ...     ...     ...     ...     ...      ...   \n20719   15.43   29.56     37.3   42.75   49.25   32100   61490    77580   \n20720   14.86   28.16     36.7   41.52   47.42   30900   58580    76330   \n20721   14.01   26.38    36.55   41.54   47.37   29150   54870    76020   \n20722   20.93   26.24    38.17   43.93   48.23   43530   54570    79400   \n20723   12.38   26.65    35.55   39.98    45.4   25750   55440    73940   \n\n      A_PCT75 A_PCT90 ANNUAL HOURLY  \n20505  125500  155360    NaN    NaN  \n20506  181630       #    NaN    NaN  \n20507       #       #    NaN    NaN  \n20508       #       #    NaN    NaN  \n20509       #       #    NaN    NaN  \n...       ...     ...    ...    ...  \n20719   88910  102450    NaN    NaN  \n20720   86360   98630    NaN    NaN  \n20721   86400   98540    NaN    NaN  \n20722   91370  100310    NaN    NaN  \n20723   83160   94420    NaN    NaN  \n\n[219 rows x 31 columns]",
      "text/html": "<div>\n<style scoped>\n    .dataframe tbody tr th:only-of-type {\n        vertical-align: middle;\n    }\n\n    .dataframe tbody tr th {\n        vertical-align: top;\n    }\n\n    .dataframe thead th {\n        text-align: right;\n    }\n</style>\n<table border=\"1\" class=\"dataframe\">\n  <thead>\n    <tr style=\"text-align: right;\">\n      <th></th>\n      <th>AREA</th>\n      <th>AREA_TITLE</th>\n      <th>AREA_TYPE</th>\n      <th>PRIM_STATE</th>\n      <th>NAICS</th>\n      <th>NAICS_TITLE</th>\n      <th>I_GROUP</th>\n      <th>OWN_CODE</th>\n      <th>OCC_CODE</th>\n      <th>OCC_TITLE</th>\n      <th>O_GROUP</th>\n      <th>TOT_EMP</th>\n      <th>EMP_PRSE</th>\n      <th>JOBS_1000</th>\n      <th>LOC_QUOTIENT</th>\n      <th>PCT_TOTAL</th>\n      <th>H_MEAN</th>\n      <th>A_MEAN</th>\n      <th>MEAN_PRSE</th>\n      <th>H_PCT10</th>\n      <th>H_PCT25</th>\n      <th>H_MEDIAN</th>\n      <th>H_PCT75</th>\n      <th>H_PCT90</th>\n      <th>A_PCT10</th>\n      <th>A_PCT25</th>\n      <th>A_MEDIAN</th>\n      <th>A_PCT75</th>\n      <th>A_PCT90</th>\n      <th>ANNUAL</th>\n      <th>HOURLY</th>\n    </tr>\n  </thead>\n  <tbody>\n    <tr>\n      <th>20505</th>\n      <td>99</td>\n      <td>U.S.</td>\n      <td>1</td>\n      <td>US</td>\n      <td>221113</td>\n      <td>Nuclear Electric Power Generation</td>\n      <td>6-digit</td>\n      <td>5</td>\n      <td>00-0000</td>\n      <td>All Occupations</td>\n      <td>total</td>\n      <td>40080</td>\n      <td>5.8</td>\n      <td>NaN</td>\n      <td>NaN</td>\n      <td>100</td>\n      <td>48.63</td>\n      <td>101150</td>\n      <td>1.8</td>\n      <td>23.61</td>\n      <td>34.5</td>\n      <td>47.52</td>\n      <td>60.33</td>\n      <td>74.69</td>\n      <td>49100</td>\n      <td>71750</td>\n      <td>98840</td>\n      <td>125500</td>\n      <td>155360</td>\n      <td>NaN</td>\n      <td>NaN</td>\n    </tr>\n    <tr>\n      <th>20506</th>\n      <td>99</td>\n      <td>U.S.</td>\n      <td>1</td>\n      <td>US</td>\n      <td>221113</td>\n      <td>Nuclear Electric Power Generation</td>\n      <td>6-digit</td>\n      <td>5</td>\n      <td>11-0000</td>\n      <td>Management Occupations</td>\n      <td>major</td>\n      <td>3560</td>\n      <td>7.3</td>\n      <td>NaN</td>\n      <td>NaN</td>\n      <td>8.89</td>\n      <td>74.05</td>\n      <td>154030</td>\n      <td>2.7</td>\n      <td>43.82</td>\n      <td>56.66</td>\n      <td>71.07</td>\n      <td>87.32</td>\n      <td>#</td>\n      <td>91140</td>\n      <td>117860</td>\n      <td>147830</td>\n      <td>181630</td>\n      <td>#</td>\n      <td>NaN</td>\n      <td>NaN</td>\n    </tr>\n    <tr>\n      <th>20507</th>\n      <td>99</td>\n      <td>U.S.</td>\n      <td>1</td>\n      <td>US</td>\n      <td>221113</td>\n      <td>Nuclear Electric Power Generation</td>\n      <td>6-digit</td>\n      <td>5</td>\n      <td>11-1000</td>\n      <td>Top Executives</td>\n      <td>minor</td>\n      <td>300</td>\n      <td>9.7</td>\n      <td>NaN</td>\n      <td>NaN</td>\n      <td>0.76</td>\n      <td>91.25</td>\n      <td>189800</td>\n      <td>4.6</td>\n      <td>37.73</td>\n      <td>64.84</td>\n      <td>83.86</td>\n      <td>#</td>\n      <td>#</td>\n      <td>78470</td>\n      <td>134860</td>\n      <td>174420</td>\n      <td>#</td>\n      <td>#</td>\n      <td>NaN</td>\n      <td>NaN</td>\n    </tr>\n    <tr>\n      <th>20508</th>\n      <td>99</td>\n      <td>U.S.</td>\n      <td>1</td>\n      <td>US</td>\n      <td>221113</td>\n      <td>Nuclear Electric Power Generation</td>\n      <td>6-digit</td>\n      <td>5</td>\n      <td>11-1020</td>\n      <td>General and Operations Managers</td>\n      <td>broad</td>\n      <td>290</td>\n      <td>10.1</td>\n      <td>NaN</td>\n      <td>NaN</td>\n      <td>0.71</td>\n      <td>90</td>\n      <td>187210</td>\n      <td>4.8</td>\n      <td>38.42</td>\n      <td>64.77</td>\n      <td>82.42</td>\n      <td>#</td>\n      <td>#</td>\n      <td>79920</td>\n      <td>134720</td>\n      <td>171430</td>\n      <td>#</td>\n      <td>#</td>\n      <td>NaN</td>\n      <td>NaN</td>\n    </tr>\n    <tr>\n      <th>20509</th>\n      <td>99</td>\n      <td>U.S.</td>\n      <td>1</td>\n      <td>US</td>\n      <td>221113</td>\n      <td>Nuclear Electric Power Generation</td>\n      <td>6-digit</td>\n      <td>5</td>\n      <td>11-1021</td>\n      <td>General and Operations Managers</td>\n      <td>detailed</td>\n      <td>290</td>\n      <td>10.1</td>\n      <td>NaN</td>\n      <td>NaN</td>\n      <td>0.71</td>\n      <td>90</td>\n      <td>187210</td>\n      <td>4.8</td>\n      <td>38.42</td>\n      <td>64.77</td>\n      <td>82.42</td>\n      <td>#</td>\n      <td>#</td>\n      <td>79920</td>\n      <td>134720</td>\n      <td>171430</td>\n      <td>#</td>\n      <td>#</td>\n      <td>NaN</td>\n      <td>NaN</td>\n    </tr>\n    <tr>\n      <th>...</th>\n      <td>...</td>\n      <td>...</td>\n      <td>...</td>\n      <td>...</td>\n      <td>...</td>\n      <td>...</td>\n      <td>...</td>\n      <td>...</td>\n      <td>...</td>\n      <td>...</td>\n      <td>...</td>\n      <td>...</td>\n      <td>...</td>\n      <td>...</td>\n      <td>...</td>\n      <td>...</td>\n      <td>...</td>\n      <td>...</td>\n      <td>...</td>\n      <td>...</td>\n      <td>...</td>\n      <td>...</td>\n      <td>...</td>\n      <td>...</td>\n      <td>...</td>\n      <td>...</td>\n      <td>...</td>\n      <td>...</td>\n      <td>...</td>\n      <td>...</td>\n      <td>...</td>\n    </tr>\n    <tr>\n      <th>20719</th>\n      <td>99</td>\n      <td>U.S.</td>\n      <td>1</td>\n      <td>US</td>\n      <td>221113</td>\n      <td>Nuclear Electric Power Generation</td>\n      <td>6-digit</td>\n      <td>5</td>\n      <td>53-0000</td>\n      <td>Transportation and Material Moving Occupations</td>\n      <td>major</td>\n      <td>350</td>\n      <td>4.4</td>\n      <td>NaN</td>\n      <td>NaN</td>\n      <td>0.86</td>\n      <td>35.13</td>\n      <td>73060</td>\n      <td>3</td>\n      <td>15.43</td>\n      <td>29.56</td>\n      <td>37.3</td>\n      <td>42.75</td>\n      <td>49.25</td>\n      <td>32100</td>\n      <td>61490</td>\n      <td>77580</td>\n      <td>88910</td>\n      <td>102450</td>\n      <td>NaN</td>\n      <td>NaN</td>\n    </tr>\n    <tr>\n      <th>20720</th>\n      <td>99</td>\n      <td>U.S.</td>\n      <td>1</td>\n      <td>US</td>\n      <td>221113</td>\n      <td>Nuclear Electric Power Generation</td>\n      <td>6-digit</td>\n      <td>5</td>\n      <td>53-7000</td>\n      <td>Material Moving Workers</td>\n      <td>minor</td>\n      <td>320</td>\n      <td>4.7</td>\n      <td>NaN</td>\n      <td>NaN</td>\n      <td>0.79</td>\n      <td>33.99</td>\n      <td>70690</td>\n      <td>3</td>\n      <td>14.86</td>\n      <td>28.16</td>\n      <td>36.7</td>\n      <td>41.52</td>\n      <td>47.42</td>\n      <td>30900</td>\n      <td>58580</td>\n      <td>76330</td>\n      <td>86360</td>\n      <td>98630</td>\n      <td>NaN</td>\n      <td>NaN</td>\n    </tr>\n    <tr>\n      <th>20721</th>\n      <td>99</td>\n      <td>U.S.</td>\n      <td>1</td>\n      <td>US</td>\n      <td>221113</td>\n      <td>Nuclear Electric Power Generation</td>\n      <td>6-digit</td>\n      <td>5</td>\n      <td>53-7060</td>\n      <td>Laborers and Material Movers</td>\n      <td>broad</td>\n      <td>250</td>\n      <td>5.2</td>\n      <td>NaN</td>\n      <td>NaN</td>\n      <td>0.61</td>\n      <td>33.66</td>\n      <td>70010</td>\n      <td>3.7</td>\n      <td>14.01</td>\n      <td>26.38</td>\n      <td>36.55</td>\n      <td>41.54</td>\n      <td>47.37</td>\n      <td>29150</td>\n      <td>54870</td>\n      <td>76020</td>\n      <td>86400</td>\n      <td>98540</td>\n      <td>NaN</td>\n      <td>NaN</td>\n    </tr>\n    <tr>\n      <th>20722</th>\n      <td>99</td>\n      <td>U.S.</td>\n      <td>1</td>\n      <td>US</td>\n      <td>221113</td>\n      <td>Nuclear Electric Power Generation</td>\n      <td>6-digit</td>\n      <td>5</td>\n      <td>53-7062</td>\n      <td>Laborers and Freight, Stock, and Material Move...</td>\n      <td>detailed</td>\n      <td>120</td>\n      <td>6.4</td>\n      <td>NaN</td>\n      <td>NaN</td>\n      <td>0.29</td>\n      <td>35.36</td>\n      <td>73550</td>\n      <td>5.1</td>\n      <td>20.93</td>\n      <td>26.24</td>\n      <td>38.17</td>\n      <td>43.93</td>\n      <td>48.23</td>\n      <td>43530</td>\n      <td>54570</td>\n      <td>79400</td>\n      <td>91370</td>\n      <td>100310</td>\n      <td>NaN</td>\n      <td>NaN</td>\n    </tr>\n    <tr>\n      <th>20723</th>\n      <td>99</td>\n      <td>U.S.</td>\n      <td>1</td>\n      <td>US</td>\n      <td>221113</td>\n      <td>Nuclear Electric Power Generation</td>\n      <td>6-digit</td>\n      <td>5</td>\n      <td>53-7065</td>\n      <td>Stockers and Order Fillers</td>\n      <td>detailed</td>\n      <td>130</td>\n      <td>7.9</td>\n      <td>NaN</td>\n      <td>NaN</td>\n      <td>0.33</td>\n      <td>32.16</td>\n      <td>66900</td>\n      <td>5.6</td>\n      <td>12.38</td>\n      <td>26.65</td>\n      <td>35.55</td>\n      <td>39.98</td>\n      <td>45.4</td>\n      <td>25750</td>\n      <td>55440</td>\n      <td>73940</td>\n      <td>83160</td>\n      <td>94420</td>\n      <td>NaN</td>\n      <td>NaN</td>\n    </tr>\n  </tbody>\n</table>\n<p>219 rows × 31 columns</p>\n</div>"
     },
     "execution_count": 21,
     "metadata": {},
     "output_type": "execute_result"
    }
   ],
   "source": [
    "# power generation matches: '221111', '221112', '221113', '221114', '221115', '221116', '221117', '221118'\n",
    "ind_occ_matrix.query(\"NAICS == '221113'\")"
   ],
   "metadata": {
    "collapsed": false,
    "pycharm": {
     "name": "#%%\n"
    }
   }
  }
 ],
 "metadata": {
  "kernelspec": {
   "display_name": "Python 3",
   "language": "python",
   "name": "python3"
  },
  "language_info": {
   "codemirror_mode": {
    "name": "ipython",
    "version": 2
   },
   "file_extension": ".py",
   "mimetype": "text/x-python",
   "name": "python",
   "nbconvert_exporter": "python",
   "pygments_lexer": "ipython2",
   "version": "2.7.6"
  }
 },
 "nbformat": 4,
 "nbformat_minor": 0
}