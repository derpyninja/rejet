{
 "cells": [
  {
   "cell_type": "markdown",
   "source": [
    "# Exploration of Cedefop Skills Forecast 2030 data set\n",
    "Felix Zaussinger | 04.05.2021\n",
    "\n",
    "## Core Analysis Goal(s)\n",
    "1. Understand structure of dataset\n",
    "\n",
    "## Key Insight(s)\n",
    "1.\n",
    "2.\n",
    "3."
   ],
   "metadata": {
    "collapsed": false,
    "pycharm": {
     "name": "#%% md\n"
    }
   }
  },
  {
   "cell_type": "code",
   "execution_count": 1,
   "metadata": {
    "collapsed": true
   },
   "outputs": [],
   "source": [
    "import os\n",
    "import sys\n",
    "import logging\n",
    "from pathlib import Path\n",
    "\n",
    "import numpy as np\n",
    "import scipy as sp\n",
    "import statsmodels.api as sm\n",
    "from statsmodels.formula.api import ols\n",
    "\n",
    "%load_ext autoreload\n",
    "%autoreload 2\n",
    "\n",
    "import matplotlib as mpl\n",
    "import matplotlib.pyplot as plt\n",
    "%matplotlib inline\n",
    "%config InlineBackend.figure_format = 'retina'\n",
    "\n",
    "import seaborn as sns\n",
    "sns.set_context(\"poster\")\n",
    "sns.set(rc={'figure.figsize': (16, 9.)})\n",
    "sns.set_style(\"ticks\")\n",
    "\n",
    "import pandas as pd\n",
    "pd.set_option(\"display.max_rows\", 120)\n",
    "pd.set_option(\"display.max_columns\", 120)\n",
    "\n",
    "logging.basicConfig(level=logging.INFO, stream=sys.stdout)"
   ]
  },
  {
   "cell_type": "markdown",
   "source": [
    "Define directory structure"
   ],
   "metadata": {
    "collapsed": false,
    "pycharm": {
     "name": "#%% md\n"
    }
   }
  },
  {
   "cell_type": "code",
   "execution_count": 119,
   "outputs": [],
   "source": [
    "# project directory\n",
    "abspath = os.path.abspath('')\n",
    "project_dir = str(Path(abspath).parents[0])\n",
    "\n",
    "# sub-directories\n",
    "data_raw = os.path.join(project_dir, \"data\", \"raw\")\n",
    "data_interim = os.path.join(project_dir, \"data\", \"interim\")\n",
    "data_processed = os.path.join(project_dir, \"data\", \"processed\")\n",
    "figure_dir = os.path.join(project_dir, \"plots\")"
   ],
   "metadata": {
    "collapsed": false,
    "pycharm": {
     "name": "#%%\n"
    }
   }
  },
  {
   "cell_type": "markdown",
   "source": [
    "Cedefop Skills Forecast data set components"
   ],
   "metadata": {
    "collapsed": false,
    "pycharm": {
     "name": "#%% md\n"
    }
   }
  },
  {
   "cell_type": "code",
   "execution_count": 132,
   "outputs": [],
   "source": [
    "dtypes_supply = {\n",
    "    \"popLF\": 'category',\n",
    "    \"year\": 'category',\n",
    "    \"country\": 'category',\n",
    "    \"gender\": 'category',\n",
    "    \"ageband\": 'category',\n",
    "    \"qualification\": 'category',\n",
    "    \"adjustment\": 'category',\n",
    "    \"weight\": \"float\"\n",
    "}\n",
    "\n",
    "dtypes_demand = {\n",
    "    \"year\": 'category',\n",
    "    \"country\": 'category',\n",
    "    \"industry\": 'category',\n",
    "    \"occupation\": 'category',\n",
    "    \"qualification\": 'category',\n",
    "    \"adjustment\": 'category',\n",
    "    \"weight\": \"float\"\n",
    "}\n",
    "\n",
    "demand = pd.read_csv(os.path.join(data_interim, \"cedefop_skills_forecast\", \"Demand.csv\"))\n",
    "supply = pd.read_csv(os.path.join(data_interim, \"cedefop_skills_forecast\", \"Supply.csv\"))\n",
    "lookups = pd.read_csv(os.path.join(data_interim, \"cedefop_skills_forecast\", \"lookups.csv\"))"
   ],
   "metadata": {
    "collapsed": false,
    "pycharm": {
     "name": "#%%\n"
    }
   }
  },
  {
   "cell_type": "code",
   "execution_count": 133,
   "outputs": [
    {
     "data": {
      "text/plain": "          year  country  industry  occupation  qualification  adjustment  \\\n0         2000        1         1           1              1           1   \n1         2000        1         1           1              1           2   \n2         2000        1         1           1              2           1   \n3         2000        1         1           1              2           2   \n4         2000        1         1           1              3           1   \n...        ...      ...       ...         ...            ...         ...   \n16609423  2030       33        66          41              1           2   \n16609424  2030       33        66          41              2           1   \n16609425  2030       33        66          41              2           2   \n16609426  2030       33        66          41              3           1   \n16609427  2030       33        66          41              3           2   \n\n               weight  \n0            0.000000  \n1            0.000000  \n2            0.000000  \n3            0.000000  \n4            0.000000  \n...               ...  \n16609423  1285.680494  \n16609424    51.731323  \n16609425    51.731323  \n16609426    12.448825  \n16609427    12.448825  \n\n[16609428 rows x 7 columns]",
      "text/html": "<div>\n<style scoped>\n    .dataframe tbody tr th:only-of-type {\n        vertical-align: middle;\n    }\n\n    .dataframe tbody tr th {\n        vertical-align: top;\n    }\n\n    .dataframe thead th {\n        text-align: right;\n    }\n</style>\n<table border=\"1\" class=\"dataframe\">\n  <thead>\n    <tr style=\"text-align: right;\">\n      <th></th>\n      <th>year</th>\n      <th>country</th>\n      <th>industry</th>\n      <th>occupation</th>\n      <th>qualification</th>\n      <th>adjustment</th>\n      <th>weight</th>\n    </tr>\n  </thead>\n  <tbody>\n    <tr>\n      <th>0</th>\n      <td>2000</td>\n      <td>1</td>\n      <td>1</td>\n      <td>1</td>\n      <td>1</td>\n      <td>1</td>\n      <td>0.000000</td>\n    </tr>\n    <tr>\n      <th>1</th>\n      <td>2000</td>\n      <td>1</td>\n      <td>1</td>\n      <td>1</td>\n      <td>1</td>\n      <td>2</td>\n      <td>0.000000</td>\n    </tr>\n    <tr>\n      <th>2</th>\n      <td>2000</td>\n      <td>1</td>\n      <td>1</td>\n      <td>1</td>\n      <td>2</td>\n      <td>1</td>\n      <td>0.000000</td>\n    </tr>\n    <tr>\n      <th>3</th>\n      <td>2000</td>\n      <td>1</td>\n      <td>1</td>\n      <td>1</td>\n      <td>2</td>\n      <td>2</td>\n      <td>0.000000</td>\n    </tr>\n    <tr>\n      <th>4</th>\n      <td>2000</td>\n      <td>1</td>\n      <td>1</td>\n      <td>1</td>\n      <td>3</td>\n      <td>1</td>\n      <td>0.000000</td>\n    </tr>\n    <tr>\n      <th>...</th>\n      <td>...</td>\n      <td>...</td>\n      <td>...</td>\n      <td>...</td>\n      <td>...</td>\n      <td>...</td>\n      <td>...</td>\n    </tr>\n    <tr>\n      <th>16609423</th>\n      <td>2030</td>\n      <td>33</td>\n      <td>66</td>\n      <td>41</td>\n      <td>1</td>\n      <td>2</td>\n      <td>1285.680494</td>\n    </tr>\n    <tr>\n      <th>16609424</th>\n      <td>2030</td>\n      <td>33</td>\n      <td>66</td>\n      <td>41</td>\n      <td>2</td>\n      <td>1</td>\n      <td>51.731323</td>\n    </tr>\n    <tr>\n      <th>16609425</th>\n      <td>2030</td>\n      <td>33</td>\n      <td>66</td>\n      <td>41</td>\n      <td>2</td>\n      <td>2</td>\n      <td>51.731323</td>\n    </tr>\n    <tr>\n      <th>16609426</th>\n      <td>2030</td>\n      <td>33</td>\n      <td>66</td>\n      <td>41</td>\n      <td>3</td>\n      <td>1</td>\n      <td>12.448825</td>\n    </tr>\n    <tr>\n      <th>16609427</th>\n      <td>2030</td>\n      <td>33</td>\n      <td>66</td>\n      <td>41</td>\n      <td>3</td>\n      <td>2</td>\n      <td>12.448825</td>\n    </tr>\n  </tbody>\n</table>\n<p>16609428 rows × 7 columns</p>\n</div>"
     },
     "execution_count": 133,
     "metadata": {},
     "output_type": "execute_result"
    }
   ],
   "source": [
    "supply\n",
    "demand"
   ],
   "metadata": {
    "collapsed": false,
    "pycharm": {
     "name": "#%%\n"
    }
   }
  },
  {
   "cell_type": "markdown",
   "source": [
    "Decode supply and demand data using lookup table"
   ],
   "metadata": {
    "collapsed": false,
    "pycharm": {
     "name": "#%% md\n"
    }
   }
  },
  {
   "cell_type": "code",
   "execution_count": 128,
   "outputs": [
    {
     "name": "stdout",
     "output_type": "stream",
     "text": [
      "popLF\n",
      "year\n",
      "country\n",
      "gender\n",
      "ageband\n",
      "qualification\n",
      "adjustment\n",
      "weight\n",
      "<class 'pandas.core.frame.DataFrame'>\n",
      "RangeIndex: 294624 entries, 0 to 294623\n",
      "Data columns (total 8 columns):\n",
      " #   Column         Non-Null Count   Dtype   \n",
      "---  ------         --------------   -----   \n",
      " 0   popLF          294624 non-null  category\n",
      " 1   year           294624 non-null  category\n",
      " 2   country        294624 non-null  category\n",
      " 3   gender         294624 non-null  category\n",
      " 4   ageband        294624 non-null  category\n",
      " 5   qualification  294624 non-null  category\n",
      " 6   adjustment     294624 non-null  category\n",
      " 7   weight         294624 non-null  float64 \n",
      "dtypes: category(7), float64(1)\n",
      "memory usage: 4.2 MB\n"
     ]
    }
   ],
   "source": [
    "supply_decoded = supply.copy()\n",
    "for col in supply_decoded.columns:\n",
    "    print(col)\n",
    "    renamer = dict(zip(\n",
    "        lookups[lookups.variable == col].drop(columns=\"variable\").value.values,\n",
    "        lookups[lookups.variable == col].drop(columns=\"variable\").name.values\n",
    "    ))\n",
    "\n",
    "    supply_decoded[col] = supply_decoded[col].replace(to_replace=renamer)\n",
    "\n",
    "supply_decoded = supply_decoded.astype(dtypes_supply)\n",
    "supply_decoded.to_csv(os.path.join(data_processed, \"cedefop_skills_forecast\", \"Supply_decoded.csv\"))\n",
    "supply_decoded.info()"
   ],
   "metadata": {
    "collapsed": false,
    "pycharm": {
     "name": "#%%\n"
    }
   }
  },
  {
   "cell_type": "code",
   "execution_count": 134,
   "outputs": [
    {
     "name": "stdout",
     "output_type": "stream",
     "text": [
      "year\n",
      "country\n",
      "industry\n",
      "occupation\n",
      "qualification\n",
      "adjustment\n",
      "weight\n",
      "<class 'pandas.core.frame.DataFrame'>\n",
      "RangeIndex: 16609428 entries, 0 to 16609427\n",
      "Data columns (total 7 columns):\n",
      " #   Column         Dtype   \n",
      "---  ------         -----   \n",
      " 0   year           category\n",
      " 1   country        category\n",
      " 2   industry       category\n",
      " 3   occupation     category\n",
      " 4   qualification  category\n",
      " 5   adjustment     category\n",
      " 6   weight         float64 \n",
      "dtypes: category(6), float64(1)\n",
      "memory usage: 221.8 MB\n"
     ]
    }
   ],
   "source": [
    "demand_decoded = demand.copy()\n",
    "for col in demand_decoded.columns:\n",
    "    print(col)\n",
    "    renamer = dict(zip(\n",
    "        lookups[lookups.variable == col].drop(columns=\"variable\").value.values,\n",
    "        lookups[lookups.variable == col].drop(columns=\"variable\").name.values\n",
    "    ))\n",
    "\n",
    "    demand_decoded[col] = demand_decoded[col].replace(to_replace=renamer)\n",
    "\n",
    "demand_decoded = demand_decoded.astype(dtypes_demand)\n",
    "demand_decoded.to_csv(os.path.join(data_processed, \"cedefop_skills_forecast\", \"Demand_decoded.csv\"))\n",
    "demand_decoded.info()"
   ],
   "metadata": {
    "collapsed": false,
    "pycharm": {
     "name": "#%%\n"
    }
   }
  },
  {
   "cell_type": "code",
   "execution_count": 135,
   "outputs": [],
   "source": [
    "# test = pd.read_csv(os.path.join(data_processed, \"cedefop_skills_forecast\", \"Supply_decoded.csv\"), dtype=dtypes_supply, index_col=0)\n",
    "# test.info()"
   ],
   "metadata": {
    "collapsed": false,
    "pycharm": {
     "name": "#%%\n"
    }
   }
  }
 ],
 "metadata": {
  "kernelspec": {
   "display_name": "Python 3",
   "language": "python",
   "name": "python3"
  },
  "language_info": {
   "codemirror_mode": {
    "name": "ipython",
    "version": 2
   },
   "file_extension": ".py",
   "mimetype": "text/x-python",
   "name": "python",
   "nbconvert_exporter": "python",
   "pygments_lexer": "ipython2",
   "version": "2.7.6"
  }
 },
 "nbformat": 4,
 "nbformat_minor": 0
}