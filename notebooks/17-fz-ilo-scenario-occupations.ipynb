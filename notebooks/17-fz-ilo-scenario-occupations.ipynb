{
 "cells": [
  {
   "cell_type": "markdown",
   "source": [
    "# Create occupation-level plots for ILO Scenario\n",
    "Felix Zaussinger | 20.08.2021\n",
    "\n",
    "## Core Analysis Goal(s)\n",
    "1. Create stacked barplots similar to ILO 2019, page 132\n",
    "2.\n",
    "3.\n",
    "\n",
    "## Key Insight(s)\n",
    "1.\n",
    "2.\n",
    "3."
   ],
   "metadata": {
    "collapsed": false,
    "pycharm": {
     "name": "#%% md\n"
    }
   }
  },
  {
   "cell_type": "code",
   "execution_count": 80,
   "metadata": {
    "collapsed": true
   },
   "outputs": [
    {
     "name": "stdout",
     "output_type": "stream",
     "text": [
      "The autoreload extension is already loaded. To reload it, use:\n",
      "  %reload_ext autoreload\n"
     ]
    }
   ],
   "source": [
    "import os\n",
    "import sys\n",
    "import logging\n",
    "from pathlib import Path\n",
    "\n",
    "import numpy as np\n",
    "import scipy as sp\n",
    "import statsmodels.api as sm\n",
    "from statsmodels.formula.api import ols\n",
    "\n",
    "%load_ext autoreload\n",
    "%autoreload 2\n",
    "\n",
    "import matplotlib as mpl\n",
    "import matplotlib.pyplot as plt\n",
    "%matplotlib inline\n",
    "%config InlineBackend.figure_format = 'retina'\n",
    "\n",
    "import seaborn as sns\n",
    "sns.set_context(\"paper\")\n",
    "sns.set(rc={'figure.figsize': (16, 9.)})\n",
    "sns.set_style(\"ticks\")\n",
    "\n",
    "import pandas as pd\n",
    "pd.set_option(\"display.max_rows\", 120)\n",
    "pd.set_option(\"display.max_columns\", 120)\n",
    "\n",
    "logging.basicConfig(level=logging.INFO, stream=sys.stdout)"
   ]
  },
  {
   "cell_type": "markdown",
   "source": [
    "Define directory structure"
   ],
   "metadata": {
    "collapsed": false,
    "pycharm": {
     "name": "#%% md\n"
    }
   }
  },
  {
   "cell_type": "code",
   "execution_count": 3,
   "outputs": [],
   "source": [
    "# project directory\n",
    "abspath = os.path.abspath('')\n",
    "project_dir = str(Path(abspath).parents[0])\n",
    "\n",
    "# sub-directories\n",
    "data_raw = os.path.join(project_dir, \"data\", \"raw\")\n",
    "data_interim = os.path.join(project_dir, \"data\", \"interim\")\n",
    "data_processed = os.path.join(project_dir, \"data\", \"processed\")\n",
    "figure_dir = os.path.join(project_dir, \"reports\", \"figures\")"
   ],
   "metadata": {
    "collapsed": false,
    "pycharm": {
     "name": "#%%\n"
    }
   }
  },
  {
   "cell_type": "markdown",
   "source": [
    "Code ..."
   ],
   "metadata": {
    "collapsed": false,
    "pycharm": {
     "name": "#%% md\n"
    }
   }
  },
  {
   "cell_type": "code",
   "execution_count": 44,
   "outputs": [],
   "source": [
    "fpath = os.path.join(data_raw, \"ilo_scenarios\", \"ilo_empl_scenarios_2030.xlsx\")\n",
    "\n",
    "dict_of_dfs = pd.read_excel(\n",
    "    fpath,\n",
    "    sheet_name=[\"energy_sustainability\", \"circular_economy\"]\n",
    ")"
   ],
   "metadata": {
    "collapsed": false,
    "pycharm": {
     "name": "#%%\n"
    }
   }
  },
  {
   "cell_type": "code",
   "execution_count": 73,
   "outputs": [],
   "source": [
    "# rename dicts\n",
    "title_dict = {\n",
    "    \"energy_sustainability\": \"Energy Sustainability Scenario\",\n",
    "    \"circular_economy\": \"Circular Economy Scenario\"\n",
    "}\n",
    "\n",
    "col_names = {\n",
    "    \"new_jobs_net\": \"New jobs\",\n",
    "    \"new_jobs_absorbing\": \"New jobs absorbing laid-off workers\",\n",
    "    \"jobs_lost_reallocated\": \"Jobs destroyed, reallocatable\",\n",
    "    \"jobs_lost_net\": \"Jobs destroyed, not reallocatable\"\n",
    "}"
   ],
   "metadata": {
    "collapsed": false,
    "pycharm": {
     "name": "#%%\n"
    }
   }
  },
  {
   "cell_type": "markdown",
   "source": [
    "#### Create stacked barplots similar to ILO 2019, page 132"
   ],
   "metadata": {
    "collapsed": false,
    "pycharm": {
     "name": "#%% md\n"
    }
   }
  },
  {
   "cell_type": "code",
   "execution_count": null,
   "outputs": [],
   "source": [
    "# ILO ES 2030\n",
    "for scenario, df in dict_of_dfs.items():\n",
    "\n",
    "    df[\"label\"] = df[\"isco_code\"].astype(str) + \" - \" + df[\"isco_occupation\"]\n",
    "    df = df.set_index(\"label\")\n",
    "    df = df.sort_values(\"net_change\", ascending=True)\n",
    "    df = df.drop(columns=[\"net_change\", \"isco_code\", \"isco_occupation\", \"skill_level\"])\n",
    "    df = df.rename(columns=col_names)\n",
    "\n",
    "    # scale to millions\n",
    "    df *= 1000\n",
    "\n",
    "    # plot\n",
    "    colors = {\n",
    "        \"New jobs\": \"#2c7bb6\",\n",
    "        \"New jobs absorbing laid-off workers\": \"#abd9e9\",\n",
    "        \"Jobs destroyed, reallocatable\": \"#fdae61\",\n",
    "        \"Jobs destroyed, not reallocatable\": \"#d7191c\"\n",
    "    }\n",
    "\n",
    "    ax = df.plot.barh(stacked=True, color=colors)\n",
    "    ax.set_xlabel(\"Change in labour demand\")\n",
    "    ax.set_ylabel(None)\n",
    "    ax.set_title(title_dict[scenario])\n",
    "    ax.grid(axis='x')\n",
    "\n",
    "    ax.xaxis.set_major_formatter(plt.FormatStrFormatter('%2d'))\n",
    "\n",
    "    sns.despine()\n",
    "    plt.legend(loc=\"lower right\")\n",
    "    plt.tight_layout()\n",
    "\n",
    "    plt.savefig(\n",
    "        os.path.join(figure_dir, \"RQ2\", \"{}.png\".format(scenario)),\n",
    "        dpi=150,\n",
    "        bbox_inches=\"tight\"\n",
    "    )"
   ],
   "metadata": {
    "collapsed": false,
    "pycharm": {
     "name": "#%%\n"
    }
   }
  },
  {
   "cell_type": "markdown",
   "source": [
    "#### Create plots regarding skill level"
   ],
   "metadata": {
    "collapsed": false
   }
  },
  {
   "cell_type": "code",
   "execution_count": 115,
   "outputs": [
    {
     "data": {
      "text/plain": "     total_bill   tip     sex smoker   day    time  size\n0         16.99  1.01  Female     No   Sun  Dinner     2\n1         10.34  1.66    Male     No   Sun  Dinner     3\n2         21.01  3.50    Male     No   Sun  Dinner     3\n3         23.68  3.31    Male     No   Sun  Dinner     2\n4         24.59  3.61  Female     No   Sun  Dinner     4\n..          ...   ...     ...    ...   ...     ...   ...\n239       29.03  5.92    Male     No   Sat  Dinner     3\n240       27.18  2.00  Female    Yes   Sat  Dinner     2\n241       22.67  2.00    Male    Yes   Sat  Dinner     2\n242       17.82  1.75    Male     No   Sat  Dinner     2\n243       18.78  3.00  Female     No  Thur  Dinner     2\n\n[244 rows x 7 columns]",
      "text/html": "<div>\n<style scoped>\n    .dataframe tbody tr th:only-of-type {\n        vertical-align: middle;\n    }\n\n    .dataframe tbody tr th {\n        vertical-align: top;\n    }\n\n    .dataframe thead th {\n        text-align: right;\n    }\n</style>\n<table border=\"1\" class=\"dataframe\">\n  <thead>\n    <tr style=\"text-align: right;\">\n      <th></th>\n      <th>total_bill</th>\n      <th>tip</th>\n      <th>sex</th>\n      <th>smoker</th>\n      <th>day</th>\n      <th>time</th>\n      <th>size</th>\n    </tr>\n  </thead>\n  <tbody>\n    <tr>\n      <th>0</th>\n      <td>16.99</td>\n      <td>1.01</td>\n      <td>Female</td>\n      <td>No</td>\n      <td>Sun</td>\n      <td>Dinner</td>\n      <td>2</td>\n    </tr>\n    <tr>\n      <th>1</th>\n      <td>10.34</td>\n      <td>1.66</td>\n      <td>Male</td>\n      <td>No</td>\n      <td>Sun</td>\n      <td>Dinner</td>\n      <td>3</td>\n    </tr>\n    <tr>\n      <th>2</th>\n      <td>21.01</td>\n      <td>3.50</td>\n      <td>Male</td>\n      <td>No</td>\n      <td>Sun</td>\n      <td>Dinner</td>\n      <td>3</td>\n    </tr>\n    <tr>\n      <th>3</th>\n      <td>23.68</td>\n      <td>3.31</td>\n      <td>Male</td>\n      <td>No</td>\n      <td>Sun</td>\n      <td>Dinner</td>\n      <td>2</td>\n    </tr>\n    <tr>\n      <th>4</th>\n      <td>24.59</td>\n      <td>3.61</td>\n      <td>Female</td>\n      <td>No</td>\n      <td>Sun</td>\n      <td>Dinner</td>\n      <td>4</td>\n    </tr>\n    <tr>\n      <th>...</th>\n      <td>...</td>\n      <td>...</td>\n      <td>...</td>\n      <td>...</td>\n      <td>...</td>\n      <td>...</td>\n      <td>...</td>\n    </tr>\n    <tr>\n      <th>239</th>\n      <td>29.03</td>\n      <td>5.92</td>\n      <td>Male</td>\n      <td>No</td>\n      <td>Sat</td>\n      <td>Dinner</td>\n      <td>3</td>\n    </tr>\n    <tr>\n      <th>240</th>\n      <td>27.18</td>\n      <td>2.00</td>\n      <td>Female</td>\n      <td>Yes</td>\n      <td>Sat</td>\n      <td>Dinner</td>\n      <td>2</td>\n    </tr>\n    <tr>\n      <th>241</th>\n      <td>22.67</td>\n      <td>2.00</td>\n      <td>Male</td>\n      <td>Yes</td>\n      <td>Sat</td>\n      <td>Dinner</td>\n      <td>2</td>\n    </tr>\n    <tr>\n      <th>242</th>\n      <td>17.82</td>\n      <td>1.75</td>\n      <td>Male</td>\n      <td>No</td>\n      <td>Sat</td>\n      <td>Dinner</td>\n      <td>2</td>\n    </tr>\n    <tr>\n      <th>243</th>\n      <td>18.78</td>\n      <td>3.00</td>\n      <td>Female</td>\n      <td>No</td>\n      <td>Thur</td>\n      <td>Dinner</td>\n      <td>2</td>\n    </tr>\n  </tbody>\n</table>\n<p>244 rows × 7 columns</p>\n</div>"
     },
     "execution_count": 115,
     "metadata": {},
     "output_type": "execute_result"
    }
   ],
   "source": [
    "tips = sns.load_dataset(\"tips\")\n",
    "tips\n",
    "#dict_of_dfs[\"energy_sustainability\"][[\"skill_level\", \"net_change\"]].groupby(\"skill_level\").sum()"
   ],
   "metadata": {
    "collapsed": false,
    "pycharm": {
     "name": "#%%\n"
    }
   }
  },
  {
   "cell_type": "code",
   "execution_count": 117,
   "outputs": [
    {
     "data": {
      "text/plain": "    isco_code                                    isco_occupation skill_level  \\\n0          11  Chief executives, senior officials and legisla...           H   \n1          12             Administrative and commercial managers           H   \n2          13       Production and specialized services managers           H   \n3          14    Hospitality, retail and other services managers           H   \n4          19                                     Other managers           H   \n5          21              Science and engineering professionals           H   \n6          22                               Health professionals           H   \n7          23                             Teaching professionals           H   \n8          24          Business and administration professionals           H   \n9          25  Information and communications technology prof...           H   \n10         26           Legal, social and cultural professionals           H   \n11         29                                Other professionals           H   \n12         31    Science and engineering associate professionals           H   \n13         32                     Health associate professionals           H   \n14         33  Business and administration associate professi...           H   \n15         34  Legal, social, cultural and related associate ...           H   \n16         35         Information and communications technicians           H   \n17         39      Other technicians and associate professionals           H   \n18         41                        General and keyboard clerks           M   \n19         42                           Customer services clerks           M   \n20         43            Numerical and material recording clerks           M   \n21         44                     Other clerical support workers           M   \n22         49                     Other clerical support workers           M   \n23         51                           Personal service workers           M   \n24         52                                      Sales workers           M   \n25         53                              Personal care workers           M   \n26         54                        Protective services workers           M   \n27         59                    Other service and sales workers           M   \n28         61       Market-oriented skilled agricultural workers           M   \n29         62  Market-oriented skilled forestry, fishery and ...           M   \n30         63  Subsistence farmers, fishers, hunters and gath...           M   \n31         69  Other skilled agricultural, forestry and fishe...           M   \n32         71  Building and related trades workers, excluding...           M   \n33         72        Metal, machinery and related trades workers           M   \n34         73                    Handicraft and printing workers           M   \n35         74           Electrical and electronic trades workers           M   \n36         75  Food-processing, wood-working, garment and oth...           M   \n37         79             Other craft and related trades workers           M   \n38         81             Stationary plant and machine operators           M   \n39         82                                         Assemblers           M   \n40         83                 Drivers and mobile plant operators           M   \n41         89   Other plant and machine operators and assemblers           M   \n42         91                               Cleaners and helpers           L   \n43         92       Agricultural, forestry and fishery labourers           L   \n44         93  Labourers in mining, construction, manufacturi...           L   \n45         94                        Food preparation assistants           L   \n46         95       Street and related sales and service workers           L   \n47         96        Refuse workers and other elementary workers           L   \n48         99                       Other elementary occupations           L   \n\n    new_jobs_absorbing  new_jobs_net  jobs_lost_net  jobs_lost_reallocated  \\\n0                244.0         375.0          -43.0                 -244.0   \n1                596.0         797.0          -32.0                 -596.0   \n2               1095.0         143.0        -1110.0                -1095.0   \n3                121.0        1035.0           -4.0                 -121.0   \n4                  0.5           1.0           -1.0                   -0.5   \n5               1379.0        1274.0         -397.0                -1379.0   \n6                222.0         173.0          -77.0                 -222.0   \n7                125.0         166.0          -58.0                 -125.0   \n8                823.0         837.0          -53.0                 -823.0   \n9                187.0         296.0          -31.0                 -187.0   \n10               319.0         221.0         -190.0                 -319.0   \n11                 0.5           0.5           -4.0                   -0.5   \n12              3042.0        1225.0         -965.0                -3042.0   \n13                90.0         206.0           -0.5                  -90.0   \n14              1102.0        1715.0           -1.0                -1102.0   \n15                56.0         103.0           -5.0                  -56.0   \n16                73.0          98.0           -8.0                  -73.0   \n17                35.0          81.0          -39.0                  -35.0   \n18               834.0        1040.0          -98.0                 -834.0   \n19               294.0         707.0          -18.0                 -294.0   \n20               844.0         784.0         -147.0                 -844.0   \n21               123.0         417.0           -0.5                 -123.0   \n22                10.0          37.0          -51.0                  -10.0   \n23               728.0         298.0         -748.0                 -728.0   \n24               942.0       14695.0          -58.0                 -942.0   \n25                41.0          19.0          -47.0                  -41.0   \n26               744.0         579.0         -497.0                 -744.0   \n27                 5.0         503.0           -2.0                   -5.0   \n28               757.0        1024.0         -448.0                 -757.0   \n29               221.0          14.0         -349.0                 -221.0   \n30               331.0         377.0         -281.0                 -331.0   \n31                 2.0           3.0           -1.0                   -2.0   \n32              2579.0         150.0        -2172.0                -2579.0   \n33              8654.0        1795.0        -1605.0                -8654.0   \n34              1331.0          35.0        -1057.0                -1331.0   \n35              1408.0        1845.0         -304.0                -1408.0   \n36              1315.0         408.0         -440.0                -1315.0   \n37               124.0          64.0          -54.0                 -124.0   \n38              2913.0           0.5        -5589.0                -2913.0   \n39               224.0          14.0         -367.0                 -224.0   \n40              2899.0         753.0        -2612.0                -2899.0   \n41                92.0          62.0         -121.0                  -92.0   \n42               803.0         442.0         -577.0                 -803.0   \n43               683.0         328.0         -325.0                 -683.0   \n44              3058.0         144.0        -8593.0                -3058.0   \n45               114.0         100.0         -105.0                 -114.0   \n46                59.0         749.0          -21.0                  -59.0   \n47               860.0        1152.0         -111.0                 -860.0   \n48                65.0          38.0          -58.0                  -65.0   \n\n    net_change                                              label  positive  \\\n0        332.0  11 - Chief executives, senior officials and le...     619.0   \n1        765.0        12 - Administrative and commercial managers    1393.0   \n2       -967.0  13 - Production and specialized services managers    1238.0   \n3       1031.0  14 - Hospitality, retail and other services ma...    1156.0   \n4          0.0                                19 - Other managers       1.5   \n5        877.0         21 - Science and engineering professionals    2653.0   \n6         96.0                          22 - Health professionals     395.0   \n7        108.0                        23 - Teaching professionals     291.0   \n8        784.0     24 - Business and administration professionals    1660.0   \n9        265.0  25 - Information and communications technology...     483.0   \n10        31.0      26 - Legal, social and cultural professionals     540.0   \n11        -3.5                           29 - Other professionals       1.0   \n12       260.0  31 - Science and engineering associate profess...    4267.0   \n13       205.5                32 - Health associate professionals     296.0   \n14      1714.0  33 - Business and administration associate pro...    2817.0   \n15        98.0  34 - Legal, social, cultural and related assoc...     159.0   \n16        90.0    35 - Information and communications technicians     171.0   \n17        42.0  39 - Other technicians and associate professio...     116.0   \n18       942.0                   41 - General and keyboard clerks    1874.0   \n19       689.0                      42 - Customer services clerks    1001.0   \n20       637.0       43 - Numerical and material recording clerks    1628.0   \n21       416.5                44 - Other clerical support workers     540.0   \n22       -14.0                49 - Other clerical support workers      47.0   \n23      -450.0                      51 - Personal service workers    1026.0   \n24     14637.0                                 52 - Sales workers   15637.0   \n25       -28.0                         53 - Personal care workers      60.0   \n26        82.0                   54 - Protective services workers    1323.0   \n27       501.0               59 - Other service and sales workers     508.0   \n28       576.0  61 - Market-oriented skilled agricultural workers    1781.0   \n29      -335.0  62 - Market-oriented skilled forestry, fishery...     235.0   \n30        96.0  63 - Subsistence farmers, fishers, hunters and...     708.0   \n31         2.0  69 - Other skilled agricultural, forestry and ...       5.0   \n32     -2022.0  71 - Building and related trades workers, excl...    2729.0   \n33       190.0   72 - Metal, machinery and related trades workers   10449.0   \n34     -1022.0               73 - Handicraft and printing workers    1366.0   \n35      1541.0      74 - Electrical and electronic trades workers    3253.0   \n36       -32.0  75 - Food-processing, wood-working, garment an...    1723.0   \n37        10.0        79 - Other craft and related trades workers     188.0   \n38     -5588.5        81 - Stationary plant and machine operators    2913.5   \n39      -353.0                                    82 - Assemblers     238.0   \n40     -1859.0            83 - Drivers and mobile plant operators    3652.0   \n41       -59.0  89 - Other plant and machine operators and ass...     154.0   \n42      -135.0                          91 - Cleaners and helpers    1245.0   \n43         3.0  92 - Agricultural, forestry and fishery labourers    1011.0   \n44     -8449.0  93 - Labourers in mining, construction, manufa...    3202.0   \n45        -5.0                   94 - Food preparation assistants     214.0   \n46       728.0  95 - Street and related sales and service workers     808.0   \n47      1041.0   96 - Refuse workers and other elementary workers    2012.0   \n48       -20.0                  99 - Other elementary occupations     103.0   \n\n    negative  \n0     -287.0  \n1     -628.0  \n2    -2205.0  \n3     -125.0  \n4       -1.5  \n5    -1776.0  \n6     -299.0  \n7     -183.0  \n8     -876.0  \n9     -218.0  \n10    -509.0  \n11      -4.5  \n12   -4007.0  \n13     -90.5  \n14   -1103.0  \n15     -61.0  \n16     -81.0  \n17     -74.0  \n18    -932.0  \n19    -312.0  \n20    -991.0  \n21    -123.5  \n22     -61.0  \n23   -1476.0  \n24   -1000.0  \n25     -88.0  \n26   -1241.0  \n27      -7.0  \n28   -1205.0  \n29    -570.0  \n30    -612.0  \n31      -3.0  \n32   -4751.0  \n33  -10259.0  \n34   -2388.0  \n35   -1712.0  \n36   -1755.0  \n37    -178.0  \n38   -8502.0  \n39    -591.0  \n40   -5511.0  \n41    -213.0  \n42   -1380.0  \n43   -1008.0  \n44  -11651.0  \n45    -219.0  \n46     -80.0  \n47    -971.0  \n48    -123.0  ",
      "text/html": "<div>\n<style scoped>\n    .dataframe tbody tr th:only-of-type {\n        vertical-align: middle;\n    }\n\n    .dataframe tbody tr th {\n        vertical-align: top;\n    }\n\n    .dataframe thead th {\n        text-align: right;\n    }\n</style>\n<table border=\"1\" class=\"dataframe\">\n  <thead>\n    <tr style=\"text-align: right;\">\n      <th></th>\n      <th>isco_code</th>\n      <th>isco_occupation</th>\n      <th>skill_level</th>\n      <th>new_jobs_absorbing</th>\n      <th>new_jobs_net</th>\n      <th>jobs_lost_net</th>\n      <th>jobs_lost_reallocated</th>\n      <th>net_change</th>\n      <th>label</th>\n      <th>positive</th>\n      <th>negative</th>\n    </tr>\n  </thead>\n  <tbody>\n    <tr>\n      <th>0</th>\n      <td>11</td>\n      <td>Chief executives, senior officials and legisla...</td>\n      <td>H</td>\n      <td>244.0</td>\n      <td>375.0</td>\n      <td>-43.0</td>\n      <td>-244.0</td>\n      <td>332.0</td>\n      <td>11 - Chief executives, senior officials and le...</td>\n      <td>619.0</td>\n      <td>-287.0</td>\n    </tr>\n    <tr>\n      <th>1</th>\n      <td>12</td>\n      <td>Administrative and commercial managers</td>\n      <td>H</td>\n      <td>596.0</td>\n      <td>797.0</td>\n      <td>-32.0</td>\n      <td>-596.0</td>\n      <td>765.0</td>\n      <td>12 - Administrative and commercial managers</td>\n      <td>1393.0</td>\n      <td>-628.0</td>\n    </tr>\n    <tr>\n      <th>2</th>\n      <td>13</td>\n      <td>Production and specialized services managers</td>\n      <td>H</td>\n      <td>1095.0</td>\n      <td>143.0</td>\n      <td>-1110.0</td>\n      <td>-1095.0</td>\n      <td>-967.0</td>\n      <td>13 - Production and specialized services managers</td>\n      <td>1238.0</td>\n      <td>-2205.0</td>\n    </tr>\n    <tr>\n      <th>3</th>\n      <td>14</td>\n      <td>Hospitality, retail and other services managers</td>\n      <td>H</td>\n      <td>121.0</td>\n      <td>1035.0</td>\n      <td>-4.0</td>\n      <td>-121.0</td>\n      <td>1031.0</td>\n      <td>14 - Hospitality, retail and other services ma...</td>\n      <td>1156.0</td>\n      <td>-125.0</td>\n    </tr>\n    <tr>\n      <th>4</th>\n      <td>19</td>\n      <td>Other managers</td>\n      <td>H</td>\n      <td>0.5</td>\n      <td>1.0</td>\n      <td>-1.0</td>\n      <td>-0.5</td>\n      <td>0.0</td>\n      <td>19 - Other managers</td>\n      <td>1.5</td>\n      <td>-1.5</td>\n    </tr>\n    <tr>\n      <th>5</th>\n      <td>21</td>\n      <td>Science and engineering professionals</td>\n      <td>H</td>\n      <td>1379.0</td>\n      <td>1274.0</td>\n      <td>-397.0</td>\n      <td>-1379.0</td>\n      <td>877.0</td>\n      <td>21 - Science and engineering professionals</td>\n      <td>2653.0</td>\n      <td>-1776.0</td>\n    </tr>\n    <tr>\n      <th>6</th>\n      <td>22</td>\n      <td>Health professionals</td>\n      <td>H</td>\n      <td>222.0</td>\n      <td>173.0</td>\n      <td>-77.0</td>\n      <td>-222.0</td>\n      <td>96.0</td>\n      <td>22 - Health professionals</td>\n      <td>395.0</td>\n      <td>-299.0</td>\n    </tr>\n    <tr>\n      <th>7</th>\n      <td>23</td>\n      <td>Teaching professionals</td>\n      <td>H</td>\n      <td>125.0</td>\n      <td>166.0</td>\n      <td>-58.0</td>\n      <td>-125.0</td>\n      <td>108.0</td>\n      <td>23 - Teaching professionals</td>\n      <td>291.0</td>\n      <td>-183.0</td>\n    </tr>\n    <tr>\n      <th>8</th>\n      <td>24</td>\n      <td>Business and administration professionals</td>\n      <td>H</td>\n      <td>823.0</td>\n      <td>837.0</td>\n      <td>-53.0</td>\n      <td>-823.0</td>\n      <td>784.0</td>\n      <td>24 - Business and administration professionals</td>\n      <td>1660.0</td>\n      <td>-876.0</td>\n    </tr>\n    <tr>\n      <th>9</th>\n      <td>25</td>\n      <td>Information and communications technology prof...</td>\n      <td>H</td>\n      <td>187.0</td>\n      <td>296.0</td>\n      <td>-31.0</td>\n      <td>-187.0</td>\n      <td>265.0</td>\n      <td>25 - Information and communications technology...</td>\n      <td>483.0</td>\n      <td>-218.0</td>\n    </tr>\n    <tr>\n      <th>10</th>\n      <td>26</td>\n      <td>Legal, social and cultural professionals</td>\n      <td>H</td>\n      <td>319.0</td>\n      <td>221.0</td>\n      <td>-190.0</td>\n      <td>-319.0</td>\n      <td>31.0</td>\n      <td>26 - Legal, social and cultural professionals</td>\n      <td>540.0</td>\n      <td>-509.0</td>\n    </tr>\n    <tr>\n      <th>11</th>\n      <td>29</td>\n      <td>Other professionals</td>\n      <td>H</td>\n      <td>0.5</td>\n      <td>0.5</td>\n      <td>-4.0</td>\n      <td>-0.5</td>\n      <td>-3.5</td>\n      <td>29 - Other professionals</td>\n      <td>1.0</td>\n      <td>-4.5</td>\n    </tr>\n    <tr>\n      <th>12</th>\n      <td>31</td>\n      <td>Science and engineering associate professionals</td>\n      <td>H</td>\n      <td>3042.0</td>\n      <td>1225.0</td>\n      <td>-965.0</td>\n      <td>-3042.0</td>\n      <td>260.0</td>\n      <td>31 - Science and engineering associate profess...</td>\n      <td>4267.0</td>\n      <td>-4007.0</td>\n    </tr>\n    <tr>\n      <th>13</th>\n      <td>32</td>\n      <td>Health associate professionals</td>\n      <td>H</td>\n      <td>90.0</td>\n      <td>206.0</td>\n      <td>-0.5</td>\n      <td>-90.0</td>\n      <td>205.5</td>\n      <td>32 - Health associate professionals</td>\n      <td>296.0</td>\n      <td>-90.5</td>\n    </tr>\n    <tr>\n      <th>14</th>\n      <td>33</td>\n      <td>Business and administration associate professi...</td>\n      <td>H</td>\n      <td>1102.0</td>\n      <td>1715.0</td>\n      <td>-1.0</td>\n      <td>-1102.0</td>\n      <td>1714.0</td>\n      <td>33 - Business and administration associate pro...</td>\n      <td>2817.0</td>\n      <td>-1103.0</td>\n    </tr>\n    <tr>\n      <th>15</th>\n      <td>34</td>\n      <td>Legal, social, cultural and related associate ...</td>\n      <td>H</td>\n      <td>56.0</td>\n      <td>103.0</td>\n      <td>-5.0</td>\n      <td>-56.0</td>\n      <td>98.0</td>\n      <td>34 - Legal, social, cultural and related assoc...</td>\n      <td>159.0</td>\n      <td>-61.0</td>\n    </tr>\n    <tr>\n      <th>16</th>\n      <td>35</td>\n      <td>Information and communications technicians</td>\n      <td>H</td>\n      <td>73.0</td>\n      <td>98.0</td>\n      <td>-8.0</td>\n      <td>-73.0</td>\n      <td>90.0</td>\n      <td>35 - Information and communications technicians</td>\n      <td>171.0</td>\n      <td>-81.0</td>\n    </tr>\n    <tr>\n      <th>17</th>\n      <td>39</td>\n      <td>Other technicians and associate professionals</td>\n      <td>H</td>\n      <td>35.0</td>\n      <td>81.0</td>\n      <td>-39.0</td>\n      <td>-35.0</td>\n      <td>42.0</td>\n      <td>39 - Other technicians and associate professio...</td>\n      <td>116.0</td>\n      <td>-74.0</td>\n    </tr>\n    <tr>\n      <th>18</th>\n      <td>41</td>\n      <td>General and keyboard clerks</td>\n      <td>M</td>\n      <td>834.0</td>\n      <td>1040.0</td>\n      <td>-98.0</td>\n      <td>-834.0</td>\n      <td>942.0</td>\n      <td>41 - General and keyboard clerks</td>\n      <td>1874.0</td>\n      <td>-932.0</td>\n    </tr>\n    <tr>\n      <th>19</th>\n      <td>42</td>\n      <td>Customer services clerks</td>\n      <td>M</td>\n      <td>294.0</td>\n      <td>707.0</td>\n      <td>-18.0</td>\n      <td>-294.0</td>\n      <td>689.0</td>\n      <td>42 - Customer services clerks</td>\n      <td>1001.0</td>\n      <td>-312.0</td>\n    </tr>\n    <tr>\n      <th>20</th>\n      <td>43</td>\n      <td>Numerical and material recording clerks</td>\n      <td>M</td>\n      <td>844.0</td>\n      <td>784.0</td>\n      <td>-147.0</td>\n      <td>-844.0</td>\n      <td>637.0</td>\n      <td>43 - Numerical and material recording clerks</td>\n      <td>1628.0</td>\n      <td>-991.0</td>\n    </tr>\n    <tr>\n      <th>21</th>\n      <td>44</td>\n      <td>Other clerical support workers</td>\n      <td>M</td>\n      <td>123.0</td>\n      <td>417.0</td>\n      <td>-0.5</td>\n      <td>-123.0</td>\n      <td>416.5</td>\n      <td>44 - Other clerical support workers</td>\n      <td>540.0</td>\n      <td>-123.5</td>\n    </tr>\n    <tr>\n      <th>22</th>\n      <td>49</td>\n      <td>Other clerical support workers</td>\n      <td>M</td>\n      <td>10.0</td>\n      <td>37.0</td>\n      <td>-51.0</td>\n      <td>-10.0</td>\n      <td>-14.0</td>\n      <td>49 - Other clerical support workers</td>\n      <td>47.0</td>\n      <td>-61.0</td>\n    </tr>\n    <tr>\n      <th>23</th>\n      <td>51</td>\n      <td>Personal service workers</td>\n      <td>M</td>\n      <td>728.0</td>\n      <td>298.0</td>\n      <td>-748.0</td>\n      <td>-728.0</td>\n      <td>-450.0</td>\n      <td>51 - Personal service workers</td>\n      <td>1026.0</td>\n      <td>-1476.0</td>\n    </tr>\n    <tr>\n      <th>24</th>\n      <td>52</td>\n      <td>Sales workers</td>\n      <td>M</td>\n      <td>942.0</td>\n      <td>14695.0</td>\n      <td>-58.0</td>\n      <td>-942.0</td>\n      <td>14637.0</td>\n      <td>52 - Sales workers</td>\n      <td>15637.0</td>\n      <td>-1000.0</td>\n    </tr>\n    <tr>\n      <th>25</th>\n      <td>53</td>\n      <td>Personal care workers</td>\n      <td>M</td>\n      <td>41.0</td>\n      <td>19.0</td>\n      <td>-47.0</td>\n      <td>-41.0</td>\n      <td>-28.0</td>\n      <td>53 - Personal care workers</td>\n      <td>60.0</td>\n      <td>-88.0</td>\n    </tr>\n    <tr>\n      <th>26</th>\n      <td>54</td>\n      <td>Protective services workers</td>\n      <td>M</td>\n      <td>744.0</td>\n      <td>579.0</td>\n      <td>-497.0</td>\n      <td>-744.0</td>\n      <td>82.0</td>\n      <td>54 - Protective services workers</td>\n      <td>1323.0</td>\n      <td>-1241.0</td>\n    </tr>\n    <tr>\n      <th>27</th>\n      <td>59</td>\n      <td>Other service and sales workers</td>\n      <td>M</td>\n      <td>5.0</td>\n      <td>503.0</td>\n      <td>-2.0</td>\n      <td>-5.0</td>\n      <td>501.0</td>\n      <td>59 - Other service and sales workers</td>\n      <td>508.0</td>\n      <td>-7.0</td>\n    </tr>\n    <tr>\n      <th>28</th>\n      <td>61</td>\n      <td>Market-oriented skilled agricultural workers</td>\n      <td>M</td>\n      <td>757.0</td>\n      <td>1024.0</td>\n      <td>-448.0</td>\n      <td>-757.0</td>\n      <td>576.0</td>\n      <td>61 - Market-oriented skilled agricultural workers</td>\n      <td>1781.0</td>\n      <td>-1205.0</td>\n    </tr>\n    <tr>\n      <th>29</th>\n      <td>62</td>\n      <td>Market-oriented skilled forestry, fishery and ...</td>\n      <td>M</td>\n      <td>221.0</td>\n      <td>14.0</td>\n      <td>-349.0</td>\n      <td>-221.0</td>\n      <td>-335.0</td>\n      <td>62 - Market-oriented skilled forestry, fishery...</td>\n      <td>235.0</td>\n      <td>-570.0</td>\n    </tr>\n    <tr>\n      <th>30</th>\n      <td>63</td>\n      <td>Subsistence farmers, fishers, hunters and gath...</td>\n      <td>M</td>\n      <td>331.0</td>\n      <td>377.0</td>\n      <td>-281.0</td>\n      <td>-331.0</td>\n      <td>96.0</td>\n      <td>63 - Subsistence farmers, fishers, hunters and...</td>\n      <td>708.0</td>\n      <td>-612.0</td>\n    </tr>\n    <tr>\n      <th>31</th>\n      <td>69</td>\n      <td>Other skilled agricultural, forestry and fishe...</td>\n      <td>M</td>\n      <td>2.0</td>\n      <td>3.0</td>\n      <td>-1.0</td>\n      <td>-2.0</td>\n      <td>2.0</td>\n      <td>69 - Other skilled agricultural, forestry and ...</td>\n      <td>5.0</td>\n      <td>-3.0</td>\n    </tr>\n    <tr>\n      <th>32</th>\n      <td>71</td>\n      <td>Building and related trades workers, excluding...</td>\n      <td>M</td>\n      <td>2579.0</td>\n      <td>150.0</td>\n      <td>-2172.0</td>\n      <td>-2579.0</td>\n      <td>-2022.0</td>\n      <td>71 - Building and related trades workers, excl...</td>\n      <td>2729.0</td>\n      <td>-4751.0</td>\n    </tr>\n    <tr>\n      <th>33</th>\n      <td>72</td>\n      <td>Metal, machinery and related trades workers</td>\n      <td>M</td>\n      <td>8654.0</td>\n      <td>1795.0</td>\n      <td>-1605.0</td>\n      <td>-8654.0</td>\n      <td>190.0</td>\n      <td>72 - Metal, machinery and related trades workers</td>\n      <td>10449.0</td>\n      <td>-10259.0</td>\n    </tr>\n    <tr>\n      <th>34</th>\n      <td>73</td>\n      <td>Handicraft and printing workers</td>\n      <td>M</td>\n      <td>1331.0</td>\n      <td>35.0</td>\n      <td>-1057.0</td>\n      <td>-1331.0</td>\n      <td>-1022.0</td>\n      <td>73 - Handicraft and printing workers</td>\n      <td>1366.0</td>\n      <td>-2388.0</td>\n    </tr>\n    <tr>\n      <th>35</th>\n      <td>74</td>\n      <td>Electrical and electronic trades workers</td>\n      <td>M</td>\n      <td>1408.0</td>\n      <td>1845.0</td>\n      <td>-304.0</td>\n      <td>-1408.0</td>\n      <td>1541.0</td>\n      <td>74 - Electrical and electronic trades workers</td>\n      <td>3253.0</td>\n      <td>-1712.0</td>\n    </tr>\n    <tr>\n      <th>36</th>\n      <td>75</td>\n      <td>Food-processing, wood-working, garment and oth...</td>\n      <td>M</td>\n      <td>1315.0</td>\n      <td>408.0</td>\n      <td>-440.0</td>\n      <td>-1315.0</td>\n      <td>-32.0</td>\n      <td>75 - Food-processing, wood-working, garment an...</td>\n      <td>1723.0</td>\n      <td>-1755.0</td>\n    </tr>\n    <tr>\n      <th>37</th>\n      <td>79</td>\n      <td>Other craft and related trades workers</td>\n      <td>M</td>\n      <td>124.0</td>\n      <td>64.0</td>\n      <td>-54.0</td>\n      <td>-124.0</td>\n      <td>10.0</td>\n      <td>79 - Other craft and related trades workers</td>\n      <td>188.0</td>\n      <td>-178.0</td>\n    </tr>\n    <tr>\n      <th>38</th>\n      <td>81</td>\n      <td>Stationary plant and machine operators</td>\n      <td>M</td>\n      <td>2913.0</td>\n      <td>0.5</td>\n      <td>-5589.0</td>\n      <td>-2913.0</td>\n      <td>-5588.5</td>\n      <td>81 - Stationary plant and machine operators</td>\n      <td>2913.5</td>\n      <td>-8502.0</td>\n    </tr>\n    <tr>\n      <th>39</th>\n      <td>82</td>\n      <td>Assemblers</td>\n      <td>M</td>\n      <td>224.0</td>\n      <td>14.0</td>\n      <td>-367.0</td>\n      <td>-224.0</td>\n      <td>-353.0</td>\n      <td>82 - Assemblers</td>\n      <td>238.0</td>\n      <td>-591.0</td>\n    </tr>\n    <tr>\n      <th>40</th>\n      <td>83</td>\n      <td>Drivers and mobile plant operators</td>\n      <td>M</td>\n      <td>2899.0</td>\n      <td>753.0</td>\n      <td>-2612.0</td>\n      <td>-2899.0</td>\n      <td>-1859.0</td>\n      <td>83 - Drivers and mobile plant operators</td>\n      <td>3652.0</td>\n      <td>-5511.0</td>\n    </tr>\n    <tr>\n      <th>41</th>\n      <td>89</td>\n      <td>Other plant and machine operators and assemblers</td>\n      <td>M</td>\n      <td>92.0</td>\n      <td>62.0</td>\n      <td>-121.0</td>\n      <td>-92.0</td>\n      <td>-59.0</td>\n      <td>89 - Other plant and machine operators and ass...</td>\n      <td>154.0</td>\n      <td>-213.0</td>\n    </tr>\n    <tr>\n      <th>42</th>\n      <td>91</td>\n      <td>Cleaners and helpers</td>\n      <td>L</td>\n      <td>803.0</td>\n      <td>442.0</td>\n      <td>-577.0</td>\n      <td>-803.0</td>\n      <td>-135.0</td>\n      <td>91 - Cleaners and helpers</td>\n      <td>1245.0</td>\n      <td>-1380.0</td>\n    </tr>\n    <tr>\n      <th>43</th>\n      <td>92</td>\n      <td>Agricultural, forestry and fishery labourers</td>\n      <td>L</td>\n      <td>683.0</td>\n      <td>328.0</td>\n      <td>-325.0</td>\n      <td>-683.0</td>\n      <td>3.0</td>\n      <td>92 - Agricultural, forestry and fishery labourers</td>\n      <td>1011.0</td>\n      <td>-1008.0</td>\n    </tr>\n    <tr>\n      <th>44</th>\n      <td>93</td>\n      <td>Labourers in mining, construction, manufacturi...</td>\n      <td>L</td>\n      <td>3058.0</td>\n      <td>144.0</td>\n      <td>-8593.0</td>\n      <td>-3058.0</td>\n      <td>-8449.0</td>\n      <td>93 - Labourers in mining, construction, manufa...</td>\n      <td>3202.0</td>\n      <td>-11651.0</td>\n    </tr>\n    <tr>\n      <th>45</th>\n      <td>94</td>\n      <td>Food preparation assistants</td>\n      <td>L</td>\n      <td>114.0</td>\n      <td>100.0</td>\n      <td>-105.0</td>\n      <td>-114.0</td>\n      <td>-5.0</td>\n      <td>94 - Food preparation assistants</td>\n      <td>214.0</td>\n      <td>-219.0</td>\n    </tr>\n    <tr>\n      <th>46</th>\n      <td>95</td>\n      <td>Street and related sales and service workers</td>\n      <td>L</td>\n      <td>59.0</td>\n      <td>749.0</td>\n      <td>-21.0</td>\n      <td>-59.0</td>\n      <td>728.0</td>\n      <td>95 - Street and related sales and service workers</td>\n      <td>808.0</td>\n      <td>-80.0</td>\n    </tr>\n    <tr>\n      <th>47</th>\n      <td>96</td>\n      <td>Refuse workers and other elementary workers</td>\n      <td>L</td>\n      <td>860.0</td>\n      <td>1152.0</td>\n      <td>-111.0</td>\n      <td>-860.0</td>\n      <td>1041.0</td>\n      <td>96 - Refuse workers and other elementary workers</td>\n      <td>2012.0</td>\n      <td>-971.0</td>\n    </tr>\n    <tr>\n      <th>48</th>\n      <td>99</td>\n      <td>Other elementary occupations</td>\n      <td>L</td>\n      <td>65.0</td>\n      <td>38.0</td>\n      <td>-58.0</td>\n      <td>-65.0</td>\n      <td>-20.0</td>\n      <td>99 - Other elementary occupations</td>\n      <td>103.0</td>\n      <td>-123.0</td>\n    </tr>\n  </tbody>\n</table>\n</div>"
     },
     "execution_count": 117,
     "metadata": {},
     "output_type": "execute_result"
    }
   ],
   "source": [
    "ce = dict_of_dfs[\"circular_economy\"]\n",
    "ce[\"positive\"] = ce.new_jobs_absorbing + ce.new_jobs_net\n",
    "ce[\"negative\"] = ce.jobs_lost_reallocated + ce.jobs_lost_net\n",
    "res = ce[[\"skill_level\", \"positive\", \"negative\"]].groupby(\"skill_level\").sum()\n",
    "res *= 1000\n",
    "res\n",
    "ce"
   ],
   "metadata": {
    "collapsed": false,
    "pycharm": {
     "name": "#%%\n"
    }
   }
  }
 ],
 "metadata": {
  "kernelspec": {
   "display_name": "Python 3",
   "language": "python",
   "name": "python3"
  },
  "language_info": {
   "codemirror_mode": {
    "name": "ipython",
    "version": 2
   },
   "file_extension": ".py",
   "mimetype": "text/x-python",
   "name": "python",
   "nbconvert_exporter": "python",
   "pygments_lexer": "ipython2",
   "version": "2.7.6"
  }
 },
 "nbformat": 4,
 "nbformat_minor": 0
}