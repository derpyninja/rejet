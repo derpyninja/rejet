{
 "cells": [
  {
   "cell_type": "markdown",
   "source": [
    "# Classification of brown jobs\n",
    "Felix Zaussinger | 05.08.2021\n",
    "\n",
    "## Core Analysis Goal(s)\n",
    "1. Match Vona et al. 2018 SOC brown jobs to ESCO\n",
    "\n",
    "## Key Insight(s)\n",
    "1."
   ],
   "metadata": {
    "collapsed": false,
    "pycharm": {
     "name": "#%% md\n"
    }
   }
  },
  {
   "cell_type": "code",
   "execution_count": 1,
   "metadata": {
    "collapsed": true
   },
   "outputs": [],
   "source": [
    "import os\n",
    "import sys\n",
    "import logging\n",
    "from pathlib import Path\n",
    "\n",
    "import numpy as np\n",
    "import scipy as sp\n",
    "import statsmodels.api as sm\n",
    "from statsmodels.formula.api import ols\n",
    "\n",
    "%load_ext autoreload\n",
    "%autoreload 2\n",
    "\n",
    "import matplotlib as mpl\n",
    "import matplotlib.pyplot as plt\n",
    "%matplotlib inline\n",
    "%config InlineBackend.figure_format = 'retina'\n",
    "\n",
    "import seaborn as sns\n",
    "sns.set_context(\"poster\")\n",
    "sns.set(rc={'figure.figsize': (16, 9.)})\n",
    "sns.set_style(\"ticks\")\n",
    "\n",
    "import pandas as pd\n",
    "pd.set_option(\"display.max_rows\", 120)\n",
    "pd.set_option(\"display.max_columns\", 120)\n",
    "\n",
    "logging.basicConfig(level=logging.INFO, stream=sys.stdout)"
   ]
  },
  {
   "cell_type": "markdown",
   "source": [
    "Define directory structure"
   ],
   "metadata": {
    "collapsed": false,
    "pycharm": {
     "name": "#%% md\n"
    }
   }
  },
  {
   "cell_type": "code",
   "execution_count": 2,
   "outputs": [],
   "source": [
    "# project directory\n",
    "abspath = os.path.abspath('')\n",
    "project_dir = str(Path(abspath).parents[0])\n",
    "\n",
    "# sub-directories\n",
    "data_raw = os.path.join(project_dir, \"data\", \"raw\")\n",
    "data_interim = os.path.join(project_dir, \"data\", \"interim\")\n",
    "data_processed = os.path.join(project_dir, \"data\", \"processed\")\n",
    "figure_dir = os.path.join(project_dir, \"reports\", \"figures\")"
   ],
   "metadata": {
    "collapsed": false,
    "pycharm": {
     "name": "#%%\n"
    }
   }
  },
  {
   "cell_type": "markdown",
   "source": [
    "Code ..."
   ],
   "metadata": {
    "collapsed": false,
    "pycharm": {
     "name": "#%% md\n"
    }
   }
  },
  {
   "cell_type": "code",
   "execution_count": 7,
   "outputs": [
    {
     "data": {
      "text/plain": "   soc_code                                         occupation soc_code_padded\n0   17-2041                                 Chemical Engineers      17-2041.00\n1   17-2151  Mining and Geological Engineers, Including Min...      17-2151.00\n2   17-2171                                Petroleum Engineers      17-2171.00\n3   19-1012                  Food Scientists and Technologists      19-1012.00\n4   19-2031                                           Chemists      19-2031.00\n5   19-4031                               Chemical Technicians      19-4031.00\n6   43-5041                           Meter Readers, Utilities      43-5041.00\n7   45-4023                            Log Graders and Scalers      45-4023.00\n8   47-4071      Septic Tank Servicers and Sewer Pipe Cleaners      47-4071.00\n9   47-5011                     Derrick Operators, Oil and Gas      47-5011.00\n10  47-5012                Rotary Drill Operators, Oil and Gas      47-5012.00\n11  47-5013       Service Unit Operators, Oil, Gas, and Mining      47-5013.00\n12  47-5021                 Earth Drillers, Except Oil and Gas      47-5021.00\n13  47-5031  Explosives Workers, Ordnance Handling Experts,...      47-5031.00\n14  47-5042      Mine Cutting and Channeling Machine Operators      47-5042.00\n15  47-5051                             Rock Splitters, Quarry      47-5051.00\n16  47-5061                               Roof Bolters, Mining      47-5061.00\n17  47-5071                           Roustabouts, Oil and Gas      47-5071.00\n18  47-5081                        Helpers--Extraction Workers      47-5081.00\n19  49-2095  Electrical and Electronics Repairers, Powerhou...      49-2095.00\n20  49-9012  Control and Valve Installers and Repairers, Ex...      49-9012.00\n21  49-9041                     Industrial Machinery Mechanics      49-9041.00\n22  49-9043                     Maintenance Workers, Machinery      49-9043.00\n23  49-9045  Refractory Materials Repairers, Except Brickma...      49-9045.00\n24  49-9051     Electrical Power-Line Installers and Repairers      49-9051.00\n25  49-9093                     Fabric Menders, Except Garment      49-9093.00\n26  51-1011  First-Line Supervisors of Production and Opera...      51-1011.00\n27  51-2091              Fiberglass Laminators and Fabricators      51-2091.00\n28  51-3091  Food and Tobacco Roasting, Baking, and Drying ...      51-3091.00\n29  51-3092                                   Food Batchmakers      51-3092.00\n30  51-3093         Food Cooking Machine Operators and Tenders      51-3093.00\n31  51-4021  Extruding and Drawing Machine Setters, Operato...      51-4021.00\n32  51-4022  Forging Machine Setters, Operators, and Tender...      51-4022.00\n33  51-4023  Rolling Machine Setters, Operators, and Tender...      51-4023.00\n34  51-4033  Grinding, Lapping, Polishing, and Buffing Mach...      51-4033.00\n35  51-4051       Metal-Refining Furnace Operators and Tenders      51-4051.00\n36  51-4052                         Pourers and Casters, Metal      51-4052.00\n37  51-4062                   Patternmakers, Metal and Plastic      51-4062.00\n38  51-4071                        Foundry Mold and Coremakers      51-4071.00\n39  51-4191  Heat Treating Equipment Setters, Operators, an...      51-4191.00\n40  51-4192                  Layout Workers, Metal and Plastic      51-4192.00\n41  51-4193  Plating and Coating Machine Setters, Operators...      51-4193.00\n42  51-4194              Tool Grinders, Filers, and Sharpeners      51-4194.00\n43  51-6061  Textile Bleaching and Dyeing Machine Operators...      51-6061.00\n44  51-6063  Textile Knitting and Weaving Machine Setters, ...      51-6063.00\n45  51-6064  Textile Winding, Twisting, and Drawing Out Mac...      51-6064.00\n46  51-6091  Extruding and Forming Machine Setters, Operato...      51-6091.00\n47  51-6093                                       Upholsterers      51-6093.00\n48  51-7011                 Cabinetmakers and Bench Carpenters      51-7011.00\n49  51-7021                                Furniture Finishers      51-7021.00\n50  51-7031                                 Model Makers, Wood      51-7031.00\n51  51-7032                                Patternmakers, Wood      51-7032.00\n52  51-7041  Sawing Machine Setters, Operators, and Tenders...      51-7041.00\n53  51-7042  Woodworking Machine Setters, Operators, and Te...      51-7042.00\n54  51-8012                 Power Distributors and Dispatchers      51-8012.00\n55  51-8091                Chemical Plant and System Operators      51-8091.00\n56  51-8092                                Gas Plant Operators      51-8092.00\n57  51-8093  Petroleum Pump System Operators, Refinery Oper...      51-8093.00\n58  51-9011           Chemical Equipment Operators and Tenders      51-9011.00\n59  51-9012  Separating, Filtering, Clarifying, Precipitati...      51-9012.00\n60  51-9021  Crushing, Grinding, and Polishing Machine Sett...      51-9021.00\n61  51-9022               Grinding and Polishing Workers, Hand      51-9022.00\n62  51-9023  Mixing and Blending Machine Setters, Operators...      51-9023.00\n63  51-9031                         Cutters and Trimmers, Hand      51-9031.00\n64  51-9032  Cutting and Slicing Machine Setters, Operators...      51-9032.00\n65  51-9041  Extruding, Forming, Pressing, and Compacting M...      51-9041.00\n66  51-9051  Furnace, Kiln, Oven, Drier, and Kettle Operato...      51-9051.00\n67  51-9111  Packaging and Filling Machine Operators and Te...      51-9111.00\n68  51-9121  Coating, Painting, and Spraying Machine Setter...      51-9121.00\n69  51-9191     Adhesive Bonding Machine Operators and Tenders      51-9191.00\n70  51-9192  Cleaning, Washing, and Metal Pickling Equipmen...      51-9192.00\n71  51-9193   Cooling and Freezing Equipment Operators and ...      51-9193.00\n72  51-9195  Molders, Shapers, and Casters, Except Metal an...      51-9195.00\n73  51-9196  Paper Goods Machine Setters, Operators, and Te...      51-9196.00\n74  51-9197                                      Tire Builders      51-9197.00\n75  53-4013  Rail Yard Engineers, Dinkey Operators, and Hos...      53-4013.00\n76  53-7031                                   Dredge Operators      53-7031.00\n77  53-7032  Excavating and Loading Machine and Dragline Op...      53-7032.00\n78  53-7033      Loading Machine Operators, Underground Mining      53-7033.00\n79  53-7041                          Hoist and Winch Operators      53-7041.00\n80  53-7063                     Machine Feeders and Offbearers      53-7063.00\n81  53-7071   Gas Compressor and Gas Pumping Station Operators      53-7071.00\n82  53-7072            Pump Operators, Except Wellhead Pumpers      53-7072.00\n83  53-7073                                   Wellhead Pumpers      53-7073.00\n84  53-7111                         Mine Shuttle Car Operators      53-7111.00\n85  17-2041                                 Chemical Engineers      17-2041.00\n86  17-2151  Mining and Geological Engineers, Including Min...      17-2151.00",
      "text/html": "<div>\n<style scoped>\n    .dataframe tbody tr th:only-of-type {\n        vertical-align: middle;\n    }\n\n    .dataframe tbody tr th {\n        vertical-align: top;\n    }\n\n    .dataframe thead th {\n        text-align: right;\n    }\n</style>\n<table border=\"1\" class=\"dataframe\">\n  <thead>\n    <tr style=\"text-align: right;\">\n      <th></th>\n      <th>soc_code</th>\n      <th>occupation</th>\n      <th>soc_code_padded</th>\n    </tr>\n  </thead>\n  <tbody>\n    <tr>\n      <th>0</th>\n      <td>17-2041</td>\n      <td>Chemical Engineers</td>\n      <td>17-2041.00</td>\n    </tr>\n    <tr>\n      <th>1</th>\n      <td>17-2151</td>\n      <td>Mining and Geological Engineers, Including Min...</td>\n      <td>17-2151.00</td>\n    </tr>\n    <tr>\n      <th>2</th>\n      <td>17-2171</td>\n      <td>Petroleum Engineers</td>\n      <td>17-2171.00</td>\n    </tr>\n    <tr>\n      <th>3</th>\n      <td>19-1012</td>\n      <td>Food Scientists and Technologists</td>\n      <td>19-1012.00</td>\n    </tr>\n    <tr>\n      <th>4</th>\n      <td>19-2031</td>\n      <td>Chemists</td>\n      <td>19-2031.00</td>\n    </tr>\n    <tr>\n      <th>5</th>\n      <td>19-4031</td>\n      <td>Chemical Technicians</td>\n      <td>19-4031.00</td>\n    </tr>\n    <tr>\n      <th>6</th>\n      <td>43-5041</td>\n      <td>Meter Readers, Utilities</td>\n      <td>43-5041.00</td>\n    </tr>\n    <tr>\n      <th>7</th>\n      <td>45-4023</td>\n      <td>Log Graders and Scalers</td>\n      <td>45-4023.00</td>\n    </tr>\n    <tr>\n      <th>8</th>\n      <td>47-4071</td>\n      <td>Septic Tank Servicers and Sewer Pipe Cleaners</td>\n      <td>47-4071.00</td>\n    </tr>\n    <tr>\n      <th>9</th>\n      <td>47-5011</td>\n      <td>Derrick Operators, Oil and Gas</td>\n      <td>47-5011.00</td>\n    </tr>\n    <tr>\n      <th>10</th>\n      <td>47-5012</td>\n      <td>Rotary Drill Operators, Oil and Gas</td>\n      <td>47-5012.00</td>\n    </tr>\n    <tr>\n      <th>11</th>\n      <td>47-5013</td>\n      <td>Service Unit Operators, Oil, Gas, and Mining</td>\n      <td>47-5013.00</td>\n    </tr>\n    <tr>\n      <th>12</th>\n      <td>47-5021</td>\n      <td>Earth Drillers, Except Oil and Gas</td>\n      <td>47-5021.00</td>\n    </tr>\n    <tr>\n      <th>13</th>\n      <td>47-5031</td>\n      <td>Explosives Workers, Ordnance Handling Experts,...</td>\n      <td>47-5031.00</td>\n    </tr>\n    <tr>\n      <th>14</th>\n      <td>47-5042</td>\n      <td>Mine Cutting and Channeling Machine Operators</td>\n      <td>47-5042.00</td>\n    </tr>\n    <tr>\n      <th>15</th>\n      <td>47-5051</td>\n      <td>Rock Splitters, Quarry</td>\n      <td>47-5051.00</td>\n    </tr>\n    <tr>\n      <th>16</th>\n      <td>47-5061</td>\n      <td>Roof Bolters, Mining</td>\n      <td>47-5061.00</td>\n    </tr>\n    <tr>\n      <th>17</th>\n      <td>47-5071</td>\n      <td>Roustabouts, Oil and Gas</td>\n      <td>47-5071.00</td>\n    </tr>\n    <tr>\n      <th>18</th>\n      <td>47-5081</td>\n      <td>Helpers--Extraction Workers</td>\n      <td>47-5081.00</td>\n    </tr>\n    <tr>\n      <th>19</th>\n      <td>49-2095</td>\n      <td>Electrical and Electronics Repairers, Powerhou...</td>\n      <td>49-2095.00</td>\n    </tr>\n    <tr>\n      <th>20</th>\n      <td>49-9012</td>\n      <td>Control and Valve Installers and Repairers, Ex...</td>\n      <td>49-9012.00</td>\n    </tr>\n    <tr>\n      <th>21</th>\n      <td>49-9041</td>\n      <td>Industrial Machinery Mechanics</td>\n      <td>49-9041.00</td>\n    </tr>\n    <tr>\n      <th>22</th>\n      <td>49-9043</td>\n      <td>Maintenance Workers, Machinery</td>\n      <td>49-9043.00</td>\n    </tr>\n    <tr>\n      <th>23</th>\n      <td>49-9045</td>\n      <td>Refractory Materials Repairers, Except Brickma...</td>\n      <td>49-9045.00</td>\n    </tr>\n    <tr>\n      <th>24</th>\n      <td>49-9051</td>\n      <td>Electrical Power-Line Installers and Repairers</td>\n      <td>49-9051.00</td>\n    </tr>\n    <tr>\n      <th>25</th>\n      <td>49-9093</td>\n      <td>Fabric Menders, Except Garment</td>\n      <td>49-9093.00</td>\n    </tr>\n    <tr>\n      <th>26</th>\n      <td>51-1011</td>\n      <td>First-Line Supervisors of Production and Opera...</td>\n      <td>51-1011.00</td>\n    </tr>\n    <tr>\n      <th>27</th>\n      <td>51-2091</td>\n      <td>Fiberglass Laminators and Fabricators</td>\n      <td>51-2091.00</td>\n    </tr>\n    <tr>\n      <th>28</th>\n      <td>51-3091</td>\n      <td>Food and Tobacco Roasting, Baking, and Drying ...</td>\n      <td>51-3091.00</td>\n    </tr>\n    <tr>\n      <th>29</th>\n      <td>51-3092</td>\n      <td>Food Batchmakers</td>\n      <td>51-3092.00</td>\n    </tr>\n    <tr>\n      <th>30</th>\n      <td>51-3093</td>\n      <td>Food Cooking Machine Operators and Tenders</td>\n      <td>51-3093.00</td>\n    </tr>\n    <tr>\n      <th>31</th>\n      <td>51-4021</td>\n      <td>Extruding and Drawing Machine Setters, Operato...</td>\n      <td>51-4021.00</td>\n    </tr>\n    <tr>\n      <th>32</th>\n      <td>51-4022</td>\n      <td>Forging Machine Setters, Operators, and Tender...</td>\n      <td>51-4022.00</td>\n    </tr>\n    <tr>\n      <th>33</th>\n      <td>51-4023</td>\n      <td>Rolling Machine Setters, Operators, and Tender...</td>\n      <td>51-4023.00</td>\n    </tr>\n    <tr>\n      <th>34</th>\n      <td>51-4033</td>\n      <td>Grinding, Lapping, Polishing, and Buffing Mach...</td>\n      <td>51-4033.00</td>\n    </tr>\n    <tr>\n      <th>35</th>\n      <td>51-4051</td>\n      <td>Metal-Refining Furnace Operators and Tenders</td>\n      <td>51-4051.00</td>\n    </tr>\n    <tr>\n      <th>36</th>\n      <td>51-4052</td>\n      <td>Pourers and Casters, Metal</td>\n      <td>51-4052.00</td>\n    </tr>\n    <tr>\n      <th>37</th>\n      <td>51-4062</td>\n      <td>Patternmakers, Metal and Plastic</td>\n      <td>51-4062.00</td>\n    </tr>\n    <tr>\n      <th>38</th>\n      <td>51-4071</td>\n      <td>Foundry Mold and Coremakers</td>\n      <td>51-4071.00</td>\n    </tr>\n    <tr>\n      <th>39</th>\n      <td>51-4191</td>\n      <td>Heat Treating Equipment Setters, Operators, an...</td>\n      <td>51-4191.00</td>\n    </tr>\n    <tr>\n      <th>40</th>\n      <td>51-4192</td>\n      <td>Layout Workers, Metal and Plastic</td>\n      <td>51-4192.00</td>\n    </tr>\n    <tr>\n      <th>41</th>\n      <td>51-4193</td>\n      <td>Plating and Coating Machine Setters, Operators...</td>\n      <td>51-4193.00</td>\n    </tr>\n    <tr>\n      <th>42</th>\n      <td>51-4194</td>\n      <td>Tool Grinders, Filers, and Sharpeners</td>\n      <td>51-4194.00</td>\n    </tr>\n    <tr>\n      <th>43</th>\n      <td>51-6061</td>\n      <td>Textile Bleaching and Dyeing Machine Operators...</td>\n      <td>51-6061.00</td>\n    </tr>\n    <tr>\n      <th>44</th>\n      <td>51-6063</td>\n      <td>Textile Knitting and Weaving Machine Setters, ...</td>\n      <td>51-6063.00</td>\n    </tr>\n    <tr>\n      <th>45</th>\n      <td>51-6064</td>\n      <td>Textile Winding, Twisting, and Drawing Out Mac...</td>\n      <td>51-6064.00</td>\n    </tr>\n    <tr>\n      <th>46</th>\n      <td>51-6091</td>\n      <td>Extruding and Forming Machine Setters, Operato...</td>\n      <td>51-6091.00</td>\n    </tr>\n    <tr>\n      <th>47</th>\n      <td>51-6093</td>\n      <td>Upholsterers</td>\n      <td>51-6093.00</td>\n    </tr>\n    <tr>\n      <th>48</th>\n      <td>51-7011</td>\n      <td>Cabinetmakers and Bench Carpenters</td>\n      <td>51-7011.00</td>\n    </tr>\n    <tr>\n      <th>49</th>\n      <td>51-7021</td>\n      <td>Furniture Finishers</td>\n      <td>51-7021.00</td>\n    </tr>\n    <tr>\n      <th>50</th>\n      <td>51-7031</td>\n      <td>Model Makers, Wood</td>\n      <td>51-7031.00</td>\n    </tr>\n    <tr>\n      <th>51</th>\n      <td>51-7032</td>\n      <td>Patternmakers, Wood</td>\n      <td>51-7032.00</td>\n    </tr>\n    <tr>\n      <th>52</th>\n      <td>51-7041</td>\n      <td>Sawing Machine Setters, Operators, and Tenders...</td>\n      <td>51-7041.00</td>\n    </tr>\n    <tr>\n      <th>53</th>\n      <td>51-7042</td>\n      <td>Woodworking Machine Setters, Operators, and Te...</td>\n      <td>51-7042.00</td>\n    </tr>\n    <tr>\n      <th>54</th>\n      <td>51-8012</td>\n      <td>Power Distributors and Dispatchers</td>\n      <td>51-8012.00</td>\n    </tr>\n    <tr>\n      <th>55</th>\n      <td>51-8091</td>\n      <td>Chemical Plant and System Operators</td>\n      <td>51-8091.00</td>\n    </tr>\n    <tr>\n      <th>56</th>\n      <td>51-8092</td>\n      <td>Gas Plant Operators</td>\n      <td>51-8092.00</td>\n    </tr>\n    <tr>\n      <th>57</th>\n      <td>51-8093</td>\n      <td>Petroleum Pump System Operators, Refinery Oper...</td>\n      <td>51-8093.00</td>\n    </tr>\n    <tr>\n      <th>58</th>\n      <td>51-9011</td>\n      <td>Chemical Equipment Operators and Tenders</td>\n      <td>51-9011.00</td>\n    </tr>\n    <tr>\n      <th>59</th>\n      <td>51-9012</td>\n      <td>Separating, Filtering, Clarifying, Precipitati...</td>\n      <td>51-9012.00</td>\n    </tr>\n    <tr>\n      <th>60</th>\n      <td>51-9021</td>\n      <td>Crushing, Grinding, and Polishing Machine Sett...</td>\n      <td>51-9021.00</td>\n    </tr>\n    <tr>\n      <th>61</th>\n      <td>51-9022</td>\n      <td>Grinding and Polishing Workers, Hand</td>\n      <td>51-9022.00</td>\n    </tr>\n    <tr>\n      <th>62</th>\n      <td>51-9023</td>\n      <td>Mixing and Blending Machine Setters, Operators...</td>\n      <td>51-9023.00</td>\n    </tr>\n    <tr>\n      <th>63</th>\n      <td>51-9031</td>\n      <td>Cutters and Trimmers, Hand</td>\n      <td>51-9031.00</td>\n    </tr>\n    <tr>\n      <th>64</th>\n      <td>51-9032</td>\n      <td>Cutting and Slicing Machine Setters, Operators...</td>\n      <td>51-9032.00</td>\n    </tr>\n    <tr>\n      <th>65</th>\n      <td>51-9041</td>\n      <td>Extruding, Forming, Pressing, and Compacting M...</td>\n      <td>51-9041.00</td>\n    </tr>\n    <tr>\n      <th>66</th>\n      <td>51-9051</td>\n      <td>Furnace, Kiln, Oven, Drier, and Kettle Operato...</td>\n      <td>51-9051.00</td>\n    </tr>\n    <tr>\n      <th>67</th>\n      <td>51-9111</td>\n      <td>Packaging and Filling Machine Operators and Te...</td>\n      <td>51-9111.00</td>\n    </tr>\n    <tr>\n      <th>68</th>\n      <td>51-9121</td>\n      <td>Coating, Painting, and Spraying Machine Setter...</td>\n      <td>51-9121.00</td>\n    </tr>\n    <tr>\n      <th>69</th>\n      <td>51-9191</td>\n      <td>Adhesive Bonding Machine Operators and Tenders</td>\n      <td>51-9191.00</td>\n    </tr>\n    <tr>\n      <th>70</th>\n      <td>51-9192</td>\n      <td>Cleaning, Washing, and Metal Pickling Equipmen...</td>\n      <td>51-9192.00</td>\n    </tr>\n    <tr>\n      <th>71</th>\n      <td>51-9193</td>\n      <td>Cooling and Freezing Equipment Operators and ...</td>\n      <td>51-9193.00</td>\n    </tr>\n    <tr>\n      <th>72</th>\n      <td>51-9195</td>\n      <td>Molders, Shapers, and Casters, Except Metal an...</td>\n      <td>51-9195.00</td>\n    </tr>\n    <tr>\n      <th>73</th>\n      <td>51-9196</td>\n      <td>Paper Goods Machine Setters, Operators, and Te...</td>\n      <td>51-9196.00</td>\n    </tr>\n    <tr>\n      <th>74</th>\n      <td>51-9197</td>\n      <td>Tire Builders</td>\n      <td>51-9197.00</td>\n    </tr>\n    <tr>\n      <th>75</th>\n      <td>53-4013</td>\n      <td>Rail Yard Engineers, Dinkey Operators, and Hos...</td>\n      <td>53-4013.00</td>\n    </tr>\n    <tr>\n      <th>76</th>\n      <td>53-7031</td>\n      <td>Dredge Operators</td>\n      <td>53-7031.00</td>\n    </tr>\n    <tr>\n      <th>77</th>\n      <td>53-7032</td>\n      <td>Excavating and Loading Machine and Dragline Op...</td>\n      <td>53-7032.00</td>\n    </tr>\n    <tr>\n      <th>78</th>\n      <td>53-7033</td>\n      <td>Loading Machine Operators, Underground Mining</td>\n      <td>53-7033.00</td>\n    </tr>\n    <tr>\n      <th>79</th>\n      <td>53-7041</td>\n      <td>Hoist and Winch Operators</td>\n      <td>53-7041.00</td>\n    </tr>\n    <tr>\n      <th>80</th>\n      <td>53-7063</td>\n      <td>Machine Feeders and Offbearers</td>\n      <td>53-7063.00</td>\n    </tr>\n    <tr>\n      <th>81</th>\n      <td>53-7071</td>\n      <td>Gas Compressor and Gas Pumping Station Operators</td>\n      <td>53-7071.00</td>\n    </tr>\n    <tr>\n      <th>82</th>\n      <td>53-7072</td>\n      <td>Pump Operators, Except Wellhead Pumpers</td>\n      <td>53-7072.00</td>\n    </tr>\n    <tr>\n      <th>83</th>\n      <td>53-7073</td>\n      <td>Wellhead Pumpers</td>\n      <td>53-7073.00</td>\n    </tr>\n    <tr>\n      <th>84</th>\n      <td>53-7111</td>\n      <td>Mine Shuttle Car Operators</td>\n      <td>53-7111.00</td>\n    </tr>\n    <tr>\n      <th>85</th>\n      <td>17-2041</td>\n      <td>Chemical Engineers</td>\n      <td>17-2041.00</td>\n    </tr>\n    <tr>\n      <th>86</th>\n      <td>17-2151</td>\n      <td>Mining and Geological Engineers, Including Min...</td>\n      <td>17-2151.00</td>\n    </tr>\n  </tbody>\n</table>\n</div>"
     },
     "execution_count": 7,
     "metadata": {},
     "output_type": "execute_result"
    }
   ],
   "source": [
    "# vona 6-digit soc brown occupations\n",
    "vona_occs = pd.read_csv(\n",
    "    os.path.join(data_raw, \"onet\", \"brown_occupations_vona2018.csv\")\n",
    ")\n",
    "\n",
    "vona_occs[\"soc_code_padded\"] = vona_occs[\"soc_code\"] + '.00'\n",
    "vona_occs"
   ],
   "metadata": {
    "collapsed": false,
    "pycharm": {
     "name": "#%%\n"
    }
   }
  },
  {
   "cell_type": "code",
   "execution_count": 8,
   "outputs": [
    {
     "data": {
      "text/plain": "                                            concept_uri  \\\nid                                                        \n0     http://data.europa.eu/esco/occupation/00030d09...   \n1     http://data.europa.eu/esco/occupation/000e93a3...   \n2     http://data.europa.eu/esco/occupation/0019b951...   \n3     http://data.europa.eu/esco/occupation/0022f466...   \n4     http://data.europa.eu/esco/occupation/002da35b...   \n...                                                 ...   \n2937  http://data.europa.eu/esco/occupation/ff656b3a...   \n2938  http://data.europa.eu/esco/occupation/ff8d4065...   \n2939  http://data.europa.eu/esco/occupation/ffa4dd5d...   \n2940  http://data.europa.eu/esco/occupation/ffade2f4...   \n2941  http://data.europa.eu/esco/occupation/ffc292f1...   \n\n                           preferred_label  isco_level_4   onet_code  \\\nid                                                                     \n0                       technical director          2166  27-1011.00   \n1           metal drawing machine operator          8121  51-4021.00   \n2               precision device inspector          7543  51-9061.00   \n3            air traffic safety technician          3155  17-3023.01   \n4              hospitality revenue manager          2431  13-1161.00   \n...                                    ...           ...         ...   \n2937                           demographer          2120  15-2041.00   \n2938                       sorter labourer          9612  51-9199.01   \n2939                    armoured car guard          5414  33-9032.00   \n2940  civil service administrative officer          2422  11-3011.00   \n2941               motor vehicle assembler          8211  51-2031.00   \n\n                                        onet_occupation  \nid                                                       \n0                                         art directors  \n1     extruding and drawing machine setters, operato...  \n2     inspectors, testers, sorters, samplers, and we...  \n3                   electronics engineering technicians  \n4     market research analysts and marketing special...  \n...                                                 ...  \n2937                                      statisticians  \n2938                  recycling and reclamation workers  \n2939                                    security guards  \n2940                   administrative services managers  \n2941                engine and other machine assemblers  \n\n[2942 rows x 5 columns]",
      "text/html": "<div>\n<style scoped>\n    .dataframe tbody tr th:only-of-type {\n        vertical-align: middle;\n    }\n\n    .dataframe tbody tr th {\n        vertical-align: top;\n    }\n\n    .dataframe thead th {\n        text-align: right;\n    }\n</style>\n<table border=\"1\" class=\"dataframe\">\n  <thead>\n    <tr style=\"text-align: right;\">\n      <th></th>\n      <th>concept_uri</th>\n      <th>preferred_label</th>\n      <th>isco_level_4</th>\n      <th>onet_code</th>\n      <th>onet_occupation</th>\n    </tr>\n    <tr>\n      <th>id</th>\n      <th></th>\n      <th></th>\n      <th></th>\n      <th></th>\n      <th></th>\n    </tr>\n  </thead>\n  <tbody>\n    <tr>\n      <th>0</th>\n      <td>http://data.europa.eu/esco/occupation/00030d09...</td>\n      <td>technical director</td>\n      <td>2166</td>\n      <td>27-1011.00</td>\n      <td>art directors</td>\n    </tr>\n    <tr>\n      <th>1</th>\n      <td>http://data.europa.eu/esco/occupation/000e93a3...</td>\n      <td>metal drawing machine operator</td>\n      <td>8121</td>\n      <td>51-4021.00</td>\n      <td>extruding and drawing machine setters, operato...</td>\n    </tr>\n    <tr>\n      <th>2</th>\n      <td>http://data.europa.eu/esco/occupation/0019b951...</td>\n      <td>precision device inspector</td>\n      <td>7543</td>\n      <td>51-9061.00</td>\n      <td>inspectors, testers, sorters, samplers, and we...</td>\n    </tr>\n    <tr>\n      <th>3</th>\n      <td>http://data.europa.eu/esco/occupation/0022f466...</td>\n      <td>air traffic safety technician</td>\n      <td>3155</td>\n      <td>17-3023.01</td>\n      <td>electronics engineering technicians</td>\n    </tr>\n    <tr>\n      <th>4</th>\n      <td>http://data.europa.eu/esco/occupation/002da35b...</td>\n      <td>hospitality revenue manager</td>\n      <td>2431</td>\n      <td>13-1161.00</td>\n      <td>market research analysts and marketing special...</td>\n    </tr>\n    <tr>\n      <th>...</th>\n      <td>...</td>\n      <td>...</td>\n      <td>...</td>\n      <td>...</td>\n      <td>...</td>\n    </tr>\n    <tr>\n      <th>2937</th>\n      <td>http://data.europa.eu/esco/occupation/ff656b3a...</td>\n      <td>demographer</td>\n      <td>2120</td>\n      <td>15-2041.00</td>\n      <td>statisticians</td>\n    </tr>\n    <tr>\n      <th>2938</th>\n      <td>http://data.europa.eu/esco/occupation/ff8d4065...</td>\n      <td>sorter labourer</td>\n      <td>9612</td>\n      <td>51-9199.01</td>\n      <td>recycling and reclamation workers</td>\n    </tr>\n    <tr>\n      <th>2939</th>\n      <td>http://data.europa.eu/esco/occupation/ffa4dd5d...</td>\n      <td>armoured car guard</td>\n      <td>5414</td>\n      <td>33-9032.00</td>\n      <td>security guards</td>\n    </tr>\n    <tr>\n      <th>2940</th>\n      <td>http://data.europa.eu/esco/occupation/ffade2f4...</td>\n      <td>civil service administrative officer</td>\n      <td>2422</td>\n      <td>11-3011.00</td>\n      <td>administrative services managers</td>\n    </tr>\n    <tr>\n      <th>2941</th>\n      <td>http://data.europa.eu/esco/occupation/ffc292f1...</td>\n      <td>motor vehicle assembler</td>\n      <td>8211</td>\n      <td>51-2031.00</td>\n      <td>engine and other machine assemblers</td>\n    </tr>\n  </tbody>\n</table>\n<p>2942 rows × 5 columns</p>\n</div>"
     },
     "execution_count": 8,
     "metadata": {},
     "output_type": "execute_result"
    }
   ],
   "source": [
    "# crosswalk soc-esco\n",
    "crosswalk = pd.read_csv(\n",
    "    os.path.join(data_raw, \"mcc_data\", \"processed\", \"ESCO_ONET_xwalk_full.csv\"),\n",
    "    index_col=0\n",
    ")\n",
    "\n",
    "crosswalk"
   ],
   "metadata": {
    "collapsed": false,
    "pycharm": {
     "name": "#%%\n"
    }
   }
  },
  {
   "cell_type": "code",
   "execution_count": 14,
   "outputs": [],
   "source": [
    "# merge\n",
    "df_merged = pd.merge(\n",
    "    vona_occs,\n",
    "    crosswalk,\n",
    "    left_on=\"soc_code_padded\",\n",
    "    right_on=\"onet_code\",\n",
    "    how=\"left\"\n",
    ")\n",
    "\n",
    "df_merged = df_merged.dropna(subset=[\"concept_uri\"])"
   ],
   "metadata": {
    "collapsed": false,
    "pycharm": {
     "name": "#%%\n"
    }
   }
  },
  {
   "cell_type": "code",
   "execution_count": 15,
   "outputs": [],
   "source": [
    "df_merged.to_csv(\n",
    "    os.path.join(data_interim, \"occupations_brown_vona_esco.csv\")\n",
    ")"
   ],
   "metadata": {
    "collapsed": false,
    "pycharm": {
     "name": "#%%\n"
    }
   }
  }
 ],
 "metadata": {
  "kernelspec": {
   "display_name": "Python 3",
   "language": "python",
   "name": "python3"
  },
  "language_info": {
   "codemirror_mode": {
    "name": "ipython",
    "version": 2
   },
   "file_extension": ".py",
   "mimetype": "text/x-python",
   "name": "python",
   "nbconvert_exporter": "python",
   "pygments_lexer": "ipython2",
   "version": "2.7.6"
  }
 },
 "nbformat": 4,
 "nbformat_minor": 0
}