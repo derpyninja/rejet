{
 "cells": [
  {
   "cell_type": "markdown",
   "metadata": {
    "pycharm": {
     "name": "#%% md\n"
    }
   },
   "source": [
    "# Skills Space\n",
    "Felix Zaussinger | 21.07.2021\n",
    "\n",
    "## Core Analysis Goal(s)\n",
    "1. visualise adjacency matrix of skills space\n",
    "\n",
    "## Key Insight(s)\n",
    "1."
   ]
  },
  {
   "cell_type": "code",
   "execution_count": 1,
   "metadata": {},
   "outputs": [],
   "source": [
    "import os\n",
    "import sys\n",
    "import logging\n",
    "from pathlib import Path\n",
    "\n",
    "import numpy as np\n",
    "import scipy as sp\n",
    "import statsmodels.api as sm\n",
    "from statsmodels.formula.api import ols\n",
    "\n",
    "%load_ext autoreload\n",
    "%autoreload 2\n",
    "\n",
    "\n",
    "import matplotlib as mpl\n",
    "import matplotlib.pyplot as plt\n",
    "%matplotlib inline\n",
    "%config InlineBackend.figure_format = 'retina'\n",
    "\n",
    "import seaborn as sns\n",
    "sns.set_context(\"poster\")\n",
    "sns.set(rc={'figure.figsize': (16, 9.)})\n",
    "sns.set_style(\"ticks\")\n",
    "\n",
    "import pandas as pd\n",
    "pd.set_option(\"display.max_rows\", 120)\n",
    "pd.set_option(\"display.max_columns\", 120)\n",
    "\n",
    "import networkx as nx\n",
    "logging.basicConfig(level=logging.INFO, stream=sys.stdout)"
   ]
  },
  {
   "cell_type": "markdown",
   "metadata": {
    "pycharm": {
     "name": "#%% md\n"
    }
   },
   "source": [
    "Define directory structure"
   ]
  },
  {
   "cell_type": "code",
   "execution_count": 2,
   "metadata": {
    "pycharm": {
     "name": "#%%\n"
    }
   },
   "outputs": [],
   "source": [
    "# project directory\n",
    "abspath = os.path.abspath('')\n",
    "project_dir = str(Path(abspath).parents[0])\n",
    "\n",
    "# sub-directories\n",
    "data_raw = os.path.join(project_dir, \"data\", \"raw\")\n",
    "data_interim = os.path.join(project_dir, \"data\", \"interim\")\n",
    "data_processed = os.path.join(project_dir, \"data\", \"processed\")\n",
    "data_external = os.path.join(project_dir, \"data\", \"external\")\n",
    "figure_dir = os.path.join(project_dir, \"reports\", \"figures\")"
   ]
  },
  {
   "cell_type": "markdown",
   "metadata": {},
   "source": [
    "Read data"
   ]
  },
  {
   "cell_type": "code",
   "execution_count": 3,
   "metadata": {
    "pycharm": {
     "name": "#%%\n"
    }
   },
   "outputs": [],
   "source": [
    "skills = pd.read_csv(os.path.join(data_raw, \"esco\", \"v1.0.3\", \"skills_en.csv\"))"
   ]
  },
  {
   "cell_type": "code",
   "execution_count": 4,
   "outputs": [],
   "source": [
    "#adj_matrix = pd.read_pickle(\n",
    "#        os.path.join(project_dir, \"data\", \"processed\", \"adjacency_matrix.pkl\")\n",
    "#)"
   ],
   "metadata": {
    "collapsed": false,
    "pycharm": {
     "name": "#%%\n"
    }
   }
  },
  {
   "cell_type": "code",
   "execution_count": 5,
   "metadata": {
    "pycharm": {
     "name": "#%%\n"
    }
   },
   "outputs": [],
   "source": [
    "# A = adj_matrix.values\n",
    "# At = A.transpose()\n",
    "\n",
    "# np.matmul(At, A)"
   ]
  },
  {
   "cell_type": "markdown",
   "metadata": {},
   "source": [
    "Read skills adjacency matrix from Skilllab"
   ]
  },
  {
   "cell_type": "code",
   "execution_count": 6,
   "metadata": {
    "pycharm": {
     "name": "#%%\n"
    }
   },
   "outputs": [],
   "source": [
    "# nesta report\n",
    "sim_skills = np.load(\n",
    "    os.path.join(data_external, \"Neighborhood_Model_skill_to_skill.npy\")\n",
    ")"
   ]
  },
  {
   "cell_type": "markdown",
   "metadata": {
    "pycharm": {
     "name": "#%% md\n"
    }
   },
   "source": [
    "Remove links below a certain threshold (weakly connected skills)"
   ]
  },
  {
   "cell_type": "code",
   "execution_count": 7,
   "outputs": [],
   "source": [
    "#w_thresh = 0.001\n",
    "#sim_skills[sim_skills < w_thresh] = np.nan"
   ],
   "metadata": {
    "collapsed": false,
    "pycharm": {
     "name": "#%%\n"
    }
   }
  },
  {
   "cell_type": "markdown",
   "metadata": {},
   "source": [
    "Load subset of full graph"
   ]
  },
  {
   "cell_type": "code",
   "execution_count": null,
   "metadata": {
    "pycharm": {
     "is_executing": true
    }
   },
   "outputs": [],
   "source": [
    "subset = sim_skills.shape[0]\n",
    "Gsub = nx.from_numpy_array(sim_skills[:subset, :subset])"
   ]
  },
  {
   "cell_type": "markdown",
   "metadata": {},
   "source": [
    "Apply threshold to remove irrelevant edges"
   ]
  },
  {
   "cell_type": "code",
   "execution_count": null,
   "metadata": {
    "pycharm": {
     "is_executing": true
    }
   },
   "outputs": [],
   "source": [
    "#w_thresh = 0.01\n",
    "#edge_weights = nx.get_edge_attributes(Gsub,'weight')\n",
    "#Gsub.remove_edges_from((e for e, w in edge_weights.items() if w < w_thresh))"
   ]
  },
  {
   "cell_type": "code",
   "execution_count": null,
   "outputs": [],
   "source": [
    "closeness_centrality = np.array(list(nx.algorithms.centrality.closeness_centrality(Gsub).values()))\n",
    "degree_centrality = np.array(list(nx.algorithms.centrality.degree_centrality(Gsub).values()))\n",
    "betweenness_centrality = np.array(list(nx.algorithms.centrality.betweenness_centrality(Gsub).values()))\n",
    "eigenvector_centrality = np.array(list(nx.algorithms.centrality.eigenvector_centrality(Gsub).values()))\n",
    "clustering_coefficient = np.array(list(nx.algorithms.cluster.clustering(Gsub).values()))\n",
    "\n",
    "attr_dict = {}\n",
    "\n",
    "for i in np.arange(subset):\n",
    "    attr_dict[i] = {\n",
    "        \"label\": skills.preferredLabel.values[i],\n",
    "        \"closeness_centrality\": closeness_centrality[i],\n",
    "        \"degree_centrality\": degree_centrality[i],\n",
    "        \"betweenness_centrality\": betweenness_centrality[i],\n",
    "        \"eigenvector_centrality\": eigenvector_centrality[i],\n",
    "        \"clustering_coefficient\": clustering_coefficient[i]\n",
    "    }\n",
    "\n",
    "# set attributes\n",
    "nx.set_node_attributes(Gsub, attr_dict)"
   ],
   "metadata": {
    "collapsed": false,
    "pycharm": {
     "name": "#%%\n",
     "is_executing": true
    }
   }
  },
  {
   "cell_type": "code",
   "execution_count": null,
   "outputs": [],
   "source": [
    "weights = nx.get_edge_attributes(Gsub,'weight')\n",
    "weights_array = list(weights.values())"
   ],
   "metadata": {
    "collapsed": false,
    "pycharm": {
     "name": "#%%\n",
     "is_executing": true
    }
   }
  },
  {
   "cell_type": "code",
   "execution_count": null,
   "metadata": {
    "pycharm": {
     "is_executing": true
    }
   },
   "outputs": [],
   "source": [
    "node_labels = dict(zip(np.arange(subset), skills.preferredLabel.values[:subset]))\n",
    "\n",
    "# remove labels for non-central skills\n",
    "centrality_thresh = 0.01\n",
    "for i, c in enumerate(betweenness_centrality):\n",
    "    if c <= centrality_thresh:\n",
    "        node_labels[i] = \"\"\n",
    "\n",
    "# plot\n",
    "pos = nx.spring_layout(Gsub)\n",
    "#pos = nx.kamada_kawai_layout(Gsub)\n",
    "\n",
    "nx.draw_networkx(\n",
    "    Gsub,\n",
    "    labels=node_labels,\n",
    "    font_size=6,\n",
    "    horizontalalignment=\"left\",\n",
    "    verticalalignment=\"top\",\n",
    "    node_size=betweenness_centrality * 1000,\n",
    "    edge_cmap=plt.cm.Blues,\n",
    "    edge_color=list(weights.values()),\n",
    "    edge_vmin=0,\n",
    "    edge_vmax=max(weights_array),\n",
    "    font_color=\"lightgrey\"\n",
    ")\n",
    "\n",
    "plt.box(False)\n",
    "plt.tight_layout()\n",
    "plt.savefig(\n",
    "    os.path.join(figure_dir, \"skills_centrality_all_edges.png\"),\n",
    "    dpi=300,\n",
    "    bbox_inches=\"tight\"\n",
    ")"
   ]
  },
  {
   "cell_type": "code",
   "execution_count": null,
   "outputs": [],
   "source": [
    "skills_centrality = {\n",
    "    \"label\": skills.preferredLabel.values[:subset],\n",
    "    \"closeness_centrality\": closeness_centrality,\n",
    "    \"degree_centrality\": degree_centrality,\n",
    "    \"betweenness_centrality\": betweenness_centrality,\n",
    "    \"eigenvector_centrality\": eigenvector_centrality,\n",
    "    \"clustering_coefficient\": clustering_coefficient\n",
    "}\n",
    "\n",
    "df_skills_centrality = pd.DataFrame.from_dict(skills_centrality)\n",
    "\n",
    "# from kanders 2020\n",
    "def coreness(b, e, c):\n",
    "    \"\"\"Measure of node coreness proposed by Kanders et al. 2020\"\"\"\n",
    "    return 0.5 * (b/max(b) + e/max(e)) * (1-c)\n",
    "\n",
    "df_skills_centrality[\"coreness\"] = coreness(\n",
    "    b=df_skills_centrality[\"betweenness_centrality\"],\n",
    "    e=df_skills_centrality[\"eigenvector_centrality\"],\n",
    "    c=df_skills_centrality[\"clustering_coefficient\"]\n",
    ")\n",
    "\n",
    "df_skills_centrality.to_csv(\n",
    "    os.path.join(data_processed, \"skills_coreness_all_edges.csv\")\n",
    ")"
   ],
   "metadata": {
    "collapsed": false,
    "pycharm": {
     "name": "#%%\n",
     "is_executing": true
    }
   }
  },
  {
   "cell_type": "code",
   "execution_count": null,
   "outputs": [],
   "source": [
    "# export graph files\n",
    "nx.write_gexf(Gsub, os.path.join(data_raw, \"networks\", \"skills_network_all_edges.gexf\"))\n",
    "nx.write_graphml(Gsub, os.path.join(data_raw, \"networks\", \"skills_network_all_edges.graphml\"))"
   ],
   "metadata": {
    "collapsed": false,
    "pycharm": {
     "name": "#%%\n",
     "is_executing": true
    }
   }
  },
  {
   "cell_type": "code",
   "execution_count": null,
   "outputs": [],
   "source": [
    "df_skills_centrality.sort_values(\"coreness\", ascending=False)"
   ],
   "metadata": {
    "collapsed": false,
    "pycharm": {
     "name": "#%%\n",
     "is_executing": true
    }
   }
  }
 ],
 "metadata": {
  "kernelspec": {
   "display_name": "Python 3",
   "language": "python",
   "name": "python3"
  },
  "language_info": {
   "codemirror_mode": {
    "name": "ipython",
    "version": 3
   },
   "file_extension": ".py",
   "mimetype": "text/x-python",
   "name": "python",
   "nbconvert_exporter": "python",
   "pygments_lexer": "ipython3",
   "version": "3.8.6"
  }
 },
 "nbformat": 4,
 "nbformat_minor": 1
}