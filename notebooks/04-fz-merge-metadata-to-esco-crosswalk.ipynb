{
 "cells": [
  {
   "cell_type": "markdown",
   "source": [
    "# Merge metadata with ESCO Crosswalk\n",
    "Felix Zaussinger | 18.05.2021\n",
    "\n",
    "## Core Analysis Goal(s)\n",
    "1. merge onet greenness scores and ASHE wage & employment data to onet-esco crosswalk on isco 4-digit level\n",
    "\n",
    "## Key Insight(s)\n",
    "1. None"
   ],
   "metadata": {
    "collapsed": false,
    "pycharm": {
     "name": "#%% md\n"
    }
   }
  },
  {
   "cell_type": "code",
   "execution_count": 100,
   "metadata": {
    "collapsed": true
   },
   "outputs": [
    {
     "name": "stdout",
     "output_type": "stream",
     "text": [
      "The autoreload extension is already loaded. To reload it, use:\n",
      "  %reload_ext autoreload\n"
     ]
    }
   ],
   "source": [
    "import os\n",
    "import sys\n",
    "import logging\n",
    "from pathlib import Path\n",
    "\n",
    "import numpy as np\n",
    "import scipy as sp\n",
    "import statsmodels.api as sm\n",
    "from statsmodels.formula.api import ols\n",
    "\n",
    "%load_ext autoreload\n",
    "%autoreload 2\n",
    "\n",
    "import matplotlib as mpl\n",
    "import matplotlib.pyplot as plt\n",
    "%matplotlib inline\n",
    "%config InlineBackend.figure_format = 'retina'\n",
    "\n",
    "import seaborn as sns\n",
    "sns.set_context(\"poster\")\n",
    "sns.set(rc={'figure.figsize': (16, 9.)})\n",
    "sns.set_style(\"ticks\")\n",
    "\n",
    "import pandas as pd\n",
    "pd.set_option(\"display.max_rows\", 120)\n",
    "pd.set_option(\"display.max_columns\", 120)\n",
    "\n",
    "logging.basicConfig(level=logging.INFO, stream=sys.stdout)"
   ]
  },
  {
   "cell_type": "markdown",
   "source": [
    "Define directory structure"
   ],
   "metadata": {
    "collapsed": false,
    "pycharm": {
     "name": "#%% md\n"
    }
   }
  },
  {
   "cell_type": "code",
   "execution_count": 101,
   "outputs": [],
   "source": [
    "# project directory\n",
    "abspath = os.path.abspath('')\n",
    "project_dir = str(Path(abspath).parents[0])\n",
    "\n",
    "# sub-directories\n",
    "data_raw = os.path.join(project_dir, \"data\", \"raw\")\n",
    "data_interim = os.path.join(project_dir, \"data\", \"interim\")\n",
    "data_processed = os.path.join(project_dir, \"data\", \"processed\")\n",
    "figure_dir = os.path.join(project_dir, \"reports\", \"figures\")"
   ],
   "metadata": {
    "collapsed": false,
    "pycharm": {
     "name": "#%%\n"
    }
   }
  },
  {
   "cell_type": "markdown",
   "source": [
    "Read crosswalk"
   ],
   "metadata": {
    "collapsed": false,
    "pycharm": {
     "name": "#%% md\n"
    }
   }
  },
  {
   "cell_type": "code",
   "execution_count": 102,
   "outputs": [],
   "source": [
    "crosswalk = pd.read_csv(\n",
    "    os.path.join(data_raw, \"onet\", \"onet_esco_crosswalk\", \"processed\",\n",
    "                 \"ESCO_ONET_xwalk_full.csv\")\n",
    ")\n",
    "\n",
    "# decompose isco 4-digit level\n",
    "crosswalk[\"isco_level_1\"] = crosswalk[\"isco_level_4\"].astype(str).str[:1].astype(int)\n",
    "crosswalk[\"isco_level_2\"] = crosswalk[\"isco_level_4\"].astype(str).str[:2].astype(int)\n",
    "crosswalk[\"isco_level_3\"] = crosswalk[\"isco_level_4\"].astype(str).str[:3].astype(int)"
   ],
   "metadata": {
    "collapsed": false,
    "pycharm": {
     "name": "#%%\n"
    }
   }
  },
  {
   "cell_type": "markdown",
   "source": [
    "Read greenness data"
   ],
   "metadata": {
    "collapsed": false,
    "pycharm": {
     "name": "#%% md\n"
    }
   }
  },
  {
   "cell_type": "code",
   "execution_count": 104,
   "outputs": [],
   "source": [
    "greenness = pd.read_excel(\n",
    "    io=os.path.join(data_raw, \"onet\", \"Onet_GreenTask_AppA.xlsx\"),\n",
    "    sheet_name=\"Occupations\"\n",
    ")"
   ],
   "metadata": {
    "collapsed": false,
    "pycharm": {
     "name": "#%%\n"
    }
   }
  },
  {
   "cell_type": "markdown",
   "source": [
    "Read ASHE employment and earnings data (at 4-digit level)"
   ],
   "metadata": {
    "collapsed": false,
    "pycharm": {
     "name": "#%% md\n"
    }
   }
  },
  {
   "cell_type": "code",
   "execution_count": 105,
   "outputs": [
    {
     "data": {
      "text/plain": "      isco_level_4  employment_share  employment_count\n0             8121          0.000020             645.0\n1             3155          0.000087            2797.0\n2             2431          0.000648           20834.0\n3             3212          0.000647           20808.0\n4             5312          0.004302          138321.0\n...            ...               ...               ...\n1696          8131          0.000053            1699.0\n1697          2120          0.000286            9184.0\n1698          9612          0.000417           13414.0\n1699          2422          0.001128           36261.0\n1700          8211          0.000167            5356.0\n\n[1701 rows x 3 columns]",
      "text/html": "<div>\n<style scoped>\n    .dataframe tbody tr th:only-of-type {\n        vertical-align: middle;\n    }\n\n    .dataframe tbody tr th {\n        vertical-align: top;\n    }\n\n    .dataframe thead th {\n        text-align: right;\n    }\n</style>\n<table border=\"1\" class=\"dataframe\">\n  <thead>\n    <tr style=\"text-align: right;\">\n      <th></th>\n      <th>isco_level_4</th>\n      <th>employment_share</th>\n      <th>employment_count</th>\n    </tr>\n  </thead>\n  <tbody>\n    <tr>\n      <th>0</th>\n      <td>8121</td>\n      <td>0.000020</td>\n      <td>645.0</td>\n    </tr>\n    <tr>\n      <th>1</th>\n      <td>3155</td>\n      <td>0.000087</td>\n      <td>2797.0</td>\n    </tr>\n    <tr>\n      <th>2</th>\n      <td>2431</td>\n      <td>0.000648</td>\n      <td>20834.0</td>\n    </tr>\n    <tr>\n      <th>3</th>\n      <td>3212</td>\n      <td>0.000647</td>\n      <td>20808.0</td>\n    </tr>\n    <tr>\n      <th>4</th>\n      <td>5312</td>\n      <td>0.004302</td>\n      <td>138321.0</td>\n    </tr>\n    <tr>\n      <th>...</th>\n      <td>...</td>\n      <td>...</td>\n      <td>...</td>\n    </tr>\n    <tr>\n      <th>1696</th>\n      <td>8131</td>\n      <td>0.000053</td>\n      <td>1699.0</td>\n    </tr>\n    <tr>\n      <th>1697</th>\n      <td>2120</td>\n      <td>0.000286</td>\n      <td>9184.0</td>\n    </tr>\n    <tr>\n      <th>1698</th>\n      <td>9612</td>\n      <td>0.000417</td>\n      <td>13414.0</td>\n    </tr>\n    <tr>\n      <th>1699</th>\n      <td>2422</td>\n      <td>0.001128</td>\n      <td>36261.0</td>\n    </tr>\n    <tr>\n      <th>1700</th>\n      <td>8211</td>\n      <td>0.000167</td>\n      <td>5356.0</td>\n    </tr>\n  </tbody>\n</table>\n<p>1701 rows × 3 columns</p>\n</div>"
     },
     "execution_count": 105,
     "metadata": {},
     "output_type": "execute_result"
    }
   ],
   "source": [
    "uk_employment = pd.read_csv(\n",
    "    os.path.join(data_raw, \"onet\", \"onet_esco_crosswalk\", \"processed\",\n",
    "                 \"linked_data\", \"ESCO_top_occupations_UK_employment.csv\")\n",
    ")\n",
    "\n",
    "uk_employment[[\"isco_level_4\", \"employment_share\", \"employment_count\"]]"
   ],
   "metadata": {
    "collapsed": false,
    "pycharm": {
     "name": "#%%\n"
    }
   }
  },
  {
   "cell_type": "code",
   "execution_count": 106,
   "outputs": [
    {
     "data": {
      "text/plain": "      isco_level_4  total_paid_hours  annual_earnings\n0             2166         36.670202     37555.308176\n1             8121         39.904110     22031.963636\n2             7543         38.709386     22430.367647\n3             3155         42.036716     32754.000000\n4             2431         36.354676     38839.816377\n...            ...               ...              ...\n2937          2120         35.494487     36135.290249\n2938          9612         39.443972     21357.054545\n2939          5414         37.021429     24315.540984\n2940          2422         35.240566     33292.986333\n2941          8211         41.487179     29879.320665\n\n[2942 rows x 3 columns]",
      "text/html": "<div>\n<style scoped>\n    .dataframe tbody tr th:only-of-type {\n        vertical-align: middle;\n    }\n\n    .dataframe tbody tr th {\n        vertical-align: top;\n    }\n\n    .dataframe thead th {\n        text-align: right;\n    }\n</style>\n<table border=\"1\" class=\"dataframe\">\n  <thead>\n    <tr style=\"text-align: right;\">\n      <th></th>\n      <th>isco_level_4</th>\n      <th>total_paid_hours</th>\n      <th>annual_earnings</th>\n    </tr>\n  </thead>\n  <tbody>\n    <tr>\n      <th>0</th>\n      <td>2166</td>\n      <td>36.670202</td>\n      <td>37555.308176</td>\n    </tr>\n    <tr>\n      <th>1</th>\n      <td>8121</td>\n      <td>39.904110</td>\n      <td>22031.963636</td>\n    </tr>\n    <tr>\n      <th>2</th>\n      <td>7543</td>\n      <td>38.709386</td>\n      <td>22430.367647</td>\n    </tr>\n    <tr>\n      <th>3</th>\n      <td>3155</td>\n      <td>42.036716</td>\n      <td>32754.000000</td>\n    </tr>\n    <tr>\n      <th>4</th>\n      <td>2431</td>\n      <td>36.354676</td>\n      <td>38839.816377</td>\n    </tr>\n    <tr>\n      <th>...</th>\n      <td>...</td>\n      <td>...</td>\n      <td>...</td>\n    </tr>\n    <tr>\n      <th>2937</th>\n      <td>2120</td>\n      <td>35.494487</td>\n      <td>36135.290249</td>\n    </tr>\n    <tr>\n      <th>2938</th>\n      <td>9612</td>\n      <td>39.443972</td>\n      <td>21357.054545</td>\n    </tr>\n    <tr>\n      <th>2939</th>\n      <td>5414</td>\n      <td>37.021429</td>\n      <td>24315.540984</td>\n    </tr>\n    <tr>\n      <th>2940</th>\n      <td>2422</td>\n      <td>35.240566</td>\n      <td>33292.986333</td>\n    </tr>\n    <tr>\n      <th>2941</th>\n      <td>8211</td>\n      <td>41.487179</td>\n      <td>29879.320665</td>\n    </tr>\n  </tbody>\n</table>\n<p>2942 rows × 3 columns</p>\n</div>"
     },
     "execution_count": 106,
     "metadata": {},
     "output_type": "execute_result"
    }
   ],
   "source": [
    "uk_earnings = pd.read_csv(\n",
    "    os.path.join(data_raw, \"onet\", \"onet_esco_crosswalk\", \"processed\",\n",
    "                 \"linked_data\", \"ESCO_occupations_UK_earnings_and_hours_imputed.csv\")\n",
    ")\n",
    "\n",
    "uk_earnings[[\"isco_level_4\", \"total_paid_hours\", \"annual_earnings\"]]"
   ],
   "metadata": {
    "collapsed": false,
    "pycharm": {
     "name": "#%%\n"
    }
   }
  },
  {
   "cell_type": "markdown",
   "source": [
    "read onet job zone data"
   ],
   "metadata": {
    "collapsed": false,
    "pycharm": {
     "name": "#%% md\n"
    }
   }
  },
  {
   "cell_type": "code",
   "execution_count": 115,
   "outputs": [
    {
     "name": "stdout",
     "output_type": "stream",
     "text": [
      "<class 'pandas.core.frame.DataFrame'>\n",
      "RangeIndex: 2942 entries, 0 to 2941\n",
      "Data columns (total 11 columns):\n",
      " #   Column                   Non-Null Count  Dtype  \n",
      "---  ------                   --------------  -----  \n",
      " 0   id                       2942 non-null   int64  \n",
      " 1   concept_uri              2942 non-null   object \n",
      " 2   preferred_label          2942 non-null   object \n",
      " 3   isco_level_4             2942 non-null   int64  \n",
      " 4   onet_code                2921 non-null   object \n",
      " 5   onet_occupation          2921 non-null   object \n",
      " 6   O*NET-SOC Code           2860 non-null   object \n",
      " 7   job_zone                 2860 non-null   float64\n",
      " 8   education_level          2858 non-null   float64\n",
      " 9   related_work_experience  2858 non-null   float64\n",
      " 10  on_the_job_training      2858 non-null   float64\n",
      "dtypes: float64(4), int64(2), object(5)\n",
      "memory usage: 253.0+ KB\n"
     ]
    }
   ],
   "source": [
    "job_zones = pd.read_csv(\n",
    "    os.path.join(data_raw, \"onet\", \"onet_esco_crosswalk\", \"processed\",\n",
    "                 \"linked_data\", \"ESCO_occupations_Job_Zones.csv\")\n",
    ")\n",
    "\n",
    "job_zones.info()"
   ],
   "metadata": {
    "collapsed": false,
    "pycharm": {
     "name": "#%%\n"
    }
   }
  },
  {
   "cell_type": "markdown",
   "source": [
    "left-join greenness index"
   ],
   "metadata": {
    "collapsed": false,
    "pycharm": {
     "name": "#%% md\n"
    }
   }
  },
  {
   "cell_type": "code",
   "execution_count": 107,
   "outputs": [
    {
     "name": "stdout",
     "output_type": "stream",
     "text": [
      "<class 'pandas.core.frame.DataFrame'>\n",
      "Int64Index: 2942 entries, 0 to 2941\n",
      "Data columns (total 16 columns):\n",
      " #   Column                  Non-Null Count  Dtype  \n",
      "---  ------                  --------------  -----  \n",
      " 0   id                      2942 non-null   int64  \n",
      " 1   concept_uri             2942 non-null   object \n",
      " 2   preferred_label         2942 non-null   object \n",
      " 3   isco_level_4            2942 non-null   int64  \n",
      " 4   onet_code               2921 non-null   object \n",
      " 5   onet_occupation         2921 non-null   object \n",
      " 6   isco_level_1            2942 non-null   int64  \n",
      " 7   isco_level_2            2942 non-null   int64  \n",
      " 8   isco_level_3            2942 non-null   int64  \n",
      " 9   Code                    432 non-null    object \n",
      " 10  Title                   432 non-null    object \n",
      " 11  Occupation Type         432 non-null    object \n",
      " 12  # New Green Tasks       432 non-null    float64\n",
      " 13  # Existing Green Tasks  432 non-null    float64\n",
      " 14  # Non-Green Tasks       432 non-null    float64\n",
      " 15  Greenness_Vona_2018     432 non-null    float64\n",
      "dtypes: float64(4), int64(5), object(7)\n",
      "memory usage: 390.7+ KB\n"
     ]
    }
   ],
   "source": [
    "df_merged_1 = pd.merge(\n",
    "    left=crosswalk,\n",
    "    right=greenness,\n",
    "    left_on=\"onet_code\",\n",
    "    right_on=\"Code\",\n",
    "    how=\"left\",\n",
    "    validate=\"many_to_one\"\n",
    ")\n",
    "\n",
    "df_merged_1.info()"
   ],
   "metadata": {
    "collapsed": false,
    "pycharm": {
     "name": "#%%\n"
    }
   }
  },
  {
   "cell_type": "markdown",
   "source": [
    "left-join earnings data"
   ],
   "metadata": {
    "collapsed": false
   }
  },
  {
   "cell_type": "code",
   "execution_count": 108,
   "outputs": [
    {
     "data": {
      "text/plain": "        id                                        concept_uri  \\\n0        0  http://data.europa.eu/esco/occupation/00030d09...   \n1        1  http://data.europa.eu/esco/occupation/000e93a3...   \n2        2  http://data.europa.eu/esco/occupation/0019b951...   \n3        3  http://data.europa.eu/esco/occupation/0022f466...   \n4        4  http://data.europa.eu/esco/occupation/002da35b...   \n...    ...                                                ...   \n2937  2937  http://data.europa.eu/esco/occupation/ff656b3a...   \n2938  2938  http://data.europa.eu/esco/occupation/ff8d4065...   \n2939  2939  http://data.europa.eu/esco/occupation/ffa4dd5d...   \n2940  2940  http://data.europa.eu/esco/occupation/ffade2f4...   \n2941  2941  http://data.europa.eu/esco/occupation/ffc292f1...   \n\n                           preferred_label  isco_level_4   onet_code  \\\n0                       technical director          2166  27-1011.00   \n1           metal drawing machine operator          8121  51-4021.00   \n2               precision device inspector          7543  51-9061.00   \n3            air traffic safety technician          3155  17-3023.01   \n4              hospitality revenue manager          2431  13-1161.00   \n...                                    ...           ...         ...   \n2937                           demographer          2120  15-2041.00   \n2938                       sorter labourer          9612  51-9199.01   \n2939                    armoured car guard          5414  33-9032.00   \n2940  civil service administrative officer          2422  11-3011.00   \n2941               motor vehicle assembler          8211  51-2031.00   \n\n                                        onet_occupation  isco_level_1  \\\n0                                         art directors             2   \n1     extruding and drawing machine setters, operato...             8   \n2     inspectors, testers, sorters, samplers, and we...             7   \n3                   electronics engineering technicians             3   \n4     market research analysts and marketing special...             2   \n...                                                 ...           ...   \n2937                                      statisticians             2   \n2938                  recycling and reclamation workers             9   \n2939                                    security guards             5   \n2940                   administrative services managers             2   \n2941                engine and other machine assemblers             8   \n\n      isco_level_2  isco_level_3  total_paid_hours  annual_earnings  \n0               21           216         36.670202     37555.308176  \n1               81           812         39.904110     22031.963636  \n2               75           754         38.709386     22430.367647  \n3               31           315         42.036716     32754.000000  \n4               24           243         36.354676     38839.816377  \n...            ...           ...               ...              ...  \n2937            21           212         35.494487     36135.290249  \n2938            96           961         39.443972     21357.054545  \n2939            54           541         37.021429     24315.540984  \n2940            24           242         35.240566     33292.986333  \n2941            82           821         41.487179     29879.320665  \n\n[2942 rows x 11 columns]",
      "text/html": "<div>\n<style scoped>\n    .dataframe tbody tr th:only-of-type {\n        vertical-align: middle;\n    }\n\n    .dataframe tbody tr th {\n        vertical-align: top;\n    }\n\n    .dataframe thead th {\n        text-align: right;\n    }\n</style>\n<table border=\"1\" class=\"dataframe\">\n  <thead>\n    <tr style=\"text-align: right;\">\n      <th></th>\n      <th>id</th>\n      <th>concept_uri</th>\n      <th>preferred_label</th>\n      <th>isco_level_4</th>\n      <th>onet_code</th>\n      <th>onet_occupation</th>\n      <th>isco_level_1</th>\n      <th>isco_level_2</th>\n      <th>isco_level_3</th>\n      <th>total_paid_hours</th>\n      <th>annual_earnings</th>\n    </tr>\n  </thead>\n  <tbody>\n    <tr>\n      <th>0</th>\n      <td>0</td>\n      <td>http://data.europa.eu/esco/occupation/00030d09...</td>\n      <td>technical director</td>\n      <td>2166</td>\n      <td>27-1011.00</td>\n      <td>art directors</td>\n      <td>2</td>\n      <td>21</td>\n      <td>216</td>\n      <td>36.670202</td>\n      <td>37555.308176</td>\n    </tr>\n    <tr>\n      <th>1</th>\n      <td>1</td>\n      <td>http://data.europa.eu/esco/occupation/000e93a3...</td>\n      <td>metal drawing machine operator</td>\n      <td>8121</td>\n      <td>51-4021.00</td>\n      <td>extruding and drawing machine setters, operato...</td>\n      <td>8</td>\n      <td>81</td>\n      <td>812</td>\n      <td>39.904110</td>\n      <td>22031.963636</td>\n    </tr>\n    <tr>\n      <th>2</th>\n      <td>2</td>\n      <td>http://data.europa.eu/esco/occupation/0019b951...</td>\n      <td>precision device inspector</td>\n      <td>7543</td>\n      <td>51-9061.00</td>\n      <td>inspectors, testers, sorters, samplers, and we...</td>\n      <td>7</td>\n      <td>75</td>\n      <td>754</td>\n      <td>38.709386</td>\n      <td>22430.367647</td>\n    </tr>\n    <tr>\n      <th>3</th>\n      <td>3</td>\n      <td>http://data.europa.eu/esco/occupation/0022f466...</td>\n      <td>air traffic safety technician</td>\n      <td>3155</td>\n      <td>17-3023.01</td>\n      <td>electronics engineering technicians</td>\n      <td>3</td>\n      <td>31</td>\n      <td>315</td>\n      <td>42.036716</td>\n      <td>32754.000000</td>\n    </tr>\n    <tr>\n      <th>4</th>\n      <td>4</td>\n      <td>http://data.europa.eu/esco/occupation/002da35b...</td>\n      <td>hospitality revenue manager</td>\n      <td>2431</td>\n      <td>13-1161.00</td>\n      <td>market research analysts and marketing special...</td>\n      <td>2</td>\n      <td>24</td>\n      <td>243</td>\n      <td>36.354676</td>\n      <td>38839.816377</td>\n    </tr>\n    <tr>\n      <th>...</th>\n      <td>...</td>\n      <td>...</td>\n      <td>...</td>\n      <td>...</td>\n      <td>...</td>\n      <td>...</td>\n      <td>...</td>\n      <td>...</td>\n      <td>...</td>\n      <td>...</td>\n      <td>...</td>\n    </tr>\n    <tr>\n      <th>2937</th>\n      <td>2937</td>\n      <td>http://data.europa.eu/esco/occupation/ff656b3a...</td>\n      <td>demographer</td>\n      <td>2120</td>\n      <td>15-2041.00</td>\n      <td>statisticians</td>\n      <td>2</td>\n      <td>21</td>\n      <td>212</td>\n      <td>35.494487</td>\n      <td>36135.290249</td>\n    </tr>\n    <tr>\n      <th>2938</th>\n      <td>2938</td>\n      <td>http://data.europa.eu/esco/occupation/ff8d4065...</td>\n      <td>sorter labourer</td>\n      <td>9612</td>\n      <td>51-9199.01</td>\n      <td>recycling and reclamation workers</td>\n      <td>9</td>\n      <td>96</td>\n      <td>961</td>\n      <td>39.443972</td>\n      <td>21357.054545</td>\n    </tr>\n    <tr>\n      <th>2939</th>\n      <td>2939</td>\n      <td>http://data.europa.eu/esco/occupation/ffa4dd5d...</td>\n      <td>armoured car guard</td>\n      <td>5414</td>\n      <td>33-9032.00</td>\n      <td>security guards</td>\n      <td>5</td>\n      <td>54</td>\n      <td>541</td>\n      <td>37.021429</td>\n      <td>24315.540984</td>\n    </tr>\n    <tr>\n      <th>2940</th>\n      <td>2940</td>\n      <td>http://data.europa.eu/esco/occupation/ffade2f4...</td>\n      <td>civil service administrative officer</td>\n      <td>2422</td>\n      <td>11-3011.00</td>\n      <td>administrative services managers</td>\n      <td>2</td>\n      <td>24</td>\n      <td>242</td>\n      <td>35.240566</td>\n      <td>33292.986333</td>\n    </tr>\n    <tr>\n      <th>2941</th>\n      <td>2941</td>\n      <td>http://data.europa.eu/esco/occupation/ffc292f1...</td>\n      <td>motor vehicle assembler</td>\n      <td>8211</td>\n      <td>51-2031.00</td>\n      <td>engine and other machine assemblers</td>\n      <td>8</td>\n      <td>82</td>\n      <td>821</td>\n      <td>41.487179</td>\n      <td>29879.320665</td>\n    </tr>\n  </tbody>\n</table>\n<p>2942 rows × 11 columns</p>\n</div>"
     },
     "execution_count": 108,
     "metadata": {},
     "output_type": "execute_result"
    }
   ],
   "source": [
    "df_merged_2 = pd.merge(\n",
    "    left=crosswalk,\n",
    "    right=uk_earnings[[\"isco_level_4\", \"total_paid_hours\", \"annual_earnings\"]],\n",
    "    on=\"isco_level_4\",\n",
    "    how=\"left\"\n",
    ").drop_duplicates().reset_index(drop=True)\n",
    "\n",
    "df_merged_2"
   ],
   "metadata": {
    "collapsed": false,
    "pycharm": {
     "name": "#%%\n"
    }
   }
  },
  {
   "cell_type": "markdown",
   "source": [
    "left-join employment data"
   ],
   "metadata": {
    "collapsed": false,
    "pycharm": {
     "name": "#%% md\n"
    }
   }
  },
  {
   "cell_type": "code",
   "execution_count": 119,
   "outputs": [
    {
     "data": {
      "text/plain": "        id                                        concept_uri  \\\n0        0  http://data.europa.eu/esco/occupation/00030d09...   \n1        1  http://data.europa.eu/esco/occupation/000e93a3...   \n2        2  http://data.europa.eu/esco/occupation/0019b951...   \n3        3  http://data.europa.eu/esco/occupation/0022f466...   \n4        4  http://data.europa.eu/esco/occupation/002da35b...   \n...    ...                                                ...   \n2937  2937  http://data.europa.eu/esco/occupation/ff656b3a...   \n2938  2938  http://data.europa.eu/esco/occupation/ff8d4065...   \n2939  2939  http://data.europa.eu/esco/occupation/ffa4dd5d...   \n2940  2940  http://data.europa.eu/esco/occupation/ffade2f4...   \n2941  2941  http://data.europa.eu/esco/occupation/ffc292f1...   \n\n                           preferred_label  isco_level_4   onet_code  \\\n0                       technical director          2166  27-1011.00   \n1           metal drawing machine operator          8121  51-4021.00   \n2               precision device inspector          7543  51-9061.00   \n3            air traffic safety technician          3155  17-3023.01   \n4              hospitality revenue manager          2431  13-1161.00   \n...                                    ...           ...         ...   \n2937                           demographer          2120  15-2041.00   \n2938                       sorter labourer          9612  51-9199.01   \n2939                    armoured car guard          5414  33-9032.00   \n2940  civil service administrative officer          2422  11-3011.00   \n2941               motor vehicle assembler          8211  51-2031.00   \n\n                                        onet_occupation  isco_level_1  \\\n0                                         art directors             2   \n1     extruding and drawing machine setters, operato...             8   \n2     inspectors, testers, sorters, samplers, and we...             7   \n3                   electronics engineering technicians             3   \n4     market research analysts and marketing special...             2   \n...                                                 ...           ...   \n2937                                      statisticians             2   \n2938                  recycling and reclamation workers             9   \n2939                                    security guards             5   \n2940                   administrative services managers             2   \n2941                engine and other machine assemblers             8   \n\n      isco_level_2  isco_level_3  total_paid_hours  annual_earnings  \\\n0               21           216         36.670202     37555.308176   \n1               81           812         39.904110     22031.963636   \n2               75           754         38.709386     22430.367647   \n3               31           315         42.036716     32754.000000   \n4               24           243         36.354676     38839.816377   \n...            ...           ...               ...              ...   \n2937            21           212         35.494487     36135.290249   \n2938            96           961         39.443972     21357.054545   \n2939            54           541         37.021429     24315.540984   \n2940            24           242         35.240566     33292.986333   \n2941            82           821         41.487179     29879.320665   \n\n      employment_share  employment_count  \n0             0.000294            9452.0  \n1             0.000020             645.0  \n2             0.000228            7338.0  \n3             0.000087            2797.0  \n4             0.000648           20834.0  \n...                ...               ...  \n2937          0.000286            9184.0  \n2938          0.000417           13414.0  \n2939          0.001450           46635.0  \n2940          0.001128           36261.0  \n2941          0.000167            5356.0  \n\n[2942 rows x 13 columns]",
      "text/html": "<div>\n<style scoped>\n    .dataframe tbody tr th:only-of-type {\n        vertical-align: middle;\n    }\n\n    .dataframe tbody tr th {\n        vertical-align: top;\n    }\n\n    .dataframe thead th {\n        text-align: right;\n    }\n</style>\n<table border=\"1\" class=\"dataframe\">\n  <thead>\n    <tr style=\"text-align: right;\">\n      <th></th>\n      <th>id</th>\n      <th>concept_uri</th>\n      <th>preferred_label</th>\n      <th>isco_level_4</th>\n      <th>onet_code</th>\n      <th>onet_occupation</th>\n      <th>isco_level_1</th>\n      <th>isco_level_2</th>\n      <th>isco_level_3</th>\n      <th>total_paid_hours</th>\n      <th>annual_earnings</th>\n      <th>employment_share</th>\n      <th>employment_count</th>\n    </tr>\n  </thead>\n  <tbody>\n    <tr>\n      <th>0</th>\n      <td>0</td>\n      <td>http://data.europa.eu/esco/occupation/00030d09...</td>\n      <td>technical director</td>\n      <td>2166</td>\n      <td>27-1011.00</td>\n      <td>art directors</td>\n      <td>2</td>\n      <td>21</td>\n      <td>216</td>\n      <td>36.670202</td>\n      <td>37555.308176</td>\n      <td>0.000294</td>\n      <td>9452.0</td>\n    </tr>\n    <tr>\n      <th>1</th>\n      <td>1</td>\n      <td>http://data.europa.eu/esco/occupation/000e93a3...</td>\n      <td>metal drawing machine operator</td>\n      <td>8121</td>\n      <td>51-4021.00</td>\n      <td>extruding and drawing machine setters, operato...</td>\n      <td>8</td>\n      <td>81</td>\n      <td>812</td>\n      <td>39.904110</td>\n      <td>22031.963636</td>\n      <td>0.000020</td>\n      <td>645.0</td>\n    </tr>\n    <tr>\n      <th>2</th>\n      <td>2</td>\n      <td>http://data.europa.eu/esco/occupation/0019b951...</td>\n      <td>precision device inspector</td>\n      <td>7543</td>\n      <td>51-9061.00</td>\n      <td>inspectors, testers, sorters, samplers, and we...</td>\n      <td>7</td>\n      <td>75</td>\n      <td>754</td>\n      <td>38.709386</td>\n      <td>22430.367647</td>\n      <td>0.000228</td>\n      <td>7338.0</td>\n    </tr>\n    <tr>\n      <th>3</th>\n      <td>3</td>\n      <td>http://data.europa.eu/esco/occupation/0022f466...</td>\n      <td>air traffic safety technician</td>\n      <td>3155</td>\n      <td>17-3023.01</td>\n      <td>electronics engineering technicians</td>\n      <td>3</td>\n      <td>31</td>\n      <td>315</td>\n      <td>42.036716</td>\n      <td>32754.000000</td>\n      <td>0.000087</td>\n      <td>2797.0</td>\n    </tr>\n    <tr>\n      <th>4</th>\n      <td>4</td>\n      <td>http://data.europa.eu/esco/occupation/002da35b...</td>\n      <td>hospitality revenue manager</td>\n      <td>2431</td>\n      <td>13-1161.00</td>\n      <td>market research analysts and marketing special...</td>\n      <td>2</td>\n      <td>24</td>\n      <td>243</td>\n      <td>36.354676</td>\n      <td>38839.816377</td>\n      <td>0.000648</td>\n      <td>20834.0</td>\n    </tr>\n    <tr>\n      <th>...</th>\n      <td>...</td>\n      <td>...</td>\n      <td>...</td>\n      <td>...</td>\n      <td>...</td>\n      <td>...</td>\n      <td>...</td>\n      <td>...</td>\n      <td>...</td>\n      <td>...</td>\n      <td>...</td>\n      <td>...</td>\n      <td>...</td>\n    </tr>\n    <tr>\n      <th>2937</th>\n      <td>2937</td>\n      <td>http://data.europa.eu/esco/occupation/ff656b3a...</td>\n      <td>demographer</td>\n      <td>2120</td>\n      <td>15-2041.00</td>\n      <td>statisticians</td>\n      <td>2</td>\n      <td>21</td>\n      <td>212</td>\n      <td>35.494487</td>\n      <td>36135.290249</td>\n      <td>0.000286</td>\n      <td>9184.0</td>\n    </tr>\n    <tr>\n      <th>2938</th>\n      <td>2938</td>\n      <td>http://data.europa.eu/esco/occupation/ff8d4065...</td>\n      <td>sorter labourer</td>\n      <td>9612</td>\n      <td>51-9199.01</td>\n      <td>recycling and reclamation workers</td>\n      <td>9</td>\n      <td>96</td>\n      <td>961</td>\n      <td>39.443972</td>\n      <td>21357.054545</td>\n      <td>0.000417</td>\n      <td>13414.0</td>\n    </tr>\n    <tr>\n      <th>2939</th>\n      <td>2939</td>\n      <td>http://data.europa.eu/esco/occupation/ffa4dd5d...</td>\n      <td>armoured car guard</td>\n      <td>5414</td>\n      <td>33-9032.00</td>\n      <td>security guards</td>\n      <td>5</td>\n      <td>54</td>\n      <td>541</td>\n      <td>37.021429</td>\n      <td>24315.540984</td>\n      <td>0.001450</td>\n      <td>46635.0</td>\n    </tr>\n    <tr>\n      <th>2940</th>\n      <td>2940</td>\n      <td>http://data.europa.eu/esco/occupation/ffade2f4...</td>\n      <td>civil service administrative officer</td>\n      <td>2422</td>\n      <td>11-3011.00</td>\n      <td>administrative services managers</td>\n      <td>2</td>\n      <td>24</td>\n      <td>242</td>\n      <td>35.240566</td>\n      <td>33292.986333</td>\n      <td>0.001128</td>\n      <td>36261.0</td>\n    </tr>\n    <tr>\n      <th>2941</th>\n      <td>2941</td>\n      <td>http://data.europa.eu/esco/occupation/ffc292f1...</td>\n      <td>motor vehicle assembler</td>\n      <td>8211</td>\n      <td>51-2031.00</td>\n      <td>engine and other machine assemblers</td>\n      <td>8</td>\n      <td>82</td>\n      <td>821</td>\n      <td>41.487179</td>\n      <td>29879.320665</td>\n      <td>0.000167</td>\n      <td>5356.0</td>\n    </tr>\n  </tbody>\n</table>\n<p>2942 rows × 13 columns</p>\n</div>"
     },
     "execution_count": 119,
     "metadata": {},
     "output_type": "execute_result"
    }
   ],
   "source": [
    "df_merged_3 = pd.merge(\n",
    "    left=df_merged_2,\n",
    "    right=uk_employment[[\"isco_level_4\", \"employment_share\", \"employment_count\"]],\n",
    "    on=\"isco_level_4\",\n",
    "    how=\"left\"\n",
    ").drop_duplicates().reset_index(drop=True)\n",
    "\n",
    "df_merged_3"
   ],
   "metadata": {
    "collapsed": false,
    "pycharm": {
     "name": "#%%\n"
    }
   }
  },
  {
   "cell_type": "markdown",
   "source": [
    "left-join job zone data"
   ],
   "metadata": {
    "collapsed": false,
    "pycharm": {
     "name": "#%% md\n"
    }
   }
  },
  {
   "cell_type": "code",
   "execution_count": 130,
   "outputs": [
    {
     "name": "stdout",
     "output_type": "stream",
     "text": [
      "<class 'pandas.core.frame.DataFrame'>\n",
      "RangeIndex: 2942 entries, 0 to 2941\n",
      "Data columns (total 13 columns):\n",
      " #   Column            Non-Null Count  Dtype  \n",
      "---  ------            --------------  -----  \n",
      " 0   id                2942 non-null   int64  \n",
      " 1   concept_uri       2942 non-null   object \n",
      " 2   preferred_label   2942 non-null   object \n",
      " 3   isco_level_4      2942 non-null   int64  \n",
      " 4   onet_code         2921 non-null   object \n",
      " 5   onet_occupation   2921 non-null   object \n",
      " 6   isco_level_1      2942 non-null   int64  \n",
      " 7   isco_level_2      2942 non-null   int64  \n",
      " 8   isco_level_3      2942 non-null   int64  \n",
      " 9   total_paid_hours  2926 non-null   float64\n",
      " 10  annual_earnings   2926 non-null   float64\n",
      " 11  employment_share  2857 non-null   float64\n",
      " 12  employment_count  2857 non-null   float64\n",
      "dtypes: float64(4), int64(5), object(4)\n",
      "memory usage: 298.9+ KB\n"
     ]
    }
   ],
   "source": [
    "df_merged_3.info()"
   ],
   "metadata": {
    "collapsed": false,
    "pycharm": {
     "name": "#%%\n"
    }
   }
  },
  {
   "cell_type": "code",
   "execution_count": 128,
   "outputs": [
    {
     "data": {
      "text/plain": "         id                                        concept_uri  \\\n0         0  http://data.europa.eu/esco/occupation/00030d09...   \n1         0  http://data.europa.eu/esco/occupation/00030d09...   \n3         0  http://data.europa.eu/esco/occupation/00030d09...   \n11        0  http://data.europa.eu/esco/occupation/00030d09...   \n13        0  http://data.europa.eu/esco/occupation/00030d09...   \n...     ...                                                ...   \n52318  2940  http://data.europa.eu/esco/occupation/ffade2f4...   \n52322  2940  http://data.europa.eu/esco/occupation/ffade2f4...   \n52326  2940  http://data.europa.eu/esco/occupation/ffade2f4...   \n52327  2941  http://data.europa.eu/esco/occupation/ffc292f1...   \n52328  2941  http://data.europa.eu/esco/occupation/ffc292f1...   \n\n                            preferred_label  isco_level_4   onet_code  \\\n0                        technical director          2166  27-1011.00   \n1                        technical director          2166  27-1011.00   \n3                        technical director          2166  27-1011.00   \n11                       technical director          2166  27-1011.00   \n13                       technical director          2166  27-1011.00   \n...                                     ...           ...         ...   \n52318  civil service administrative officer          2422  11-3011.00   \n52322  civil service administrative officer          2422  11-3011.00   \n52326  civil service administrative officer          2422  11-3011.00   \n52327               motor vehicle assembler          8211  51-2031.00   \n52328               motor vehicle assembler          8211  51-2031.00   \n\n                           onet_occupation  isco_level_1  isco_level_2  \\\n0                            art directors             2            21   \n1                            art directors             2            21   \n3                            art directors             2            21   \n11                           art directors             2            21   \n13                           art directors             2            21   \n...                                    ...           ...           ...   \n52318     administrative services managers             2            24   \n52322     administrative services managers             2            24   \n52326     administrative services managers             2            24   \n52327  engine and other machine assemblers             8            82   \n52328  engine and other machine assemblers             8            82   \n\n       isco_level_3  total_paid_hours  annual_earnings  employment_share  \\\n0               216         36.670202     37555.308176          0.000294   \n1               216         36.670202     37555.308176          0.000294   \n3               216         36.670202     37555.308176          0.000294   \n11              216         36.670202     37555.308176          0.000294   \n13              216         36.670202     37555.308176          0.000294   \n...             ...               ...              ...               ...   \n52318           242         35.240566     33292.986333          0.001128   \n52322           242         35.240566     33292.986333          0.001128   \n52326           242         35.240566     33292.986333          0.001128   \n52327           821         41.487179     29879.320665          0.000167   \n52328           821         41.487179     29879.320665          0.000167   \n\n       employment_count  job_zone  education_level  related_work_experience  \\\n0                9452.0       4.0           6.2477                   8.0309   \n1                9452.0       4.0           5.2377                   6.2857   \n3                9452.0       4.0           4.9737                   6.4292   \n11               9452.0       4.0           5.3847                   5.9240   \n13               9452.0       3.0           5.0687                   6.7961   \n...                 ...       ...              ...                      ...   \n52318           36261.0       3.0           3.2500                   5.8000   \n52322           36261.0       3.0           4.4890                   6.6837   \n52326           36261.0       3.0           3.9636                   6.9711   \n52327            5356.0       2.0           3.0625                   5.3635   \n52328            5356.0       2.0           2.5437                   5.1766   \n\n       on_the_job_training  \n0                   4.3843  \n1                   2.9999  \n3                   2.4731  \n11                  3.0385  \n13                  2.6492  \n...                    ...  \n52318               4.2000  \n52322               3.1881  \n52326               3.4248  \n52327               4.0223  \n52328               4.4145  \n\n[11244 rows x 17 columns]",
      "text/html": "<div>\n<style scoped>\n    .dataframe tbody tr th:only-of-type {\n        vertical-align: middle;\n    }\n\n    .dataframe tbody tr th {\n        vertical-align: top;\n    }\n\n    .dataframe thead th {\n        text-align: right;\n    }\n</style>\n<table border=\"1\" class=\"dataframe\">\n  <thead>\n    <tr style=\"text-align: right;\">\n      <th></th>\n      <th>id</th>\n      <th>concept_uri</th>\n      <th>preferred_label</th>\n      <th>isco_level_4</th>\n      <th>onet_code</th>\n      <th>onet_occupation</th>\n      <th>isco_level_1</th>\n      <th>isco_level_2</th>\n      <th>isco_level_3</th>\n      <th>total_paid_hours</th>\n      <th>annual_earnings</th>\n      <th>employment_share</th>\n      <th>employment_count</th>\n      <th>job_zone</th>\n      <th>education_level</th>\n      <th>related_work_experience</th>\n      <th>on_the_job_training</th>\n    </tr>\n  </thead>\n  <tbody>\n    <tr>\n      <th>0</th>\n      <td>0</td>\n      <td>http://data.europa.eu/esco/occupation/00030d09...</td>\n      <td>technical director</td>\n      <td>2166</td>\n      <td>27-1011.00</td>\n      <td>art directors</td>\n      <td>2</td>\n      <td>21</td>\n      <td>216</td>\n      <td>36.670202</td>\n      <td>37555.308176</td>\n      <td>0.000294</td>\n      <td>9452.0</td>\n      <td>4.0</td>\n      <td>6.2477</td>\n      <td>8.0309</td>\n      <td>4.3843</td>\n    </tr>\n    <tr>\n      <th>1</th>\n      <td>0</td>\n      <td>http://data.europa.eu/esco/occupation/00030d09...</td>\n      <td>technical director</td>\n      <td>2166</td>\n      <td>27-1011.00</td>\n      <td>art directors</td>\n      <td>2</td>\n      <td>21</td>\n      <td>216</td>\n      <td>36.670202</td>\n      <td>37555.308176</td>\n      <td>0.000294</td>\n      <td>9452.0</td>\n      <td>4.0</td>\n      <td>5.2377</td>\n      <td>6.2857</td>\n      <td>2.9999</td>\n    </tr>\n    <tr>\n      <th>3</th>\n      <td>0</td>\n      <td>http://data.europa.eu/esco/occupation/00030d09...</td>\n      <td>technical director</td>\n      <td>2166</td>\n      <td>27-1011.00</td>\n      <td>art directors</td>\n      <td>2</td>\n      <td>21</td>\n      <td>216</td>\n      <td>36.670202</td>\n      <td>37555.308176</td>\n      <td>0.000294</td>\n      <td>9452.0</td>\n      <td>4.0</td>\n      <td>4.9737</td>\n      <td>6.4292</td>\n      <td>2.4731</td>\n    </tr>\n    <tr>\n      <th>11</th>\n      <td>0</td>\n      <td>http://data.europa.eu/esco/occupation/00030d09...</td>\n      <td>technical director</td>\n      <td>2166</td>\n      <td>27-1011.00</td>\n      <td>art directors</td>\n      <td>2</td>\n      <td>21</td>\n      <td>216</td>\n      <td>36.670202</td>\n      <td>37555.308176</td>\n      <td>0.000294</td>\n      <td>9452.0</td>\n      <td>4.0</td>\n      <td>5.3847</td>\n      <td>5.9240</td>\n      <td>3.0385</td>\n    </tr>\n    <tr>\n      <th>13</th>\n      <td>0</td>\n      <td>http://data.europa.eu/esco/occupation/00030d09...</td>\n      <td>technical director</td>\n      <td>2166</td>\n      <td>27-1011.00</td>\n      <td>art directors</td>\n      <td>2</td>\n      <td>21</td>\n      <td>216</td>\n      <td>36.670202</td>\n      <td>37555.308176</td>\n      <td>0.000294</td>\n      <td>9452.0</td>\n      <td>3.0</td>\n      <td>5.0687</td>\n      <td>6.7961</td>\n      <td>2.6492</td>\n    </tr>\n    <tr>\n      <th>...</th>\n      <td>...</td>\n      <td>...</td>\n      <td>...</td>\n      <td>...</td>\n      <td>...</td>\n      <td>...</td>\n      <td>...</td>\n      <td>...</td>\n      <td>...</td>\n      <td>...</td>\n      <td>...</td>\n      <td>...</td>\n      <td>...</td>\n      <td>...</td>\n      <td>...</td>\n      <td>...</td>\n      <td>...</td>\n    </tr>\n    <tr>\n      <th>52318</th>\n      <td>2940</td>\n      <td>http://data.europa.eu/esco/occupation/ffade2f4...</td>\n      <td>civil service administrative officer</td>\n      <td>2422</td>\n      <td>11-3011.00</td>\n      <td>administrative services managers</td>\n      <td>2</td>\n      <td>24</td>\n      <td>242</td>\n      <td>35.240566</td>\n      <td>33292.986333</td>\n      <td>0.001128</td>\n      <td>36261.0</td>\n      <td>3.0</td>\n      <td>3.2500</td>\n      <td>5.8000</td>\n      <td>4.2000</td>\n    </tr>\n    <tr>\n      <th>52322</th>\n      <td>2940</td>\n      <td>http://data.europa.eu/esco/occupation/ffade2f4...</td>\n      <td>civil service administrative officer</td>\n      <td>2422</td>\n      <td>11-3011.00</td>\n      <td>administrative services managers</td>\n      <td>2</td>\n      <td>24</td>\n      <td>242</td>\n      <td>35.240566</td>\n      <td>33292.986333</td>\n      <td>0.001128</td>\n      <td>36261.0</td>\n      <td>3.0</td>\n      <td>4.4890</td>\n      <td>6.6837</td>\n      <td>3.1881</td>\n    </tr>\n    <tr>\n      <th>52326</th>\n      <td>2940</td>\n      <td>http://data.europa.eu/esco/occupation/ffade2f4...</td>\n      <td>civil service administrative officer</td>\n      <td>2422</td>\n      <td>11-3011.00</td>\n      <td>administrative services managers</td>\n      <td>2</td>\n      <td>24</td>\n      <td>242</td>\n      <td>35.240566</td>\n      <td>33292.986333</td>\n      <td>0.001128</td>\n      <td>36261.0</td>\n      <td>3.0</td>\n      <td>3.9636</td>\n      <td>6.9711</td>\n      <td>3.4248</td>\n    </tr>\n    <tr>\n      <th>52327</th>\n      <td>2941</td>\n      <td>http://data.europa.eu/esco/occupation/ffc292f1...</td>\n      <td>motor vehicle assembler</td>\n      <td>8211</td>\n      <td>51-2031.00</td>\n      <td>engine and other machine assemblers</td>\n      <td>8</td>\n      <td>82</td>\n      <td>821</td>\n      <td>41.487179</td>\n      <td>29879.320665</td>\n      <td>0.000167</td>\n      <td>5356.0</td>\n      <td>2.0</td>\n      <td>3.0625</td>\n      <td>5.3635</td>\n      <td>4.0223</td>\n    </tr>\n    <tr>\n      <th>52328</th>\n      <td>2941</td>\n      <td>http://data.europa.eu/esco/occupation/ffc292f1...</td>\n      <td>motor vehicle assembler</td>\n      <td>8211</td>\n      <td>51-2031.00</td>\n      <td>engine and other machine assemblers</td>\n      <td>8</td>\n      <td>82</td>\n      <td>821</td>\n      <td>41.487179</td>\n      <td>29879.320665</td>\n      <td>0.000167</td>\n      <td>5356.0</td>\n      <td>2.0</td>\n      <td>2.5437</td>\n      <td>5.1766</td>\n      <td>4.4145</td>\n    </tr>\n  </tbody>\n</table>\n<p>11244 rows × 17 columns</p>\n</div>"
     },
     "execution_count": 128,
     "metadata": {},
     "output_type": "execute_result"
    }
   ],
   "source": [
    "df_merged_4 = pd.merge(\n",
    "    left=df_merged_3,\n",
    "    right=job_zones[[\"isco_level_4\", \"job_zone\", \"education_level\", \"related_work_experience\", \"on_the_job_training\"]],\n",
    "    on=\"isco_level_4\",\n",
    "    how=\"left\"\n",
    ").drop_duplicates()\n",
    "\n",
    "df_merged_4"
   ],
   "metadata": {
    "collapsed": false,
    "pycharm": {
     "name": "#%%\n"
    }
   }
  },
  {
   "cell_type": "code",
   "execution_count": 110,
   "outputs": [],
   "source": [
    "df_merged_3.to_csv(\n",
    "    os.path.join(data_interim, \"ESCO_ONET_xwalk_full_merged_metadata.csv\")\n",
    ")"
   ],
   "metadata": {
    "collapsed": false,
    "pycharm": {
     "name": "#%%\n"
    }
   }
  }
 ],
 "metadata": {
  "kernelspec": {
   "display_name": "Python 3",
   "language": "python",
   "name": "python3"
  },
  "language_info": {
   "codemirror_mode": {
    "name": "ipython",
    "version": 2
   },
   "file_extension": ".py",
   "mimetype": "text/x-python",
   "name": "python",
   "nbconvert_exporter": "python",
   "pygments_lexer": "ipython2",
   "version": "2.7.6"
  }
 },
 "nbformat": 4,
 "nbformat_minor": 0
}