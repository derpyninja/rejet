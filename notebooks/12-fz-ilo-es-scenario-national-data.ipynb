{
 "cells": [
  {
   "cell_type": "markdown",
   "source": [
    "# Read and clean national data from ILO ES scenario and plot on map\n",
    "Felix Zaussinger | 27.07.2021\n",
    "\n",
    "## Core Analysis Goal(s)\n",
    "1.\n",
    "2.\n",
    "3.\n",
    "\n",
    "## Key Insight(s)\n",
    "1.\n",
    "2.\n",
    "3."
   ],
   "metadata": {
    "collapsed": false,
    "pycharm": {
     "name": "#%% md\n"
    }
   }
  },
  {
   "cell_type": "code",
   "execution_count": 1,
   "metadata": {
    "collapsed": true
   },
   "outputs": [],
   "source": [
    "import os\n",
    "import sys\n",
    "import logging\n",
    "from pathlib import Path\n",
    "\n",
    "import numpy as np\n",
    "import scipy as sp\n",
    "import statsmodels.api as sm\n",
    "from statsmodels.formula.api import ols\n",
    "\n",
    "%load_ext autoreload\n",
    "%autoreload 2\n",
    "\n",
    "import matplotlib as mpl\n",
    "import matplotlib.pyplot as plt\n",
    "%matplotlib inline\n",
    "%config InlineBackend.figure_format = 'retina'\n",
    "\n",
    "import seaborn as sns\n",
    "sns.set_context(\"paper\")\n",
    "sns.set(rc={'figure.figsize': (16, 9.)})\n",
    "sns.set_style(\"ticks\")\n",
    "\n",
    "import pandas as pd\n",
    "pd.set_option(\"display.max_rows\", 120)\n",
    "pd.set_option(\"display.max_columns\", 120)\n",
    "\n",
    "logging.basicConfig(level=logging.INFO, stream=sys.stdout)"
   ]
  },
  {
   "cell_type": "markdown",
   "source": [
    "Define directory structure"
   ],
   "metadata": {
    "collapsed": false,
    "pycharm": {
     "name": "#%% md\n"
    }
   }
  },
  {
   "cell_type": "code",
   "execution_count": 2,
   "outputs": [],
   "source": [
    "# project directory\n",
    "abspath = os.path.abspath('')\n",
    "project_dir = str(Path(abspath).parents[0])\n",
    "\n",
    "# sub-directories\n",
    "data_raw = os.path.join(project_dir, \"data\", \"raw\")\n",
    "data_interim = os.path.join(project_dir, \"data\", \"interim\")\n",
    "data_processed = os.path.join(project_dir, \"data\", \"processed\")\n",
    "figure_dir = os.path.join(project_dir, \"reports\", \"figures\")"
   ],
   "metadata": {
    "collapsed": false,
    "pycharm": {
     "name": "#%%\n"
    }
   }
  },
  {
   "cell_type": "markdown",
   "source": [
    "Data"
   ],
   "metadata": {
    "collapsed": false,
    "pycharm": {
     "name": "#%% md\n"
    }
   }
  },
  {
   "cell_type": "code",
   "execution_count": 3,
   "outputs": [],
   "source": [
    "fpath = os.path.join(data_raw, \"ilo_scenarios\", \"Employment 2030 country by industry_newksw_includingDifferences WORK ON IT.xlsx\")\n",
    "\n",
    "# 2°C - 6°C\n",
    "df_delta = pd.read_excel(\n",
    "    io=fpath,\n",
    "    sheet_name=\"Employment 2030\",\n",
    "    header=[37, 38, 39],\n",
    "    index_col=0,\n",
    "    nrows=6,\n",
    ").transpose()\n",
    "\n",
    "df_delta.index.set_names([\"country\", \"sector_code\", \"sector\"], inplace=True)\n",
    "df_delta *= 1000"
   ],
   "metadata": {
    "collapsed": false,
    "pycharm": {
     "name": "#%%\n"
    }
   }
  },
  {
   "cell_type": "code",
   "execution_count": 4,
   "outputs": [],
   "source": [
    "# 2°C\n",
    "df_deg2 = pd.read_excel(\n",
    "    io=fpath,\n",
    "    sheet_name=\"Employment 2030\",\n",
    "    header=[0,1,2],\n",
    "    index_col=0,\n",
    "    nrows=6,\n",
    ").transpose()\n",
    "\n",
    "df_deg2.index.set_names([\"country\", \"sector_code\", \"sector\"], inplace=True)\n",
    "df_deg2 *= 1000"
   ],
   "metadata": {
    "collapsed": false,
    "pycharm": {
     "name": "#%%\n"
    }
   }
  },
  {
   "cell_type": "code",
   "execution_count": 5,
   "outputs": [],
   "source": [
    "# 6°C\n",
    "df_deg6 = pd.read_excel(\n",
    "    io=fpath,\n",
    "    sheet_name=\"Employment 2030\",\n",
    "    header=[13,14,15],\n",
    "    index_col=0,\n",
    "    nrows=6,\n",
    ").transpose()\n",
    "\n",
    "df_deg6.index.set_names([\"country\", \"sector_code\", \"sector\"], inplace=True)\n",
    "df_deg6 *= 1000"
   ],
   "metadata": {
    "collapsed": false,
    "pycharm": {
     "name": "#%%\n"
    }
   }
  },
  {
   "cell_type": "code",
   "execution_count": 6,
   "outputs": [],
   "source": [
    "import geopandas as gpd"
   ],
   "metadata": {
    "collapsed": false,
    "pycharm": {
     "name": "#%%\n"
    }
   }
  },
  {
   "cell_type": "code",
   "execution_count": 7,
   "outputs": [],
   "source": [
    "shp_world = gpd.read_file(gpd.datasets.get_path(\"naturalearth_lowres\"))"
   ],
   "metadata": {
    "collapsed": false,
    "pycharm": {
     "name": "#%%\n"
    }
   }
  },
  {
   "cell_type": "code",
   "execution_count": 8,
   "outputs": [],
   "source": [
    "# manually assign missing/misaligned country codes\n",
    "shp_world.loc[shp_world.name == \"France\", \"iso_a3\"] = \"FRA\"\n",
    "shp_world.loc[shp_world.name == \"Romania\", \"iso_a3\"] = \"ROM\"\n",
    "shp_world.loc[shp_world.name == \"Norway\", \"iso_a3\"] = \"NOR\""
   ],
   "metadata": {
    "collapsed": false,
    "pycharm": {
     "name": "#%%\n"
    }
   }
  },
  {
   "cell_type": "code",
   "execution_count": 9,
   "outputs": [],
   "source": [
    "# higher resolution shapefile\n",
    "f = gpd.read_file(os.path.join(data_raw, \"ilo_scenarios\", \"ne_10m_admin_0_countries\", \"ne_10m_admin_0_countries.shp\"))\n",
    "fsub = f.query(\"REGION_UN == 'Europe' & ADMIN != 'Russia'\")[[\"ADMIN\", \"POP_EST\", \"ISO_A3\", \"geometry\"]]\n",
    "fsub.columns = fsub.columns.str.lower()\n",
    "\n",
    "fsub.loc[fsub.admin == \"France\", \"iso_a3\"] = \"FRA\"\n",
    "fsub.loc[fsub.admin == \"Norway\", \"iso_a3\"] = \"NOR\"\n",
    "fsub.loc[fsub.admin == \"Romania\", \"iso_a3\"] = \"ROM\""
   ],
   "metadata": {
    "collapsed": false,
    "pycharm": {
     "name": "#%%\n"
    }
   }
  },
  {
   "cell_type": "code",
   "execution_count": 10,
   "outputs": [
    {
     "data": {
      "text/plain": "                      admin   pop_est iso_a3  \\\n22                   France  67106161    FRA   \n34                  Ukraine  44033874    UKR   \n35                  Belarus   9549747    BLR   \n44                Lithuania   2823859    LTU   \n49                  Czechia  10674723    CZE   \n50                  Germany  80594017    DEU   \n51                  Estonia   1251581    EST   \n52                   Latvia   1944643    LVA   \n53                   Norway   5320045    NOR   \n54                   Sweden   9960487    SWE   \n55                  Finland   5491218    FIN   \n58               Luxembourg    594130    LUX   \n60                  Belgium  11491346    BEL   \n62                Macedonia   2103721    MKD   \n63                  Albania   3047987    ALB   \n65                   Kosovo   1895250    -99   \n67                    Spain  48958159    ESP   \n71                  Denmark   5605948    DNK   \n74                  Romania  21529967    ROM   \n75                  Hungary   9850845    HUN   \n76                 Slovakia   5445829    SVK   \n77                   Poland  38476269    POL   \n78                  Ireland   5011102    IRL   \n79           United Kingdom  64769452    GBR   \n80                   Greece  10768477    GRC   \n89                  Austria   8754413    AUT   \n91                    Italy  62137802    ITA   \n92              Switzerland   8236303    CHE   \n94              Netherlands  17084719    NLD   \n95            Liechtenstein     38244    LIE   \n97       Republic of Serbia   7111024    SRB   \n103                 Croatia   4292095    HRV   \n104                Slovenia   1972126    SVN   \n109                Bulgaria   7101510    BGR   \n111              San Marino     33537    SMR   \n120                  Monaco     30645    MCO   \n128                 Andorra     85702    AND   \n130              Montenegro    642550    MNE   \n131  Bosnia and Herzegovina   3856181    BIH   \n139                Portugal  10839514    PRT   \n140                 Moldova   3474121    MDA   \n152               Gibraltar     29396    GIB   \n166                 Vatican      1000    VAT   \n188                 Iceland    339747    ISL   \n219                   Malta    416338    MLT   \n220                  Jersey     98840    JEY   \n221                Guernsey     66502    GGY   \n222             Isle of Man     88815    IMN   \n223                   Aland     27153    ALA   \n224           Faroe Islands     50730    FRO   \n\n                                              geometry  \n22   MULTIPOLYGON (((-54.11153 2.11427, -54.13491 2...  \n34   MULTIPOLYGON (((31.76434 52.10057, 31.82584 52...  \n35   POLYGON ((23.60624 51.51740, 23.60231 51.53078...  \n44   MULTIPOLYGON (((26.59453 55.66699, 26.60383 55...  \n49   POLYGON ((14.81039 50.85845, 14.83168 50.85798...  \n50   MULTIPOLYGON (((13.81572 48.76643, 13.78586 48...  \n51   MULTIPOLYGON (((24.30616 57.86819, 24.31666 57...  \n52   POLYGON ((27.35293 57.52760, 27.52817 57.52848...  \n53   MULTIPOLYGON (((20.62316 69.03636, 20.36272 69...  \n54   MULTIPOLYGON (((20.62316 69.03636, 20.67546 69...  \n55   MULTIPOLYGON (((28.95408 69.02726, 28.83346 68...  \n58   POLYGON ((6.11749 50.12046, 6.11056 50.10599, ...  \n60   POLYGON ((2.52180 51.08754, 2.54200 51.09687, ...  \n62   POLYGON ((20.56715 41.87318, 20.59030 41.85473...  \n63   POLYGON ((20.56715 41.87318, 20.54172 41.86158...  \n65   POLYGON ((20.06496 42.54676, 20.07705 42.55991...  \n67   MULTIPOLYGON (((-5.34073 35.84736, -5.36290 35...  \n71   MULTIPOLYGON (((8.66078 54.89631, 8.66879 54.9...  \n74   POLYGON ((22.87760 47.94674, 22.89786 47.95098...  \n75   POLYGON ((22.87760 47.94674, 22.86117 47.93382...  \n76   POLYGON ((22.53964 49.07220, 22.53199 49.05571...  \n77   POLYGON ((18.83320 49.51026, 18.83743 49.52695...  \n78   MULTIPOLYGON (((-7.24710 55.06932, -7.26650 55...  \n79   MULTIPOLYGON (((-7.24710 55.06932, -7.25674 55...  \n80   MULTIPOLYGON (((20.96526 40.84939, 21.11213 40...  \n89   POLYGON ((16.94504 48.60417, 16.95434 48.55740...  \n91   MULTIPOLYGON (((7.02208 45.92526, 7.06694 45.8...  \n92   POLYGON ((10.45381 46.86443, 10.44854 46.83223...  \n94   MULTIPOLYGON (((7.19459 53.24502, 7.19747 53.2...  \n95   POLYGON ((9.52115 47.26280, 9.53025 47.25365, ...  \n97   POLYGON ((20.24283 46.10809, 20.30566 46.05357...  \n103  MULTIPOLYGON (((16.51530 46.50171, 16.52109 46...  \n104  POLYGON ((13.58953 45.48884, 13.59164 45.49311...  \n109  POLYGON ((26.33336 41.71304, 26.29491 41.71032...  \n111  POLYGON ((12.42945 43.89206, 12.39958 43.90322...  \n120  POLYGON ((7.43745 43.74336, 7.43285 43.73985, ...  \n128  POLYGON ((1.70701 42.50278, 1.69750 42.49446, ...  \n130  POLYGON ((18.49643 42.41633, 18.49782 42.43116...  \n131  POLYGON ((17.65333 42.89094, 17.65284 42.89118...  \n139  MULTIPOLYGON (((-7.27043 38.61770, -7.27586 38...  \n140  POLYGON ((26.61789 48.25897, 26.61861 48.26718...  \n152  POLYGON ((-5.35839 36.14111, -5.33877 36.14112...  \n166  POLYGON ((12.45314 41.90275, 12.45271 41.90302...  \n188  MULTIPOLYGON (((-14.56363 66.38451, -14.61075 ...  \n219  MULTIPOLYGON (((14.54802 35.89004, 14.56316 35...  \n220  POLYGON ((-2.08267 49.26024, -2.06786 49.25068...  \n221  MULTIPOLYGON (((-2.58023 49.49360, -2.55956 49...  \n222  POLYGON ((-4.61213 54.05695, -4.62076 54.06965...  \n223  MULTIPOLYGON (((20.27760 60.14216, 20.29762 60...  \n224  MULTIPOLYGON (((-6.65477 61.39594, -6.67760 61...  ",
      "text/html": "<div>\n<style scoped>\n    .dataframe tbody tr th:only-of-type {\n        vertical-align: middle;\n    }\n\n    .dataframe tbody tr th {\n        vertical-align: top;\n    }\n\n    .dataframe thead th {\n        text-align: right;\n    }\n</style>\n<table border=\"1\" class=\"dataframe\">\n  <thead>\n    <tr style=\"text-align: right;\">\n      <th></th>\n      <th>admin</th>\n      <th>pop_est</th>\n      <th>iso_a3</th>\n      <th>geometry</th>\n    </tr>\n  </thead>\n  <tbody>\n    <tr>\n      <th>22</th>\n      <td>France</td>\n      <td>67106161</td>\n      <td>FRA</td>\n      <td>MULTIPOLYGON (((-54.11153 2.11427, -54.13491 2...</td>\n    </tr>\n    <tr>\n      <th>34</th>\n      <td>Ukraine</td>\n      <td>44033874</td>\n      <td>UKR</td>\n      <td>MULTIPOLYGON (((31.76434 52.10057, 31.82584 52...</td>\n    </tr>\n    <tr>\n      <th>35</th>\n      <td>Belarus</td>\n      <td>9549747</td>\n      <td>BLR</td>\n      <td>POLYGON ((23.60624 51.51740, 23.60231 51.53078...</td>\n    </tr>\n    <tr>\n      <th>44</th>\n      <td>Lithuania</td>\n      <td>2823859</td>\n      <td>LTU</td>\n      <td>MULTIPOLYGON (((26.59453 55.66699, 26.60383 55...</td>\n    </tr>\n    <tr>\n      <th>49</th>\n      <td>Czechia</td>\n      <td>10674723</td>\n      <td>CZE</td>\n      <td>POLYGON ((14.81039 50.85845, 14.83168 50.85798...</td>\n    </tr>\n    <tr>\n      <th>50</th>\n      <td>Germany</td>\n      <td>80594017</td>\n      <td>DEU</td>\n      <td>MULTIPOLYGON (((13.81572 48.76643, 13.78586 48...</td>\n    </tr>\n    <tr>\n      <th>51</th>\n      <td>Estonia</td>\n      <td>1251581</td>\n      <td>EST</td>\n      <td>MULTIPOLYGON (((24.30616 57.86819, 24.31666 57...</td>\n    </tr>\n    <tr>\n      <th>52</th>\n      <td>Latvia</td>\n      <td>1944643</td>\n      <td>LVA</td>\n      <td>POLYGON ((27.35293 57.52760, 27.52817 57.52848...</td>\n    </tr>\n    <tr>\n      <th>53</th>\n      <td>Norway</td>\n      <td>5320045</td>\n      <td>NOR</td>\n      <td>MULTIPOLYGON (((20.62316 69.03636, 20.36272 69...</td>\n    </tr>\n    <tr>\n      <th>54</th>\n      <td>Sweden</td>\n      <td>9960487</td>\n      <td>SWE</td>\n      <td>MULTIPOLYGON (((20.62316 69.03636, 20.67546 69...</td>\n    </tr>\n    <tr>\n      <th>55</th>\n      <td>Finland</td>\n      <td>5491218</td>\n      <td>FIN</td>\n      <td>MULTIPOLYGON (((28.95408 69.02726, 28.83346 68...</td>\n    </tr>\n    <tr>\n      <th>58</th>\n      <td>Luxembourg</td>\n      <td>594130</td>\n      <td>LUX</td>\n      <td>POLYGON ((6.11749 50.12046, 6.11056 50.10599, ...</td>\n    </tr>\n    <tr>\n      <th>60</th>\n      <td>Belgium</td>\n      <td>11491346</td>\n      <td>BEL</td>\n      <td>POLYGON ((2.52180 51.08754, 2.54200 51.09687, ...</td>\n    </tr>\n    <tr>\n      <th>62</th>\n      <td>Macedonia</td>\n      <td>2103721</td>\n      <td>MKD</td>\n      <td>POLYGON ((20.56715 41.87318, 20.59030 41.85473...</td>\n    </tr>\n    <tr>\n      <th>63</th>\n      <td>Albania</td>\n      <td>3047987</td>\n      <td>ALB</td>\n      <td>POLYGON ((20.56715 41.87318, 20.54172 41.86158...</td>\n    </tr>\n    <tr>\n      <th>65</th>\n      <td>Kosovo</td>\n      <td>1895250</td>\n      <td>-99</td>\n      <td>POLYGON ((20.06496 42.54676, 20.07705 42.55991...</td>\n    </tr>\n    <tr>\n      <th>67</th>\n      <td>Spain</td>\n      <td>48958159</td>\n      <td>ESP</td>\n      <td>MULTIPOLYGON (((-5.34073 35.84736, -5.36290 35...</td>\n    </tr>\n    <tr>\n      <th>71</th>\n      <td>Denmark</td>\n      <td>5605948</td>\n      <td>DNK</td>\n      <td>MULTIPOLYGON (((8.66078 54.89631, 8.66879 54.9...</td>\n    </tr>\n    <tr>\n      <th>74</th>\n      <td>Romania</td>\n      <td>21529967</td>\n      <td>ROM</td>\n      <td>POLYGON ((22.87760 47.94674, 22.89786 47.95098...</td>\n    </tr>\n    <tr>\n      <th>75</th>\n      <td>Hungary</td>\n      <td>9850845</td>\n      <td>HUN</td>\n      <td>POLYGON ((22.87760 47.94674, 22.86117 47.93382...</td>\n    </tr>\n    <tr>\n      <th>76</th>\n      <td>Slovakia</td>\n      <td>5445829</td>\n      <td>SVK</td>\n      <td>POLYGON ((22.53964 49.07220, 22.53199 49.05571...</td>\n    </tr>\n    <tr>\n      <th>77</th>\n      <td>Poland</td>\n      <td>38476269</td>\n      <td>POL</td>\n      <td>POLYGON ((18.83320 49.51026, 18.83743 49.52695...</td>\n    </tr>\n    <tr>\n      <th>78</th>\n      <td>Ireland</td>\n      <td>5011102</td>\n      <td>IRL</td>\n      <td>MULTIPOLYGON (((-7.24710 55.06932, -7.26650 55...</td>\n    </tr>\n    <tr>\n      <th>79</th>\n      <td>United Kingdom</td>\n      <td>64769452</td>\n      <td>GBR</td>\n      <td>MULTIPOLYGON (((-7.24710 55.06932, -7.25674 55...</td>\n    </tr>\n    <tr>\n      <th>80</th>\n      <td>Greece</td>\n      <td>10768477</td>\n      <td>GRC</td>\n      <td>MULTIPOLYGON (((20.96526 40.84939, 21.11213 40...</td>\n    </tr>\n    <tr>\n      <th>89</th>\n      <td>Austria</td>\n      <td>8754413</td>\n      <td>AUT</td>\n      <td>POLYGON ((16.94504 48.60417, 16.95434 48.55740...</td>\n    </tr>\n    <tr>\n      <th>91</th>\n      <td>Italy</td>\n      <td>62137802</td>\n      <td>ITA</td>\n      <td>MULTIPOLYGON (((7.02208 45.92526, 7.06694 45.8...</td>\n    </tr>\n    <tr>\n      <th>92</th>\n      <td>Switzerland</td>\n      <td>8236303</td>\n      <td>CHE</td>\n      <td>POLYGON ((10.45381 46.86443, 10.44854 46.83223...</td>\n    </tr>\n    <tr>\n      <th>94</th>\n      <td>Netherlands</td>\n      <td>17084719</td>\n      <td>NLD</td>\n      <td>MULTIPOLYGON (((7.19459 53.24502, 7.19747 53.2...</td>\n    </tr>\n    <tr>\n      <th>95</th>\n      <td>Liechtenstein</td>\n      <td>38244</td>\n      <td>LIE</td>\n      <td>POLYGON ((9.52115 47.26280, 9.53025 47.25365, ...</td>\n    </tr>\n    <tr>\n      <th>97</th>\n      <td>Republic of Serbia</td>\n      <td>7111024</td>\n      <td>SRB</td>\n      <td>POLYGON ((20.24283 46.10809, 20.30566 46.05357...</td>\n    </tr>\n    <tr>\n      <th>103</th>\n      <td>Croatia</td>\n      <td>4292095</td>\n      <td>HRV</td>\n      <td>MULTIPOLYGON (((16.51530 46.50171, 16.52109 46...</td>\n    </tr>\n    <tr>\n      <th>104</th>\n      <td>Slovenia</td>\n      <td>1972126</td>\n      <td>SVN</td>\n      <td>POLYGON ((13.58953 45.48884, 13.59164 45.49311...</td>\n    </tr>\n    <tr>\n      <th>109</th>\n      <td>Bulgaria</td>\n      <td>7101510</td>\n      <td>BGR</td>\n      <td>POLYGON ((26.33336 41.71304, 26.29491 41.71032...</td>\n    </tr>\n    <tr>\n      <th>111</th>\n      <td>San Marino</td>\n      <td>33537</td>\n      <td>SMR</td>\n      <td>POLYGON ((12.42945 43.89206, 12.39958 43.90322...</td>\n    </tr>\n    <tr>\n      <th>120</th>\n      <td>Monaco</td>\n      <td>30645</td>\n      <td>MCO</td>\n      <td>POLYGON ((7.43745 43.74336, 7.43285 43.73985, ...</td>\n    </tr>\n    <tr>\n      <th>128</th>\n      <td>Andorra</td>\n      <td>85702</td>\n      <td>AND</td>\n      <td>POLYGON ((1.70701 42.50278, 1.69750 42.49446, ...</td>\n    </tr>\n    <tr>\n      <th>130</th>\n      <td>Montenegro</td>\n      <td>642550</td>\n      <td>MNE</td>\n      <td>POLYGON ((18.49643 42.41633, 18.49782 42.43116...</td>\n    </tr>\n    <tr>\n      <th>131</th>\n      <td>Bosnia and Herzegovina</td>\n      <td>3856181</td>\n      <td>BIH</td>\n      <td>POLYGON ((17.65333 42.89094, 17.65284 42.89118...</td>\n    </tr>\n    <tr>\n      <th>139</th>\n      <td>Portugal</td>\n      <td>10839514</td>\n      <td>PRT</td>\n      <td>MULTIPOLYGON (((-7.27043 38.61770, -7.27586 38...</td>\n    </tr>\n    <tr>\n      <th>140</th>\n      <td>Moldova</td>\n      <td>3474121</td>\n      <td>MDA</td>\n      <td>POLYGON ((26.61789 48.25897, 26.61861 48.26718...</td>\n    </tr>\n    <tr>\n      <th>152</th>\n      <td>Gibraltar</td>\n      <td>29396</td>\n      <td>GIB</td>\n      <td>POLYGON ((-5.35839 36.14111, -5.33877 36.14112...</td>\n    </tr>\n    <tr>\n      <th>166</th>\n      <td>Vatican</td>\n      <td>1000</td>\n      <td>VAT</td>\n      <td>POLYGON ((12.45314 41.90275, 12.45271 41.90302...</td>\n    </tr>\n    <tr>\n      <th>188</th>\n      <td>Iceland</td>\n      <td>339747</td>\n      <td>ISL</td>\n      <td>MULTIPOLYGON (((-14.56363 66.38451, -14.61075 ...</td>\n    </tr>\n    <tr>\n      <th>219</th>\n      <td>Malta</td>\n      <td>416338</td>\n      <td>MLT</td>\n      <td>MULTIPOLYGON (((14.54802 35.89004, 14.56316 35...</td>\n    </tr>\n    <tr>\n      <th>220</th>\n      <td>Jersey</td>\n      <td>98840</td>\n      <td>JEY</td>\n      <td>POLYGON ((-2.08267 49.26024, -2.06786 49.25068...</td>\n    </tr>\n    <tr>\n      <th>221</th>\n      <td>Guernsey</td>\n      <td>66502</td>\n      <td>GGY</td>\n      <td>MULTIPOLYGON (((-2.58023 49.49360, -2.55956 49...</td>\n    </tr>\n    <tr>\n      <th>222</th>\n      <td>Isle of Man</td>\n      <td>88815</td>\n      <td>IMN</td>\n      <td>POLYGON ((-4.61213 54.05695, -4.62076 54.06965...</td>\n    </tr>\n    <tr>\n      <th>223</th>\n      <td>Aland</td>\n      <td>27153</td>\n      <td>ALA</td>\n      <td>MULTIPOLYGON (((20.27760 60.14216, 20.29762 60...</td>\n    </tr>\n    <tr>\n      <th>224</th>\n      <td>Faroe Islands</td>\n      <td>50730</td>\n      <td>FRO</td>\n      <td>MULTIPOLYGON (((-6.65477 61.39594, -6.67760 61...</td>\n    </tr>\n  </tbody>\n</table>\n</div>"
     },
     "execution_count": 10,
     "metadata": {},
     "output_type": "execute_result"
    }
   ],
   "source": [
    "fsub"
   ],
   "metadata": {
    "collapsed": false,
    "pycharm": {
     "name": "#%%\n"
    }
   }
  },
  {
   "cell_type": "code",
   "execution_count": 11,
   "outputs": [
    {
     "data": {
      "text/plain": "{'AUT': 'AUT',\n 'BEL': 'BEL',\n 'BGR': 'BGR',\n 'CYP': None,\n 'CZE': 'CZE',\n 'DEU': 'DEU',\n 'DNK': 'DNK',\n 'EST': 'EST',\n 'ESP': 'ESP',\n 'FIN': 'FIN',\n 'FRA': 'FRA',\n 'GRC': 'GRC',\n 'HRV': 'HRV',\n 'HUN': 'HUN',\n 'IRL': 'IRL',\n 'ITA': 'ITA',\n 'LTU': 'LTU',\n 'LUX': 'LUX',\n 'LVA': 'LVA',\n 'MLT': 'MLT',\n 'NLD': 'NLD',\n 'POL': 'POL',\n 'PRT': 'PRT',\n 'ROM': 'ROM',\n 'SWE': 'SWE',\n 'SVN': 'SVN',\n 'SVK': 'SVK',\n 'GBR': 'GBR',\n 'USA': None,\n 'JPN': None,\n 'CHN': None,\n 'CAN': None,\n 'KOR': None,\n 'BRA': None,\n 'IND': None,\n 'MEX': None,\n 'RUS': None,\n 'AUS': None,\n 'CHE': 'CHE',\n 'TUR': None,\n 'TWN': None,\n 'NOR': 'NOR',\n 'IDN': None,\n 'ZAF': None,\n 'WWA': None,\n 'WWL': None,\n 'WWE': None,\n 'WWF': None,\n 'WWM': None}"
     },
     "execution_count": 11,
     "metadata": {},
     "output_type": "execute_result"
    }
   ],
   "source": [
    "# control step\n",
    "country_codes = df_deg2.index.get_level_values(\"country\").unique()\n",
    "matches = [c if c in fsub.iso_a3.values else None for c in country_codes]\n",
    "\n",
    "dict(zip(country_codes, matches))"
   ],
   "metadata": {
    "collapsed": false,
    "pycharm": {
     "name": "#%%\n"
    }
   }
  },
  {
   "cell_type": "code",
   "execution_count": 12,
   "outputs": [],
   "source": [
    "df_delta[\"iso_a3\"] = df_delta.index.get_level_values(\"country\")"
   ],
   "metadata": {
    "collapsed": false,
    "pycharm": {
     "name": "#%%\n"
    }
   }
  },
  {
   "cell_type": "code",
   "execution_count": 13,
   "outputs": [],
   "source": [
    "df_delta['Employment: Total'] = df_delta.sum(axis=1).values"
   ],
   "metadata": {
    "collapsed": false,
    "pycharm": {
     "name": "#%%\n"
    }
   }
  },
  {
   "cell_type": "code",
   "execution_count": 14,
   "outputs": [],
   "source": [
    "gdf_delta = pd.merge(\n",
    "    df_delta.reset_index(),\n",
    "    fsub,\n",
    "    on=\"iso_a3\",\n",
    "    how=\"left\"\n",
    ").set_index([\"country\", \"sector_code\", \"sector\"])\n",
    "\n",
    "gdf_delta = gpd.GeoDataFrame(gdf_delta)"
   ],
   "metadata": {
    "collapsed": false,
    "pycharm": {
     "name": "#%%\n"
    }
   }
  },
  {
   "cell_type": "code",
   "execution_count": 15,
   "outputs": [],
   "source": [
    "# eliminate french islands\n",
    "polygon_fra = gdf_delta.loc[gdf_delta.index.get_level_values(0) == \"FRA\"].iloc[0].geometry[1]\n",
    "gdf_delta.loc[gdf_delta.index.get_level_values(0) == \"FRA\", \"geometry\"] = [polygon_fra] * len(gdf_delta.loc[gdf_delta.index.get_level_values(0) == \"FRA\"].geometry)"
   ],
   "metadata": {
    "collapsed": false,
    "pycharm": {
     "name": "#%%\n"
    }
   }
  },
  {
   "cell_type": "code",
   "execution_count": 20,
   "outputs": [
    {
     "name": "stdout",
     "output_type": "stream",
     "text": [
      "i01.a Cultivation of paddy rice\n"
     ]
    },
    {
     "ename": "AssertionError",
     "evalue": "",
     "output_type": "error",
     "traceback": [
      "\u001B[0;31m---------------------------------------------------------------------------\u001B[0m",
      "\u001B[0;31mAssertionError\u001B[0m                            Traceback (most recent call last)",
      "\u001B[0;32m<ipython-input-20-0691ec1aae59>\u001B[0m in \u001B[0;36m<module>\u001B[0;34m\u001B[0m\n\u001B[1;32m     45\u001B[0m     \u001B[0mplt\u001B[0m\u001B[0;34m.\u001B[0m\u001B[0mclose\u001B[0m\u001B[0;34m(\u001B[0m\u001B[0;34m)\u001B[0m\u001B[0;34m\u001B[0m\u001B[0;34m\u001B[0m\u001B[0m\n\u001B[1;32m     46\u001B[0m \u001B[0;34m\u001B[0m\u001B[0m\n\u001B[0;32m---> 47\u001B[0;31m     \u001B[0;32massert\u001B[0m \u001B[0;36m1\u001B[0m \u001B[0;34m==\u001B[0m \u001B[0;36m2\u001B[0m\u001B[0;34m\u001B[0m\u001B[0;34m\u001B[0m\u001B[0m\n\u001B[0m",
      "\u001B[0;31mAssertionError\u001B[0m: "
     ]
    }
   ],
   "source": [
    "sns.set_context(\"paper\", font_scale=1.5)\n",
    "\n",
    "# quantile for plotting value range\n",
    "q = 0.05\n",
    "\n",
    "# variable for plotting\n",
    "col = 'Employment: Total'\n",
    "\n",
    "for subset_sector, subset_code in zip(gdf_delta.index.get_level_values(\"sector\").unique(),\n",
    "                                      gdf_delta.index.get_level_values(\"sector_code\").unique()):\n",
    "    print(subset_code, subset_sector)\n",
    "\n",
    "    data = gdf_delta.dropna(subset=[\"admin\"]).query(\"sector == '{}'\".format(subset_sector))\n",
    "    normval = np.max([np.abs(data[col].quantile(q=q)), np.abs(data[col].quantile(q=1-q))])\n",
    "    # no change case\n",
    "    if normval == 0:\n",
    "        continue\n",
    "    divnorm = mpl.colors.TwoSlopeNorm(vcenter=0, vmin=-normval, vmax=normval)\n",
    "\n",
    "    ax = data.plot(\n",
    "        column=col,\n",
    "        legend=True,\n",
    "        legend_kwds={'label': \"$\\Delta$ Employment [-]\", \"extend\": \"both\", \"fraction\": 0.02, \"pad\": 0.01},\n",
    "        cmap=plt.get_cmap(\"coolwarm_r\"),\n",
    "        norm=divnorm\n",
    "    )\n",
    "\n",
    "    data.apply(lambda x: ax.annotate(int(x['Employment: Total']), xy=x.geometry.centroid.coords[0], ha='center'), axis=1)\n",
    "\n",
    "    #ax.set_xlabel(\"Longitude (°)\")\n",
    "    #ax.set_ylabel(\"Latitude (°)\")\n",
    "\n",
    "    ax.set_xlim(-12, 33)\n",
    "    ax.set_ylim(33, 73)\n",
    "\n",
    "    ax.axis(\"off\")\n",
    "    plt.tight_layout()\n",
    "\n",
    "    plt.savefig(\n",
    "        os.path.join(figure_dir, \"ilo_es_maps\", \"{}_{}.png\".format(subset_code, \"_\".join(subset_sector.split(\" \")))),\n",
    "        dpi=150,\n",
    "        bbox_inches=\"tight\"\n",
    "    )\n",
    "\n",
    "    plt.close()\n",
    "\n",
    "    assert 1 == 2"
   ],
   "metadata": {
    "collapsed": false,
    "pycharm": {
     "name": "#%%\n"
    }
   }
  }
 ],
 "metadata": {
  "kernelspec": {
   "display_name": "Python 3",
   "language": "python",
   "name": "python3"
  },
  "language_info": {
   "codemirror_mode": {
    "name": "ipython",
    "version": 2
   },
   "file_extension": ".py",
   "mimetype": "text/x-python",
   "name": "python",
   "nbconvert_exporter": "python",
   "pygments_lexer": "ipython2",
   "version": "2.7.6"
  }
 },
 "nbformat": 4,
 "nbformat_minor": 0
}