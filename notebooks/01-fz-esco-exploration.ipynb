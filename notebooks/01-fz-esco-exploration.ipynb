{
 "cells": [
  {
   "cell_type": "markdown",
   "source": [
    "# Exploration of ESCO data set\n",
    "Felix Zaussinger | 23.04.2021\n",
    "\n",
    "## Core Analysis Goal(s)\n",
    "1. Understand linkages between skills and occupations\n",
    "2. Understand how the individual data sets could be merged\n",
    "\n",
    "## Key Insight(s)\n",
    "1.\n",
    "2.\n",
    "3."
   ],
   "metadata": {
    "collapsed": false,
    "pycharm": {
     "name": "#%% md\n"
    }
   }
  },
  {
   "cell_type": "code",
   "execution_count": 16,
   "metadata": {
    "collapsed": true
   },
   "outputs": [
    {
     "name": "stdout",
     "output_type": "stream",
     "text": [
      "The autoreload extension is already loaded. To reload it, use:\n",
      "  %reload_ext autoreload\n"
     ]
    }
   ],
   "source": [
    "import os\n",
    "import sys\n",
    "import logging\n",
    "from pathlib import Path\n",
    "\n",
    "import numpy as np\n",
    "import scipy as sp\n",
    "import statsmodels.api as sm\n",
    "from statsmodels.formula.api import ols\n",
    "\n",
    "%load_ext autoreload\n",
    "%autoreload 2\n",
    "\n",
    "import matplotlib as mpl\n",
    "import matplotlib.pyplot as plt\n",
    "%matplotlib inline\n",
    "%config InlineBackend.figure_format = 'retina'\n",
    "\n",
    "import seaborn as sns\n",
    "sns.set_context(\"poster\")\n",
    "sns.set(rc={'figure.figsize': (16, 9.)})\n",
    "sns.set_style(\"ticks\")\n",
    "\n",
    "import pandas as pd\n",
    "pd.set_option(\"display.max_rows\", 120)\n",
    "pd.set_option(\"display.max_columns\", 120)\n",
    "\n",
    "logging.basicConfig(level=logging.INFO, stream=sys.stdout)"
   ]
  },
  {
   "cell_type": "markdown",
   "source": [
    "Define directory structure"
   ],
   "metadata": {
    "collapsed": false,
    "pycharm": {
     "name": "#%% md\n"
    }
   }
  },
  {
   "cell_type": "code",
   "execution_count": 17,
   "outputs": [],
   "source": [
    "# project directory\n",
    "abspath = os.path.abspath('')\n",
    "project_dir = str(Path(abspath).parents[0])\n",
    "\n",
    "# sub-directories\n",
    "data_raw = os.path.join(project_dir, \"data\", \"raw\")\n",
    "data_processed = os.path.join(project_dir, \"data\", \"processed\")\n",
    "figure_dir = os.path.join(project_dir, \"plots\")"
   ],
   "metadata": {
    "collapsed": false,
    "pycharm": {
     "name": "#%%\n"
    }
   }
  },
  {
   "cell_type": "markdown",
   "source": [
    "ESCO data set components"
   ],
   "metadata": {
    "collapsed": false,
    "pycharm": {
     "name": "#%% md\n"
    }
   }
  },
  {
   "cell_type": "code",
   "execution_count": 18,
   "outputs": [],
   "source": [
    "occ = pd.read_csv(os.path.join(data_raw, \"esco\", \"v1.0.3\", \"occupations_en.csv\"))\n",
    "skill_groups = pd.read_csv(os.path.join(data_raw, \"esco\", \"v1.0.3\", \"skillGroups_en.csv\"))\n",
    "skills = pd.read_csv(os.path.join(data_raw, \"esco\", \"v1.0.3\", \"skills_en.csv\"))\n",
    "occ_skills_mapping = pd.read_csv(os.path.join(data_raw, \"esco\", \"v1.0.3\", \"occupationSkillRelations.csv\"))"
   ],
   "metadata": {
    "collapsed": false,
    "pycharm": {
     "name": "#%%\n"
    }
   }
  },
  {
   "cell_type": "code",
   "execution_count": 19,
   "outputs": [
    {
     "data": {
      "text/plain": "                conceptType  \\\n0  KnowledgeSkillCompetence   \n1  KnowledgeSkillCompetence   \n2  KnowledgeSkillCompetence   \n3  KnowledgeSkillCompetence   \n4  KnowledgeSkillCompetence   \n\n                                          conceptUri         skillType  \\\n0  http://data.europa.eu/esco/skill/0005c151-5b5a...  skill/competence   \n1  http://data.europa.eu/esco/skill/00064735-8fad...  skill/competence   \n2  http://data.europa.eu/esco/skill/000709ed-2be5...  skill/competence   \n3  http://data.europa.eu/esco/skill/0007bdc2-dd15...  skill/competence   \n4  http://data.europa.eu/esco/skill/00090cc1-1f27...  skill/competence   \n\n            reuseLevel                                     preferredLabel  \\\n0      sector-specific                               manage musical staff   \n1  occupation-specific                  supervise correctional procedures   \n2      sector-specific                    apply anti-oppressive practices   \n3      sector-specific  control compliance of railway vehicles regulat...   \n4         cross-sector                        identify available services   \n\n                                           altLabels hiddenLabels    status  \\\n0  manage staff of music\\ncoordinate duties of mu...          NaN  released   \n1  oversee prison procedures\\nmanage correctional...          NaN  released   \n2  apply non-oppressive practices\\napply an anti-...          NaN  released   \n3  monitoring of compliance with railway vehicles...          NaN  released   \n4  establish available services\\ndetermine rehabi...          NaN  released   \n\n           modifiedDate scopeNote definition  \\\n0  2016-12-20T17:43:43Z       NaN        NaN   \n1  2016-12-20T20:17:49Z       NaN        NaN   \n2  2016-12-20T19:18:19Z       NaN        NaN   \n3  2016-12-20T20:02:19Z       NaN        NaN   \n4  2016-12-20T20:15:17Z       NaN        NaN   \n\n                                            inScheme  \\\n0  http://data.europa.eu/esco/concept-scheme/skil...   \n1  http://data.europa.eu/esco/concept-scheme/memb...   \n2  http://data.europa.eu/esco/concept-scheme/skil...   \n3  http://data.europa.eu/esco/concept-scheme/skil...   \n4  http://data.europa.eu/esco/concept-scheme/memb...   \n\n                                         description  \n0  Assign and manage staff tasks in areas such as...  \n1  Supervise the operations of a correctional fac...  \n2  Identify oppression in societies, economies, c...  \n3  Inspect rolling stock, components and systems ...  \n4  Identify the different services available for ...  ",
      "text/html": "<div>\n<style scoped>\n    .dataframe tbody tr th:only-of-type {\n        vertical-align: middle;\n    }\n\n    .dataframe tbody tr th {\n        vertical-align: top;\n    }\n\n    .dataframe thead th {\n        text-align: right;\n    }\n</style>\n<table border=\"1\" class=\"dataframe\">\n  <thead>\n    <tr style=\"text-align: right;\">\n      <th></th>\n      <th>conceptType</th>\n      <th>conceptUri</th>\n      <th>skillType</th>\n      <th>reuseLevel</th>\n      <th>preferredLabel</th>\n      <th>altLabels</th>\n      <th>hiddenLabels</th>\n      <th>status</th>\n      <th>modifiedDate</th>\n      <th>scopeNote</th>\n      <th>definition</th>\n      <th>inScheme</th>\n      <th>description</th>\n    </tr>\n  </thead>\n  <tbody>\n    <tr>\n      <th>0</th>\n      <td>KnowledgeSkillCompetence</td>\n      <td>http://data.europa.eu/esco/skill/0005c151-5b5a...</td>\n      <td>skill/competence</td>\n      <td>sector-specific</td>\n      <td>manage musical staff</td>\n      <td>manage staff of music\\ncoordinate duties of mu...</td>\n      <td>NaN</td>\n      <td>released</td>\n      <td>2016-12-20T17:43:43Z</td>\n      <td>NaN</td>\n      <td>NaN</td>\n      <td>http://data.europa.eu/esco/concept-scheme/skil...</td>\n      <td>Assign and manage staff tasks in areas such as...</td>\n    </tr>\n    <tr>\n      <th>1</th>\n      <td>KnowledgeSkillCompetence</td>\n      <td>http://data.europa.eu/esco/skill/00064735-8fad...</td>\n      <td>skill/competence</td>\n      <td>occupation-specific</td>\n      <td>supervise correctional procedures</td>\n      <td>oversee prison procedures\\nmanage correctional...</td>\n      <td>NaN</td>\n      <td>released</td>\n      <td>2016-12-20T20:17:49Z</td>\n      <td>NaN</td>\n      <td>NaN</td>\n      <td>http://data.europa.eu/esco/concept-scheme/memb...</td>\n      <td>Supervise the operations of a correctional fac...</td>\n    </tr>\n    <tr>\n      <th>2</th>\n      <td>KnowledgeSkillCompetence</td>\n      <td>http://data.europa.eu/esco/skill/000709ed-2be5...</td>\n      <td>skill/competence</td>\n      <td>sector-specific</td>\n      <td>apply anti-oppressive practices</td>\n      <td>apply non-oppressive practices\\napply an anti-...</td>\n      <td>NaN</td>\n      <td>released</td>\n      <td>2016-12-20T19:18:19Z</td>\n      <td>NaN</td>\n      <td>NaN</td>\n      <td>http://data.europa.eu/esco/concept-scheme/skil...</td>\n      <td>Identify oppression in societies, economies, c...</td>\n    </tr>\n    <tr>\n      <th>3</th>\n      <td>KnowledgeSkillCompetence</td>\n      <td>http://data.europa.eu/esco/skill/0007bdc2-dd15...</td>\n      <td>skill/competence</td>\n      <td>sector-specific</td>\n      <td>control compliance of railway vehicles regulat...</td>\n      <td>monitoring of compliance with railway vehicles...</td>\n      <td>NaN</td>\n      <td>released</td>\n      <td>2016-12-20T20:02:19Z</td>\n      <td>NaN</td>\n      <td>NaN</td>\n      <td>http://data.europa.eu/esco/concept-scheme/skil...</td>\n      <td>Inspect rolling stock, components and systems ...</td>\n    </tr>\n    <tr>\n      <th>4</th>\n      <td>KnowledgeSkillCompetence</td>\n      <td>http://data.europa.eu/esco/skill/00090cc1-1f27...</td>\n      <td>skill/competence</td>\n      <td>cross-sector</td>\n      <td>identify available services</td>\n      <td>establish available services\\ndetermine rehabi...</td>\n      <td>NaN</td>\n      <td>released</td>\n      <td>2016-12-20T20:15:17Z</td>\n      <td>NaN</td>\n      <td>NaN</td>\n      <td>http://data.europa.eu/esco/concept-scheme/memb...</td>\n      <td>Identify the different services available for ...</td>\n    </tr>\n  </tbody>\n</table>\n</div>"
     },
     "execution_count": 19,
     "metadata": {},
     "output_type": "execute_result"
    }
   ],
   "source": [
    "skills.head()\n",
    "\n"
   ],
   "metadata": {
    "collapsed": false,
    "pycharm": {
     "name": "#%%\n"
    }
   }
  }
 ],
 "metadata": {
  "kernelspec": {
   "display_name": "Python 3",
   "language": "python",
   "name": "python3"
  },
  "language_info": {
   "codemirror_mode": {
    "name": "ipython",
    "version": 2
   },
   "file_extension": ".py",
   "mimetype": "text/x-python",
   "name": "python",
   "nbconvert_exporter": "python",
   "pygments_lexer": "ipython2",
   "version": "2.7.6"
  }
 },
 "nbformat": 4,
 "nbformat_minor": 0
}